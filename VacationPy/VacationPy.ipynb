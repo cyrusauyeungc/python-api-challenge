{
 "cells": [
  {
   "cell_type": "markdown",
   "metadata": {},
   "source": [
    "# VacationPy\n",
    "----\n",
    "\n",
    "#### Note\n",
    "* Keep an eye on your API usage. Use https://developers.google.com/maps/reporting/gmp-reporting as reference for how to monitor your usage and billing.\n",
    "\n",
    "* Instructions have been included for each segment. You do not have to follow them exactly, but they are included to help you think through the steps."
   ]
  },
  {
   "cell_type": "code",
   "execution_count": 1,
   "metadata": {
    "ExecuteTime": {
     "end_time": "2020-10-15T17:53:40.569756Z",
     "start_time": "2020-10-15T17:53:39.674604Z"
    }
   },
   "outputs": [],
   "source": [
    "# Dependencies and Setup\n",
    "import matplotlib.pyplot as plt\n",
    "import pandas as pd\n",
    "import numpy as np\n",
    "import requests\n",
    "import gmaps\n",
    "import os\n",
    "\n",
    "# Import API key\n",
    "from api_keys import g_key"
   ]
  },
  {
   "cell_type": "markdown",
   "metadata": {},
   "source": [
    "### Store Part I results into DataFrame\n",
    "* Load the csv exported in Part I to a DataFrame"
   ]
  },
  {
   "cell_type": "code",
   "execution_count": 2,
   "metadata": {
    "ExecuteTime": {
     "end_time": "2020-10-15T17:53:40.589557Z",
     "start_time": "2020-10-15T17:53:40.573780Z"
    }
   },
   "outputs": [
    {
     "data": {
      "text/html": [
       "<div>\n",
       "<style scoped>\n",
       "    .dataframe tbody tr th:only-of-type {\n",
       "        vertical-align: middle;\n",
       "    }\n",
       "\n",
       "    .dataframe tbody tr th {\n",
       "        vertical-align: top;\n",
       "    }\n",
       "\n",
       "    .dataframe thead th {\n",
       "        text-align: right;\n",
       "    }\n",
       "</style>\n",
       "<table border=\"1\" class=\"dataframe\">\n",
       "  <thead>\n",
       "    <tr style=\"text-align: right;\">\n",
       "      <th></th>\n",
       "      <th>City</th>\n",
       "      <th>Lat</th>\n",
       "      <th>Lng</th>\n",
       "      <th>Max Temp</th>\n",
       "      <th>Humidity</th>\n",
       "      <th>Cloudiness</th>\n",
       "      <th>Wind Speed</th>\n",
       "      <th>Country</th>\n",
       "      <th>Date</th>\n",
       "    </tr>\n",
       "  </thead>\n",
       "  <tbody>\n",
       "    <tr>\n",
       "      <th>0</th>\n",
       "      <td>Port Alfred</td>\n",
       "      <td>-33.59</td>\n",
       "      <td>26.89</td>\n",
       "      <td>18.73</td>\n",
       "      <td>85.0</td>\n",
       "      <td>1.0</td>\n",
       "      <td>5.83</td>\n",
       "      <td>ZA</td>\n",
       "      <td>1.602781e+09</td>\n",
       "    </tr>\n",
       "    <tr>\n",
       "      <th>1</th>\n",
       "      <td>Port Elizabeth</td>\n",
       "      <td>-33.92</td>\n",
       "      <td>25.57</td>\n",
       "      <td>17.00</td>\n",
       "      <td>93.0</td>\n",
       "      <td>40.0</td>\n",
       "      <td>6.20</td>\n",
       "      <td>ZA</td>\n",
       "      <td>1.602782e+09</td>\n",
       "    </tr>\n",
       "    <tr>\n",
       "      <th>2</th>\n",
       "      <td>Tasiilaq</td>\n",
       "      <td>65.61</td>\n",
       "      <td>-37.64</td>\n",
       "      <td>5.00</td>\n",
       "      <td>75.0</td>\n",
       "      <td>75.0</td>\n",
       "      <td>3.10</td>\n",
       "      <td>GL</td>\n",
       "      <td>1.602782e+09</td>\n",
       "    </tr>\n",
       "    <tr>\n",
       "      <th>3</th>\n",
       "      <td>Cockburn Town</td>\n",
       "      <td>21.46</td>\n",
       "      <td>-71.14</td>\n",
       "      <td>28.44</td>\n",
       "      <td>78.0</td>\n",
       "      <td>5.0</td>\n",
       "      <td>5.37</td>\n",
       "      <td>TC</td>\n",
       "      <td>1.602782e+09</td>\n",
       "    </tr>\n",
       "    <tr>\n",
       "      <th>4</th>\n",
       "      <td>Zemio</td>\n",
       "      <td>5.03</td>\n",
       "      <td>25.14</td>\n",
       "      <td>23.63</td>\n",
       "      <td>87.0</td>\n",
       "      <td>33.0</td>\n",
       "      <td>0.77</td>\n",
       "      <td>CF</td>\n",
       "      <td>1.602782e+09</td>\n",
       "    </tr>\n",
       "  </tbody>\n",
       "</table>\n",
       "</div>"
      ],
      "text/plain": [
       "             City    Lat    Lng  Max Temp  Humidity  Cloudiness  Wind Speed  \\\n",
       "0     Port Alfred -33.59  26.89     18.73      85.0         1.0        5.83   \n",
       "1  Port Elizabeth -33.92  25.57     17.00      93.0        40.0        6.20   \n",
       "2        Tasiilaq  65.61 -37.64      5.00      75.0        75.0        3.10   \n",
       "3   Cockburn Town  21.46 -71.14     28.44      78.0         5.0        5.37   \n",
       "4           Zemio   5.03  25.14     23.63      87.0        33.0        0.77   \n",
       "\n",
       "  Country          Date  \n",
       "0      ZA  1.602781e+09  \n",
       "1      ZA  1.602782e+09  \n",
       "2      GL  1.602782e+09  \n",
       "3      TC  1.602782e+09  \n",
       "4      CF  1.602782e+09  "
      ]
     },
     "execution_count": 2,
     "metadata": {},
     "output_type": "execute_result"
    }
   ],
   "source": [
    "city_df=pd.read_csv('../WeatherPy/output_data/Cities_Data.csv')\n",
    "city_df.head()"
   ]
  },
  {
   "cell_type": "markdown",
   "metadata": {},
   "source": [
    "### Humidity Heatmap\n",
    "* Configure gmaps.\n",
    "* Use the Lat and Lng as locations and Humidity as the weight.\n",
    "* Add Heatmap layer to map."
   ]
  },
  {
   "cell_type": "code",
   "execution_count": 3,
   "metadata": {
    "ExecuteTime": {
     "end_time": "2020-10-15T17:53:40.594410Z",
     "start_time": "2020-10-15T17:53:40.591532Z"
    }
   },
   "outputs": [],
   "source": [
    "# configure gmaps\n",
    "gmaps.configure(api_key=g_key)\n",
    "\n",
    "# assign locations and humidity from the city_df\n",
    "locations = city_df[[\"Lat\", \"Lng\"]]\n",
    "humidity = city_df[\"Humidity\"]"
   ]
  },
  {
   "cell_type": "code",
   "execution_count": 4,
   "metadata": {
    "ExecuteTime": {
     "end_time": "2020-10-15T17:53:40.622170Z",
     "start_time": "2020-10-15T17:53:40.595724Z"
    }
   },
   "outputs": [
    {
     "data": {
      "application/vnd.jupyter.widget-view+json": {
       "model_id": "c4c0cbb11e5b4f1383e5764d91aaaf86",
       "version_major": 2,
       "version_minor": 0
      },
      "text/plain": [
       "Figure(layout=FigureLayout(height='420px'))"
      ]
     },
     "metadata": {},
     "output_type": "display_data"
    }
   ],
   "source": [
    "# using coordinate of Hong Kong as the map centre with zoom level set\n",
    "fig = gmaps.figure(center=(22.302711, 114.177216), zoom_level=1.6)\n",
    "\n",
    "# giving the param for heatmap\n",
    "heat_layer = gmaps.heatmap_layer(locations, weights=humidity)\n",
    "fig.add_layer(heat_layer)\n",
    "fig"
   ]
  },
  {
   "cell_type": "markdown",
   "metadata": {},
   "source": [
    "### Create new DataFrame fitting weather criteria\n",
    "* Narrow down the cities to fit weather conditions.\n",
    "* Drop any rows will null values."
   ]
  },
  {
   "cell_type": "code",
   "execution_count": 5,
   "metadata": {
    "ExecuteTime": {
     "end_time": "2020-10-15T17:53:40.631815Z",
     "start_time": "2020-10-15T17:53:40.623911Z"
    }
   },
   "outputs": [],
   "source": [
    "# condition is Max Temp: 21-25ºc, 0 Cloudiness & Wind Speed < 5m/s\n",
    "narrowed_city_df = city_df.loc[(city_df[\"Max Temp\"] > 18) & (city_df[\"Max Temp\"] < 22) & (city_df[\"Cloudiness\"] < 10) \\\n",
    "                               & (city_df[\"Wind Speed\"] < 4)& (city_df[\"Wind Speed\"] > 0.5), :]\n",
    "narrowed_city_df = narrowed_city_df.dropna(how='any')\n",
    "narrowed_city_df=narrowed_city_df.sort_values(by=\"City\", ascending=True)\n",
    "narrowed_city_df.reset_index(inplace=True)\n"
   ]
  },
  {
   "cell_type": "markdown",
   "metadata": {},
   "source": [
    "### Hotel Map\n",
    "* Store into variable named `hotel_df`.\n",
    "* Add a \"Hotel Name\" column to the DataFrame.\n",
    "* Set parameters to search for hotels with 5000 meters.\n",
    "* Hit the Google Places API for each city's coordinates.\n",
    "* Store the first Hotel result into the DataFrame.\n",
    "* Plot markers on top of the heatmap."
   ]
  },
  {
   "cell_type": "code",
   "execution_count": 6,
   "metadata": {
    "ExecuteTime": {
     "end_time": "2020-10-15T17:53:46.914327Z",
     "start_time": "2020-10-15T17:53:40.633020Z"
    }
   },
   "outputs": [
    {
     "data": {
      "text/html": [
       "<div>\n",
       "<style scoped>\n",
       "    .dataframe tbody tr th:only-of-type {\n",
       "        vertical-align: middle;\n",
       "    }\n",
       "\n",
       "    .dataframe tbody tr th {\n",
       "        vertical-align: top;\n",
       "    }\n",
       "\n",
       "    .dataframe thead th {\n",
       "        text-align: right;\n",
       "    }\n",
       "</style>\n",
       "<table border=\"1\" class=\"dataframe\">\n",
       "  <thead>\n",
       "    <tr style=\"text-align: right;\">\n",
       "      <th></th>\n",
       "      <th>City</th>\n",
       "      <th>Lat</th>\n",
       "      <th>Lng</th>\n",
       "      <th>Max Temp</th>\n",
       "      <th>Humidity</th>\n",
       "      <th>Cloudiness</th>\n",
       "      <th>Wind Speed</th>\n",
       "      <th>Country</th>\n",
       "      <th>Date</th>\n",
       "      <th>Hotel Name</th>\n",
       "    </tr>\n",
       "  </thead>\n",
       "  <tbody>\n",
       "    <tr>\n",
       "      <th>0</th>\n",
       "      <td>Abha</td>\n",
       "      <td>18.22</td>\n",
       "      <td>42.51</td>\n",
       "      <td>21.47</td>\n",
       "      <td>10.0</td>\n",
       "      <td>0.0</td>\n",
       "      <td>2.60</td>\n",
       "      <td>SA</td>\n",
       "      <td>1.602782e+09</td>\n",
       "      <td>شقق مفروشة</td>\n",
       "    </tr>\n",
       "    <tr>\n",
       "      <th>1</th>\n",
       "      <td>Barranca</td>\n",
       "      <td>-10.75</td>\n",
       "      <td>-77.77</td>\n",
       "      <td>20.27</td>\n",
       "      <td>66.0</td>\n",
       "      <td>6.0</td>\n",
       "      <td>3.97</td>\n",
       "      <td>PE</td>\n",
       "      <td>1.602782e+09</td>\n",
       "      <td>Familia Ciprianos Bodega</td>\n",
       "    </tr>\n",
       "    <tr>\n",
       "      <th>2</th>\n",
       "      <td>Chuy</td>\n",
       "      <td>-33.70</td>\n",
       "      <td>-53.46</td>\n",
       "      <td>19.98</td>\n",
       "      <td>68.0</td>\n",
       "      <td>0.0</td>\n",
       "      <td>3.85</td>\n",
       "      <td>UY</td>\n",
       "      <td>1.602781e+09</td>\n",
       "      <td>Gaboto</td>\n",
       "    </tr>\n",
       "    <tr>\n",
       "      <th>3</th>\n",
       "      <td>Constitucion</td>\n",
       "      <td>-35.33</td>\n",
       "      <td>-72.42</td>\n",
       "      <td>18.27</td>\n",
       "      <td>62.0</td>\n",
       "      <td>0.0</td>\n",
       "      <td>3.85</td>\n",
       "      <td>CL</td>\n",
       "      <td>1.602782e+09</td>\n",
       "      <td>Hostal Picapiedra</td>\n",
       "    </tr>\n",
       "    <tr>\n",
       "      <th>4</th>\n",
       "      <td>Faya</td>\n",
       "      <td>18.39</td>\n",
       "      <td>42.45</td>\n",
       "      <td>21.50</td>\n",
       "      <td>10.0</td>\n",
       "      <td>0.0</td>\n",
       "      <td>2.60</td>\n",
       "      <td>SA</td>\n",
       "      <td>1.602782e+09</td>\n",
       "      <td>مقبرة ال مجمل</td>\n",
       "    </tr>\n",
       "    <tr>\n",
       "      <th>5</th>\n",
       "      <td>Izmit</td>\n",
       "      <td>40.77</td>\n",
       "      <td>29.92</td>\n",
       "      <td>19.00</td>\n",
       "      <td>82.0</td>\n",
       "      <td>7.0</td>\n",
       "      <td>1.50</td>\n",
       "      <td>TR</td>\n",
       "      <td>1.602782e+09</td>\n",
       "      <td>Annem vodafon</td>\n",
       "    </tr>\n",
       "    <tr>\n",
       "      <th>6</th>\n",
       "      <td>Kharan</td>\n",
       "      <td>28.58</td>\n",
       "      <td>65.42</td>\n",
       "      <td>18.22</td>\n",
       "      <td>21.0</td>\n",
       "      <td>0.0</td>\n",
       "      <td>3.01</td>\n",
       "      <td>PK</td>\n",
       "      <td>1.602782e+09</td>\n",
       "      <td>Ghani Hasrat House</td>\n",
       "    </tr>\n",
       "    <tr>\n",
       "      <th>7</th>\n",
       "      <td>Kruisfontein</td>\n",
       "      <td>-34.00</td>\n",
       "      <td>24.73</td>\n",
       "      <td>18.33</td>\n",
       "      <td>83.0</td>\n",
       "      <td>0.0</td>\n",
       "      <td>1.79</td>\n",
       "      <td>ZA</td>\n",
       "      <td>1.602782e+09</td>\n",
       "      <td>Oyster Bay House Rental</td>\n",
       "    </tr>\n",
       "    <tr>\n",
       "      <th>8</th>\n",
       "      <td>Mustafakemalpasa</td>\n",
       "      <td>40.04</td>\n",
       "      <td>28.41</td>\n",
       "      <td>21.54</td>\n",
       "      <td>68.0</td>\n",
       "      <td>0.0</td>\n",
       "      <td>3.10</td>\n",
       "      <td>TR</td>\n",
       "      <td>1.602782e+09</td>\n",
       "      <td>Sabuncu Apartman</td>\n",
       "    </tr>\n",
       "    <tr>\n",
       "      <th>9</th>\n",
       "      <td>Saint George</td>\n",
       "      <td>37.10</td>\n",
       "      <td>-113.58</td>\n",
       "      <td>21.80</td>\n",
       "      <td>25.0</td>\n",
       "      <td>1.0</td>\n",
       "      <td>1.73</td>\n",
       "      <td>US</td>\n",
       "      <td>1.602782e+09</td>\n",
       "      <td>Jubilee Home</td>\n",
       "    </tr>\n",
       "  </tbody>\n",
       "</table>\n",
       "</div>"
      ],
      "text/plain": [
       "               City    Lat     Lng  Max Temp  Humidity  Cloudiness  \\\n",
       "0              Abha  18.22   42.51     21.47      10.0         0.0   \n",
       "1          Barranca -10.75  -77.77     20.27      66.0         6.0   \n",
       "2              Chuy -33.70  -53.46     19.98      68.0         0.0   \n",
       "3      Constitucion -35.33  -72.42     18.27      62.0         0.0   \n",
       "4              Faya  18.39   42.45     21.50      10.0         0.0   \n",
       "5             Izmit  40.77   29.92     19.00      82.0         7.0   \n",
       "6            Kharan  28.58   65.42     18.22      21.0         0.0   \n",
       "7      Kruisfontein -34.00   24.73     18.33      83.0         0.0   \n",
       "8  Mustafakemalpasa  40.04   28.41     21.54      68.0         0.0   \n",
       "9      Saint George  37.10 -113.58     21.80      25.0         1.0   \n",
       "\n",
       "   Wind Speed Country          Date                Hotel Name  \n",
       "0        2.60      SA  1.602782e+09                شقق مفروشة  \n",
       "1        3.97      PE  1.602782e+09  Familia Ciprianos Bodega  \n",
       "2        3.85      UY  1.602781e+09                    Gaboto  \n",
       "3        3.85      CL  1.602782e+09         Hostal Picapiedra  \n",
       "4        2.60      SA  1.602782e+09             مقبرة ال مجمل  \n",
       "5        1.50      TR  1.602782e+09             Annem vodafon  \n",
       "6        3.01      PK  1.602782e+09        Ghani Hasrat House  \n",
       "7        1.79      ZA  1.602782e+09   Oyster Bay House Rental  \n",
       "8        3.10      TR  1.602782e+09          Sabuncu Apartman  \n",
       "9        1.73      US  1.602782e+09              Jubilee Home  "
      ]
     },
     "execution_count": 6,
     "metadata": {},
     "output_type": "execute_result"
    }
   ],
   "source": [
    "# remove previous index column and assign to hotel_df\n",
    "hotel_df = narrowed_city_df.drop(columns=\"index\")\n",
    "hotel_df\n",
    "\n",
    "# add a \"Hotel Name\" column to the DataFrame.\n",
    "hotel_df[\"Hotel Name\"] = np.nan\n",
    "\n",
    "# create a list to hold hotel names\n",
    "hotel = []\n",
    "\n",
    "for i in range(len(hotel_df)):\n",
    "    # set parameters to search for hotels with 5000 meters.\n",
    "    base_url = \"https://maps.googleapis.com/maps/api/place/nearbysearch/json\"\n",
    "    params = {\n",
    "        \"location\": (f'{hotel_df.loc[i][\"Lat\"]},{hotel_df.loc[i][\"Lng\"]}'), \n",
    "        \"rankby\": \"distance\",\n",
    "        \"type\": \"lodging\",\n",
    "        \"key\": g_key,\n",
    "    }\n",
    "    response = requests.get(base_url, params=params).json()\n",
    "    results = response['results']\n",
    "    try:\n",
    "        hotel.append(results[0][\"name\"])\n",
    "    except:\n",
    "        hotel.append(\"\")\n",
    "\n",
    "# assign hotel into dataframe \n",
    "hotel_df[\"Hotel Name\"] = hotel\n",
    "hotel_df"
   ]
  },
  {
   "cell_type": "code",
   "execution_count": 7,
   "metadata": {
    "ExecuteTime": {
     "end_time": "2020-10-15T17:53:46.920268Z",
     "start_time": "2020-10-15T17:53:46.915732Z"
    }
   },
   "outputs": [],
   "source": [
    "# NOTE: Do not change any of the code in this cell\n",
    "\n",
    "# Using the template add the hotel marks to the heatmap\n",
    "info_box_template = \"\"\"\n",
    "<dl>\n",
    "<dt>Name</dt><dd>{Hotel Name}</dd>\n",
    "<dt>City</dt><dd>{City}</dd>\n",
    "<dt>Country</dt><dd>{Country}</dd>\n",
    "</dl>\n",
    "\"\"\"\n",
    "# Store the DataFrame Row\n",
    "# NOTE: be sure to update with your DataFrame name\n",
    "hotel_info = [info_box_template.format(**row) for index, row in hotel_df.iterrows()]\n",
    "locations = hotel_df[[\"Lat\", \"Lng\"]]"
   ]
  },
  {
   "cell_type": "code",
   "execution_count": 8,
   "metadata": {
    "ExecuteTime": {
     "end_time": "2020-10-15T17:53:46.942848Z",
     "start_time": "2020-10-15T17:53:46.922793Z"
    }
   },
   "outputs": [
    {
     "data": {
      "application/vnd.jupyter.widget-view+json": {
       "model_id": "c4c0cbb11e5b4f1383e5764d91aaaf86",
       "version_major": 2,
       "version_minor": 0
      },
      "text/plain": [
       "Figure(layout=FigureLayout(height='420px'))"
      ]
     },
     "metadata": {},
     "output_type": "display_data"
    }
   ],
   "source": [
    "# Add marker layer ontop of heat map\n",
    "markers = gmaps.marker_layer(locations, info_box_content=hotel_info)\n",
    "fig.add_layer(markers)\n",
    "\n",
    "# Display figure\n",
    "fig"
   ]
  }
 ],
 "metadata": {
  "kernelspec": {
   "display_name": "Python 3",
   "language": "python",
   "name": "python3"
  },
  "language_info": {
   "codemirror_mode": {
    "name": "ipython",
    "version": 3
   },
   "file_extension": ".py",
   "mimetype": "text/x-python",
   "name": "python",
   "nbconvert_exporter": "python",
   "pygments_lexer": "ipython3",
   "version": "3.7.9"
  },
  "latex_envs": {
   "LaTeX_envs_menu_present": true,
   "autoclose": false,
   "autocomplete": true,
   "bibliofile": "biblio.bib",
   "cite_by": "apalike",
   "current_citInitial": 1,
   "eqLabelWithNumbers": true,
   "eqNumInitial": 1,
   "hotkeys": {
    "equation": "Ctrl-E",
    "itemize": "Ctrl-I"
   },
   "labels_anchors": false,
   "latex_user_defs": false,
   "report_style_numbering": false,
   "user_envs_cfg": false
  }
 },
 "nbformat": 4,
 "nbformat_minor": 4
}
