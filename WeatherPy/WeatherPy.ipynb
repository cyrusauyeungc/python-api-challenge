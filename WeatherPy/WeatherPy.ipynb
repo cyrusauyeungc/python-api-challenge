{
 "cells": [
  {
   "cell_type": "markdown",
   "metadata": {},
   "source": [
    "# WeatherPy\n",
    "----\n",
    "\n",
    "#### Note\n",
    "* Instructions have been included for each segment. You do not have to follow them exactly, but they are included to help you think through the steps."
   ]
  },
  {
   "cell_type": "code",
   "execution_count": 1,
   "metadata": {
    "ExecuteTime": {
     "end_time": "2020-10-15T17:11:56.413079Z",
     "start_time": "2020-10-15T17:11:54.396849Z"
    },
    "scrolled": true
   },
   "outputs": [],
   "source": [
    "import os\n",
    "import time\n",
    "from random import uniform\n",
    "import matplotlib.pyplot as plt\n",
    "import pandas as pd\n",
    "import numpy as np\n",
    "import requests\n",
    "import json\n",
    "\n",
    "from scipy.stats import linregress\n",
    "from citipy import citipy\n",
    "from pprint import pprint\n",
    "\n",
    "from api_keys import weather_api_key\n",
    "from api_keys import g_key"
   ]
  },
  {
   "cell_type": "markdown",
   "metadata": {},
   "source": [
    "## Generate Cities List"
   ]
  },
  {
   "cell_type": "code",
   "execution_count": 2,
   "metadata": {
    "ExecuteTime": {
     "end_time": "2020-10-15T17:11:58.394247Z",
     "start_time": "2020-10-15T17:11:56.414570Z"
    }
   },
   "outputs": [
    {
     "data": {
      "text/plain": [
       "600"
      ]
     },
     "execution_count": 2,
     "metadata": {},
     "output_type": "execute_result"
    }
   ],
   "source": [
    "lat_lngs = []\n",
    "cities = []\n",
    "\n",
    "# generate random coordinates\n",
    "while len(cities) < 600:\n",
    "    x, y = uniform(-180,180), uniform(-90, 90)\n",
    "    city = citipy.nearest_city(x, y).city_name\n",
    "    city = city.title()\n",
    "# If the city is unique, then add it to a our cities list\n",
    "    if city not in cities:\n",
    "        cities.append(city)\n",
    "\n",
    "# Print the city count to confirm sufficient count\n",
    "len(cities)"
   ]
  },
  {
   "cell_type": "markdown",
   "metadata": {},
   "source": [
    "### Perform API Calls\n",
    "* Perform a weather check on each city using a series of successive API calls.\n",
    "* Include a print log of each city as it'sbeing processed (with the city number and city name).\n"
   ]
  },
  {
   "cell_type": "code",
   "execution_count": 3,
   "metadata": {
    "ExecuteTime": {
     "end_time": "2020-10-15T17:15:01.656539Z",
     "start_time": "2020-10-15T17:11:58.397223Z"
    },
    "scrolled": false
   },
   "outputs": [
    {
     "name": "stdout",
     "output_type": "stream",
     "text": [
      "Beginning Data Retrieval\n",
      "------------------------------\n",
      "Processing Record 1 of Set 1 | Port Alfred\n",
      "Processing Record 2 of Set 1 | Port Elizabeth\n",
      "Processing Record 3 of Set 1 | Tasiilaq\n",
      "Processing Record 4 of Set 1 | Cockburn Town\n",
      "Processing Record 5 of Set 1 | Zemio\n",
      "Processing Record 6 of Set 1 | Longyearbyen\n",
      "Processing Record 7 of Set 1 | Ushuaia\n",
      "Processing Record 8 of Set 1 | Qaanaaq\n",
      "Processing Record 9 of Set 1 | Bredasdorp\n",
      "Processing Record 10 of Set 1 | Upernavik\n",
      "Processing Record 11 of Set 1 | Barentsburg\n",
      "City \"Barentsburg\" not found. Skipping...\n",
      "Processing Record 11 of Set 1 | Izmit\n",
      "Processing Record 12 of Set 1 | Ballina\n",
      "Processing Record 13 of Set 1 | Dikson\n",
      "Processing Record 14 of Set 1 | Kruisfontein\n",
      "Processing Record 15 of Set 1 | Kentau\n",
      "Processing Record 16 of Set 1 | Kolondieba\n",
      "Processing Record 17 of Set 1 | Jamestown\n",
      "Processing Record 18 of Set 1 | Necochea\n",
      "Processing Record 19 of Set 1 | Saint-Philippe\n",
      "Processing Record 20 of Set 1 | Hermanus\n",
      "Processing Record 21 of Set 1 | Sicuani\n",
      "Processing Record 22 of Set 1 | San Clemente\n",
      "Processing Record 23 of Set 1 | Hamilton\n",
      "Processing Record 24 of Set 1 | Georgetown\n",
      "Processing Record 25 of Set 1 | Arraial Do Cabo\n",
      "Processing Record 26 of Set 1 | Igarka\n",
      "Processing Record 27 of Set 1 | Amderma\n",
      "City \"Amderma\" not found. Skipping...\n",
      "Processing Record 27 of Set 1 | Busselton\n",
      "Processing Record 28 of Set 1 | Albany\n",
      "Processing Record 29 of Set 1 | Talcahuano\n",
      "Processing Record 30 of Set 1 | Belushya Guba\n",
      "City \"Belushya Guba\" not found. Skipping...\n",
      "Processing Record 30 of Set 1 | Umzimvubu\n",
      "City \"Umzimvubu\" not found. Skipping...\n",
      "Processing Record 30 of Set 1 | Kangaba\n",
      "Processing Record 31 of Set 1 | Cidreira\n",
      "Processing Record 32 of Set 1 | Novyy Starodub\n",
      "Processing Record 33 of Set 1 | Barranca\n",
      "Processing Record 34 of Set 1 | Elizabeth City\n",
      "Processing Record 35 of Set 1 | Illoqqortoormiut\n",
      "City \"Illoqqortoormiut\" not found. Skipping...\n",
      "Processing Record 35 of Set 1 | Luena\n",
      "Processing Record 36 of Set 1 | Taolanaro\n",
      "City \"Taolanaro\" not found. Skipping...\n",
      "Processing Record 36 of Set 1 | Sabi\n",
      "Processing Record 37 of Set 1 | Saint-Augustin\n",
      "Processing Record 38 of Set 1 | Bambous Virieux\n",
      "Processing Record 39 of Set 1 | Opuwo\n",
      "Processing Record 40 of Set 1 | Cape Town\n",
      "Processing Record 41 of Set 1 | Howard\n",
      "Processing Record 42 of Set 1 | Pangnirtung\n",
      "Processing Record 43 of Set 1 | Sinnamary\n",
      "Processing Record 44 of Set 1 | Carutapera\n",
      "Processing Record 45 of Set 1 | Detva\n",
      "Processing Record 46 of Set 1 | Souillac\n",
      "Processing Record 47 of Set 1 | Menongue\n",
      "Processing Record 48 of Set 1 | Adrar\n",
      "Processing Record 49 of Set 1 | Monrovia\n",
      "Processing Record 50 of Set 1 | Tshela\n",
      "Processing Record 1 of Set 2 | Chintamani\n",
      "Processing Record 2 of Set 2 | Havre-Saint-Pierre\n",
      "Processing Record 3 of Set 2 | Qaqortoq\n",
      "Processing Record 4 of Set 2 | Sao Jose Da Coroa Grande\n",
      "Processing Record 5 of Set 2 | Lebu\n",
      "Processing Record 6 of Set 2 | Salta\n",
      "Processing Record 7 of Set 2 | Puerto Rondon\n",
      "Processing Record 8 of Set 2 | Funadhoo\n",
      "Processing Record 9 of Set 2 | Korla\n",
      "Processing Record 10 of Set 2 | Deep River\n",
      "Processing Record 11 of Set 2 | Filadelfia\n",
      "Processing Record 12 of Set 2 | Meulaboh\n",
      "Processing Record 13 of Set 2 | Peniche\n",
      "Processing Record 14 of Set 2 | Minab\n",
      "Processing Record 15 of Set 2 | Santa Rosa\n",
      "Processing Record 16 of Set 2 | Bereda\n",
      "Processing Record 17 of Set 2 | Punta Arenas\n",
      "Processing Record 18 of Set 2 | Weiden\n",
      "Processing Record 19 of Set 2 | Iberia\n",
      "Processing Record 20 of Set 2 | Hithadhoo\n",
      "Processing Record 21 of Set 2 | Saint George\n",
      "Processing Record 22 of Set 2 | Ribeira Grande\n",
      "Processing Record 23 of Set 2 | Vestmanna\n",
      "Processing Record 24 of Set 2 | Carballo\n",
      "Processing Record 25 of Set 2 | Tessalit\n",
      "Processing Record 26 of Set 2 | Texistepeque\n",
      "Processing Record 27 of Set 2 | Clyde River\n",
      "Processing Record 28 of Set 2 | Nanortalik\n",
      "Processing Record 29 of Set 2 | Chuy\n",
      "Processing Record 30 of Set 2 | Yar-Sale\n",
      "Processing Record 31 of Set 2 | Talnakh\n",
      "Processing Record 32 of Set 2 | Patti\n",
      "Processing Record 33 of Set 2 | Toliary\n",
      "City \"Toliary\" not found. Skipping...\n",
      "Processing Record 33 of Set 2 | Salalah\n",
      "Processing Record 34 of Set 2 | Surt\n",
      "Processing Record 35 of Set 2 | Muhos\n",
      "Processing Record 36 of Set 2 | Bubaque\n",
      "Processing Record 37 of Set 2 | Maroantsetra\n",
      "Processing Record 38 of Set 2 | Mar Del Plata\n",
      "Processing Record 39 of Set 2 | Camacari\n",
      "Processing Record 40 of Set 2 | Burmakino\n",
      "Processing Record 41 of Set 2 | Skibbereen\n",
      "Processing Record 42 of Set 2 | Narsaq\n",
      "Processing Record 43 of Set 2 | Ponta Do Sol\n",
      "Processing Record 44 of Set 2 | Ilulissat\n",
      "Processing Record 45 of Set 2 | Aljezur\n",
      "Processing Record 46 of Set 2 | Duz\n",
      "City \"Duz\" not found. Skipping...\n",
      "Processing Record 46 of Set 2 | Lovozero\n",
      "Processing Record 47 of Set 2 | Codajas\n",
      "Processing Record 48 of Set 2 | Gwadar\n",
      "Processing Record 49 of Set 2 | Padang\n",
      "Processing Record 50 of Set 2 | Vyazma\n",
      "Processing Record 1 of Set 3 | San Rafael Del Sur\n",
      "Processing Record 2 of Set 3 | Grand River South East\n",
      "City \"Grand River South East\" not found. Skipping...\n",
      "Processing Record 2 of Set 3 | Karaul\n",
      "City \"Karaul\" not found. Skipping...\n",
      "Processing Record 2 of Set 3 | Mahebourg\n",
      "Processing Record 3 of Set 3 | Biltine\n",
      "Processing Record 4 of Set 3 | Bandarbeyla\n",
      "Processing Record 5 of Set 3 | Sao Joao Da Barra\n",
      "Processing Record 6 of Set 3 | Torbay\n",
      "Processing Record 7 of Set 3 | Tsihombe\n",
      "City \"Tsihombe\" not found. Skipping...\n",
      "Processing Record 7 of Set 3 | Codrington\n",
      "Processing Record 8 of Set 3 | Carnarvon\n",
      "Processing Record 9 of Set 3 | Tarko-Sale\n",
      "Processing Record 10 of Set 3 | Remanso\n",
      "Processing Record 11 of Set 3 | Saint-Pierre\n",
      "Processing Record 12 of Set 3 | Bindura\n",
      "Processing Record 13 of Set 3 | Damara\n",
      "Processing Record 14 of Set 3 | East London\n",
      "Processing Record 15 of Set 3 | Lagoa\n",
      "Processing Record 16 of Set 3 | Luderitz\n",
      "Processing Record 17 of Set 3 | Urumqi\n",
      "Processing Record 18 of Set 3 | Qrendi\n",
      "Processing Record 19 of Set 3 | Grindavik\n",
      "Processing Record 20 of Set 3 | Oak Ridge\n",
      "Processing Record 21 of Set 3 | Nalut\n",
      "Processing Record 22 of Set 3 | Sorvag\n",
      "City \"Sorvag\" not found. Skipping...\n",
      "Processing Record 22 of Set 3 | Taltal\n",
      "Processing Record 23 of Set 3 | Piacabucu\n",
      "Processing Record 24 of Set 3 | Rawson\n",
      "Processing Record 25 of Set 3 | Castro\n",
      "Processing Record 26 of Set 3 | Achisay\n",
      "City \"Achisay\" not found. Skipping...\n",
      "Processing Record 26 of Set 3 | San Andres\n",
      "Processing Record 27 of Set 3 | Varaklani\n",
      "City \"Varaklani\" not found. Skipping...\n",
      "Processing Record 27 of Set 3 | Uvira\n",
      "Processing Record 28 of Set 3 | Korce\n",
      "Processing Record 29 of Set 3 | Plouzane\n",
      "Processing Record 30 of Set 3 | Attawapiskat\n",
      "City \"Attawapiskat\" not found. Skipping...\n",
      "Processing Record 30 of Set 3 | Abha\n",
      "Processing Record 31 of Set 3 | Kologriv\n",
      "Processing Record 32 of Set 3 | Espanola\n",
      "Processing Record 33 of Set 3 | Arlit\n",
      "Processing Record 34 of Set 3 | Uwayl\n",
      "City \"Uwayl\" not found. Skipping...\n",
      "Processing Record 34 of Set 3 | Pedro Betancourt\n",
      "Processing Record 35 of Set 3 | Polunochnoye\n",
      "Processing Record 36 of Set 3 | Arroyo\n",
      "Processing Record 37 of Set 3 | Rio Grande\n",
      "Processing Record 38 of Set 3 | Nuuk\n",
      "Processing Record 39 of Set 3 | Porto Santo\n",
      "Processing Record 40 of Set 3 | Dwarka\n",
      "Processing Record 41 of Set 3 | Kholm-Zhirkovskiy\n",
      "Processing Record 42 of Set 3 | Safaga\n",
      "Processing Record 43 of Set 3 | Namibe\n",
      "Processing Record 44 of Set 3 | Kaduqli\n",
      "Processing Record 45 of Set 3 | Aleksandrov Gay\n",
      "Processing Record 46 of Set 3 | Zabol\n",
      "Processing Record 47 of Set 3 | Banikoara\n",
      "Processing Record 48 of Set 3 | Emba\n",
      "Processing Record 49 of Set 3 | Sechura\n",
      "Processing Record 50 of Set 3 | Vardo\n",
      "Processing Record 1 of Set 4 | Tortoli\n",
      "Processing Record 2 of Set 4 | Kovdor\n",
      "Processing Record 3 of Set 4 | Portsmouth\n",
      "Processing Record 4 of Set 4 | Luanda\n",
      "Processing Record 5 of Set 4 | Coihaique\n",
      "Processing Record 6 of Set 4 | Trincomalee\n",
      "Processing Record 7 of Set 4 | Villazon\n",
      "Processing Record 8 of Set 4 | Paysandu\n",
      "Processing Record 9 of Set 4 | Ikovka\n",
      "Processing Record 10 of Set 4 | Atraulia\n",
      "Processing Record 11 of Set 4 | Bouillante\n",
      "Processing Record 12 of Set 4 | Djibo\n",
      "Processing Record 13 of Set 4 | Puerto Del Rosario\n",
      "Processing Record 14 of Set 4 | Dudinka\n",
      "Processing Record 15 of Set 4 | Gobabis\n"
     ]
    },
    {
     "name": "stdout",
     "output_type": "stream",
     "text": [
      "Processing Record 16 of Set 4 | Armacao Dos Buzios\n",
      "City \"Armacao Dos Buzios\" not found. Skipping...\n",
      "Processing Record 16 of Set 4 | Umm Kaddadah\n",
      "Processing Record 17 of Set 4 | Chanasma\n",
      "Processing Record 18 of Set 4 | Vila Velha\n",
      "Processing Record 19 of Set 4 | Riyadh\n",
      "Processing Record 20 of Set 4 | Kletnya\n",
      "Processing Record 21 of Set 4 | Grand-Lahou\n",
      "Processing Record 22 of Set 4 | Baie-Comeau\n",
      "Processing Record 23 of Set 4 | Maceio\n",
      "Processing Record 24 of Set 4 | Hof\n",
      "Processing Record 25 of Set 4 | Mongu\n",
      "Processing Record 26 of Set 4 | Inta\n",
      "Processing Record 27 of Set 4 | Valdepenas\n",
      "Processing Record 28 of Set 4 | Apt\n",
      "Processing Record 29 of Set 4 | Pitimbu\n",
      "Processing Record 30 of Set 4 | Nioro\n",
      "Processing Record 31 of Set 4 | Sorland\n",
      "Processing Record 32 of Set 4 | Batavia\n",
      "Processing Record 33 of Set 4 | Sakakah\n",
      "Processing Record 34 of Set 4 | Ituni\n",
      "City \"Ituni\" not found. Skipping...\n",
      "Processing Record 34 of Set 4 | Gopalpur\n",
      "Processing Record 35 of Set 4 | Mahibadhoo\n",
      "Processing Record 36 of Set 4 | Oistins\n",
      "Processing Record 37 of Set 4 | Tucuman\n",
      "Processing Record 38 of Set 4 | Havelock\n",
      "Processing Record 39 of Set 4 | Neuquen\n",
      "Processing Record 40 of Set 4 | Chimbote\n",
      "Processing Record 41 of Set 4 | Sora\n",
      "Processing Record 42 of Set 4 | Rocha\n",
      "Processing Record 43 of Set 4 | Francisco Beltrao\n",
      "Processing Record 44 of Set 4 | Comodoro Rivadavia\n",
      "Processing Record 45 of Set 4 | Kuche\n",
      "City \"Kuche\" not found. Skipping...\n",
      "Processing Record 45 of Set 4 | Victoria\n",
      "Processing Record 46 of Set 4 | Lamu\n",
      "Processing Record 47 of Set 4 | Bolungarvik\n",
      "City \"Bolungarvik\" not found. Skipping...\n",
      "Processing Record 47 of Set 4 | Kalmunai\n",
      "Processing Record 48 of Set 4 | Marcona\n",
      "City \"Marcona\" not found. Skipping...\n",
      "Processing Record 48 of Set 4 | Kushmurun\n",
      "Processing Record 49 of Set 4 | Olafsvik\n",
      "Processing Record 50 of Set 4 | La Palma\n",
      "Processing Record 1 of Set 5 | Beloha\n",
      "Processing Record 2 of Set 5 | Gandhinagar\n",
      "Processing Record 3 of Set 5 | Aquiraz\n",
      "Processing Record 4 of Set 5 | Bolotnoye\n",
      "Processing Record 5 of Set 5 | Bonfim\n",
      "Processing Record 6 of Set 5 | Diapaga\n",
      "Processing Record 7 of Set 5 | Los Negros\n",
      "Processing Record 8 of Set 5 | Monte Patria\n",
      "Processing Record 9 of Set 5 | Senador Jose Porfirio\n",
      "Processing Record 10 of Set 5 | Bethanien\n",
      "Processing Record 11 of Set 5 | Kedrovyy\n",
      "Processing Record 12 of Set 5 | Morros\n",
      "Processing Record 13 of Set 5 | Bonavista\n",
      "Processing Record 14 of Set 5 | Tonantins\n",
      "Processing Record 15 of Set 5 | Touros\n",
      "Processing Record 16 of Set 5 | Sheopur\n",
      "Processing Record 17 of Set 5 | Macau\n",
      "Processing Record 18 of Set 5 | Olinda\n",
      "Processing Record 19 of Set 5 | Belyy Yar\n",
      "Processing Record 20 of Set 5 | Manaus\n",
      "Processing Record 21 of Set 5 | Longlac\n",
      "City \"Longlac\" not found. Skipping...\n",
      "Processing Record 21 of Set 5 | Nortelandia\n",
      "Processing Record 22 of Set 5 | Autazes\n",
      "Processing Record 23 of Set 5 | Macon\n",
      "Processing Record 24 of Set 5 | Caravelas\n",
      "Processing Record 25 of Set 5 | Saldanha\n",
      "Processing Record 26 of Set 5 | Ormara\n",
      "Processing Record 27 of Set 5 | Brazzaville\n",
      "Processing Record 28 of Set 5 | Urdzhar\n",
      "City \"Urdzhar\" not found. Skipping...\n",
      "Processing Record 28 of Set 5 | Klaksvik\n",
      "Processing Record 29 of Set 5 | Shahr-E Kord\n",
      "Processing Record 30 of Set 5 | Hambantota\n",
      "Processing Record 31 of Set 5 | Nouadhibou\n",
      "Processing Record 32 of Set 5 | Monteagudo\n",
      "Processing Record 33 of Set 5 | Arauca\n",
      "Processing Record 34 of Set 5 | Tutoia\n",
      "Processing Record 35 of Set 5 | Ambositra\n",
      "Processing Record 36 of Set 5 | Jalu\n",
      "Processing Record 37 of Set 5 | Srebrenica\n",
      "Processing Record 38 of Set 5 | Chapais\n",
      "Processing Record 39 of Set 5 | Rorvik\n",
      "Processing Record 40 of Set 5 | Mashhad\n",
      "Processing Record 41 of Set 5 | Thiers\n",
      "Processing Record 42 of Set 5 | Niteroi\n",
      "Processing Record 43 of Set 5 | Mitu\n",
      "Processing Record 44 of Set 5 | Maputo\n",
      "Processing Record 45 of Set 5 | Quelimane\n",
      "Processing Record 46 of Set 5 | Tiznit\n",
      "Processing Record 47 of Set 5 | Cayenne\n",
      "Processing Record 48 of Set 5 | Santa Cruz Del Sur\n",
      "Processing Record 49 of Set 5 | Menzelinsk\n",
      "Processing Record 50 of Set 5 | Ostrovnoy\n",
      "Processing Record 1 of Set 6 | Viytivka\n",
      "Processing Record 2 of Set 6 | Maragogi\n",
      "Processing Record 3 of Set 6 | Manadhoo\n",
      "Processing Record 4 of Set 6 | Iqaluit\n",
      "Processing Record 5 of Set 6 | Sistranda\n",
      "Processing Record 6 of Set 6 | Lipin Bor\n",
      "Processing Record 7 of Set 6 | Uravakonda\n",
      "Processing Record 8 of Set 6 | Sao Filipe\n",
      "Processing Record 9 of Set 6 | Mocuba\n",
      "Processing Record 10 of Set 6 | Severodvinsk\n",
      "Processing Record 11 of Set 6 | Sibanicu\n",
      "Processing Record 12 of Set 6 | Camana\n",
      "Processing Record 13 of Set 6 | Mitsamiouli\n",
      "Processing Record 14 of Set 6 | Shubarkuduk\n",
      "Processing Record 15 of Set 6 | Tsotilion\n",
      "Processing Record 16 of Set 6 | Techiman\n",
      "Processing Record 17 of Set 6 | Kavaratti\n",
      "Processing Record 18 of Set 6 | Angoche\n",
      "Processing Record 19 of Set 6 | Saint Anthony\n",
      "Processing Record 20 of Set 6 | Sao Raimundo Das Mangabeiras\n",
      "Processing Record 21 of Set 6 | Plettenberg Bay\n",
      "Processing Record 22 of Set 6 | Abu Samrah\n",
      "Processing Record 23 of Set 6 | Saveh\n",
      "Processing Record 24 of Set 6 | Praia Da Vitoria\n",
      "Processing Record 25 of Set 6 | Ziarat\n",
      "Processing Record 26 of Set 6 | Constitucion\n",
      "Processing Record 27 of Set 6 | Kyzyl-Suu\n",
      "Processing Record 28 of Set 6 | Kohat\n",
      "Processing Record 29 of Set 6 | Araouane\n",
      "Processing Record 30 of Set 6 | Hammerfest\n",
      "Processing Record 31 of Set 6 | Agapovka\n",
      "Processing Record 32 of Set 6 | San Carlos\n",
      "Processing Record 33 of Set 6 | Nsanje\n",
      "Processing Record 34 of Set 6 | Bull Savanna\n",
      "Processing Record 35 of Set 6 | Inhambane\n",
      "Processing Record 36 of Set 6 | Azanka\n",
      "Processing Record 37 of Set 6 | Abonnema\n",
      "Processing Record 38 of Set 6 | Malakal\n",
      "Processing Record 39 of Set 6 | Oppdal\n",
      "Processing Record 40 of Set 6 | Vygonichi\n",
      "Processing Record 41 of Set 6 | Henties Bay\n",
      "Processing Record 42 of Set 6 | Fiche\n",
      "Processing Record 43 of Set 6 | Krasnyy Luch\n",
      "Processing Record 44 of Set 6 | Golden Rock\n",
      "City \"Golden Rock\" not found. Skipping...\n",
      "Processing Record 44 of Set 6 | Carikar\n",
      "City \"Carikar\" not found. Skipping...\n",
      "Processing Record 44 of Set 6 | Nizwa\n",
      "Processing Record 45 of Set 6 | Gat\n",
      "Processing Record 46 of Set 6 | Bajil\n",
      "Processing Record 47 of Set 6 | Shelburne\n",
      "Processing Record 48 of Set 6 | Altagracia De Orituco\n",
      "Processing Record 49 of Set 6 | Gubbio\n",
      "Processing Record 50 of Set 6 | Sao Felix Do Xingu\n",
      "Processing Record 1 of Set 7 | Coari\n",
      "Processing Record 2 of Set 7 | Catamarca\n",
      "Processing Record 3 of Set 7 | Warqla\n",
      "City \"Warqla\" not found. Skipping...\n",
      "Processing Record 3 of Set 7 | Lithakia\n",
      "Processing Record 4 of Set 7 | Pandamatenga\n",
      "Processing Record 5 of Set 7 | Arona\n",
      "Processing Record 6 of Set 7 | Itacoatiara\n",
      "Processing Record 7 of Set 7 | Sergeyevka\n",
      "Processing Record 8 of Set 7 | Richards Bay\n",
      "Processing Record 9 of Set 7 | Santa Maria\n",
      "Processing Record 10 of Set 7 | Suna\n",
      "Processing Record 11 of Set 7 | Sheregesh\n",
      "Processing Record 12 of Set 7 | Svetlyy\n",
      "Processing Record 13 of Set 7 | Geraldton\n",
      "Processing Record 14 of Set 7 | Kattivakkam\n",
      "Processing Record 15 of Set 7 | Hofn\n",
      "Processing Record 16 of Set 7 | Pisco\n",
      "Processing Record 17 of Set 7 | Westport\n",
      "Processing Record 18 of Set 7 | Karaton\n",
      "Processing Record 19 of Set 7 | Balkanabat\n",
      "Processing Record 20 of Set 7 | Marsa Matruh\n",
      "Processing Record 21 of Set 7 | Jardim\n",
      "Processing Record 22 of Set 7 | Tazovskiy\n",
      "Processing Record 23 of Set 7 | Carnot\n",
      "Processing Record 24 of Set 7 | Kathmandu\n",
      "Processing Record 25 of Set 7 | Tonj\n",
      "Processing Record 26 of Set 7 | Mao\n",
      "Processing Record 27 of Set 7 | Harper\n",
      "Processing Record 28 of Set 7 | Chany\n",
      "Processing Record 29 of Set 7 | Roald\n",
      "Processing Record 30 of Set 7 | Shibarghan\n",
      "City \"Shibarghan\" not found. Skipping...\n",
      "Processing Record 30 of Set 7 | Kobojango\n",
      "City \"Kobojango\" not found. Skipping...\n",
      "Processing Record 30 of Set 7 | Pirgos\n",
      "Processing Record 31 of Set 7 | Visim\n",
      "Processing Record 32 of Set 7 | Copiapo\n",
      "Processing Record 33 of Set 7 | Mangai\n",
      "Processing Record 34 of Set 7 | Pauini\n",
      "Processing Record 35 of Set 7 | Rodrigues Alves\n",
      "Processing Record 36 of Set 7 | Channel-Port Aux Basques\n",
      "Processing Record 37 of Set 7 | Schio\n",
      "Processing Record 38 of Set 7 | Bud\n",
      "Processing Record 39 of Set 7 | Chipinge\n",
      "Processing Record 40 of Set 7 | Hobyo\n",
      "Processing Record 41 of Set 7 | Tierralta\n"
     ]
    },
    {
     "name": "stdout",
     "output_type": "stream",
     "text": [
      "Processing Record 42 of Set 7 | Florence\n",
      "Processing Record 43 of Set 7 | Awjilah\n",
      "Processing Record 44 of Set 7 | Wajir\n",
      "Processing Record 45 of Set 7 | Progreso\n",
      "Processing Record 46 of Set 7 | Abrau-Dyurso\n",
      "Processing Record 47 of Set 7 | Viedma\n",
      "Processing Record 48 of Set 7 | Kazalinsk\n",
      "City \"Kazalinsk\" not found. Skipping...\n",
      "Processing Record 48 of Set 7 | Ruangwa\n",
      "Processing Record 49 of Set 7 | Erdemli\n",
      "Processing Record 50 of Set 7 | Muborak\n",
      "Processing Record 1 of Set 8 | Grand Gaube\n",
      "Processing Record 2 of Set 8 | Den Helder\n",
      "Processing Record 3 of Set 8 | San Cristobal\n",
      "Processing Record 4 of Set 8 | Iquitos\n",
      "Processing Record 5 of Set 8 | Saint-Joseph\n",
      "Processing Record 6 of Set 8 | Soderhamn\n",
      "Processing Record 7 of Set 8 | Hemnesberget\n",
      "Processing Record 8 of Set 8 | Luau\n",
      "Processing Record 9 of Set 8 | Moose Factory\n",
      "Processing Record 10 of Set 8 | Malgrat De Mar\n",
      "Processing Record 11 of Set 8 | Havoysund\n",
      "Processing Record 12 of Set 8 | Gornoye Loo\n",
      "Processing Record 13 of Set 8 | Inirida\n",
      "Processing Record 14 of Set 8 | Umm Lajj\n",
      "Processing Record 15 of Set 8 | Kiruna\n",
      "Processing Record 16 of Set 8 | Tumannyy\n",
      "City \"Tumannyy\" not found. Skipping...\n",
      "Processing Record 16 of Set 8 | Gloversville\n",
      "Processing Record 17 of Set 8 | Takoradi\n",
      "Processing Record 18 of Set 8 | Sambava\n",
      "Processing Record 19 of Set 8 | Litoral Del San Juan\n",
      "City \"Litoral Del San Juan\" not found. Skipping...\n",
      "Processing Record 19 of Set 8 | Dire\n",
      "Processing Record 20 of Set 8 | Itarema\n",
      "Processing Record 21 of Set 8 | Axim\n",
      "Processing Record 22 of Set 8 | Cherdakly\n",
      "Processing Record 23 of Set 8 | San Ignacio\n",
      "Processing Record 24 of Set 8 | Saint-Francois\n",
      "Processing Record 25 of Set 8 | Dingle\n",
      "Processing Record 26 of Set 8 | Narasannapeta\n",
      "Processing Record 27 of Set 8 | Santa Isabel\n",
      "Processing Record 28 of Set 8 | Pavlohrad\n",
      "Processing Record 29 of Set 8 | Gunupur\n",
      "Processing Record 30 of Set 8 | Alekseyevka\n",
      "Processing Record 31 of Set 8 | Cozumel\n",
      "Processing Record 32 of Set 8 | Guayata\n",
      "Processing Record 33 of Set 8 | The Valley\n",
      "Processing Record 34 of Set 8 | Rudbar\n",
      "Processing Record 35 of Set 8 | Bahia Honda\n",
      "Processing Record 36 of Set 8 | Sembe\n",
      "Processing Record 37 of Set 8 | Utamysh\n",
      "Processing Record 38 of Set 8 | Darfo\n",
      "Processing Record 39 of Set 8 | Raudeberg\n",
      "Processing Record 40 of Set 8 | Atar\n",
      "Processing Record 41 of Set 8 | Gazli\n",
      "Processing Record 42 of Set 8 | Youghal\n",
      "Processing Record 43 of Set 8 | Altay\n",
      "Processing Record 44 of Set 8 | Aberlour\n",
      "City \"Aberlour\" not found. Skipping...\n",
      "Processing Record 44 of Set 8 | Dhidhdhoo\n",
      "Processing Record 45 of Set 8 | Jinka\n",
      "Processing Record 46 of Set 8 | Kapoeta\n",
      "Processing Record 47 of Set 8 | Berlevag\n",
      "Processing Record 48 of Set 8 | Porto Novo\n",
      "Processing Record 49 of Set 8 | Faya\n",
      "Processing Record 50 of Set 8 | Vengurla\n",
      "Processing Record 1 of Set 9 | Vilhena\n",
      "Processing Record 2 of Set 9 | Rock Sound\n",
      "Processing Record 3 of Set 9 | Goderich\n",
      "Processing Record 4 of Set 9 | Moyobamba\n",
      "Processing Record 5 of Set 9 | Carupano\n",
      "Processing Record 6 of Set 9 | Milanowek\n",
      "Processing Record 7 of Set 9 | Sturgeon Falls\n",
      "Processing Record 8 of Set 9 | Akureyri\n",
      "Processing Record 9 of Set 9 | Kulynychi\n",
      "Processing Record 10 of Set 9 | Langres\n",
      "Processing Record 11 of Set 9 | Aksu\n",
      "Processing Record 12 of Set 9 | Letnyaya Stavka\n",
      "Processing Record 13 of Set 9 | Zavetnoye\n",
      "Processing Record 14 of Set 9 | Hudiksvall\n",
      "Processing Record 15 of Set 9 | Marzuq\n",
      "Processing Record 16 of Set 9 | Mogadishu\n",
      "Processing Record 17 of Set 9 | Fioletovo\n",
      "Processing Record 18 of Set 9 | Kulhudhuffushi\n",
      "Processing Record 19 of Set 9 | Mahaicony\n",
      "City \"Mahaicony\" not found. Skipping...\n",
      "Processing Record 19 of Set 9 | Waw\n",
      "Processing Record 20 of Set 9 | Yefremov\n",
      "Processing Record 21 of Set 9 | Lyndon\n",
      "Processing Record 22 of Set 9 | Nyagan\n",
      "Processing Record 23 of Set 9 | Boa Vista\n",
      "Processing Record 24 of Set 9 | Mbaiki\n",
      "Processing Record 25 of Set 9 | Leh\n",
      "Processing Record 26 of Set 9 | Muravlenko\n",
      "Processing Record 27 of Set 9 | Santa Cruz De Tenerife\n",
      "Processing Record 28 of Set 9 | Wamba\n",
      "Processing Record 29 of Set 9 | Chelyabinsk-40\n",
      "City \"Chelyabinsk-40\" not found. Skipping...\n",
      "Processing Record 29 of Set 9 | Husavik\n",
      "Processing Record 30 of Set 9 | Capreol\n",
      "Processing Record 31 of Set 9 | Tsienyane\n",
      "City \"Tsienyane\" not found. Skipping...\n",
      "Processing Record 31 of Set 9 | Leua\n",
      "Processing Record 32 of Set 9 | Urdoma\n",
      "Processing Record 33 of Set 9 | Cap-Aux-Meules\n",
      "Processing Record 34 of Set 9 | General Roca\n",
      "Processing Record 35 of Set 9 | Barcelos\n",
      "Processing Record 36 of Set 9 | Waddan\n",
      "Processing Record 37 of Set 9 | Gilgit\n",
      "Processing Record 38 of Set 9 | Misratah\n",
      "Processing Record 39 of Set 9 | Lodja\n",
      "Processing Record 40 of Set 9 | Balykshi\n",
      "Processing Record 41 of Set 9 | Rio Gallegos\n",
      "Processing Record 42 of Set 9 | Asyut\n",
      "Processing Record 43 of Set 9 | Isabela\n",
      "Processing Record 44 of Set 9 | Laguna\n",
      "Processing Record 45 of Set 9 | Vestmannaeyjar\n",
      "Processing Record 46 of Set 9 | Savonlinna\n",
      "Processing Record 47 of Set 9 | Muros\n",
      "Processing Record 48 of Set 9 | Alta Floresta\n",
      "Processing Record 49 of Set 9 | Colares\n",
      "Processing Record 50 of Set 9 | Colombo\n",
      "Processing Record 1 of Set 10 | Vila Franca Do Campo\n",
      "Processing Record 2 of Set 10 | Kabinda\n",
      "Processing Record 3 of Set 10 | Westerland\n",
      "Processing Record 4 of Set 10 | Ndele\n",
      "Processing Record 5 of Set 10 | Bodden Town\n",
      "Processing Record 6 of Set 10 | Lugovoy\n",
      "Processing Record 7 of Set 10 | Peterhead\n",
      "Processing Record 8 of Set 10 | Dakoro\n",
      "Processing Record 9 of Set 10 | Lucapa\n",
      "Processing Record 10 of Set 10 | Dasoguz\n",
      "Processing Record 11 of Set 10 | Pont-Audemer\n",
      "Processing Record 12 of Set 10 | Rafai\n",
      "Processing Record 13 of Set 10 | Kidodi\n",
      "Processing Record 14 of Set 10 | Lekoni\n",
      "Processing Record 15 of Set 10 | Serdobsk\n",
      "Processing Record 16 of Set 10 | Garowe\n",
      "Processing Record 17 of Set 10 | Aflu\n",
      "City \"Aflu\" not found. Skipping...\n",
      "Processing Record 17 of Set 10 | Strezhevoy\n",
      "Processing Record 18 of Set 10 | Tabou\n",
      "Processing Record 19 of Set 10 | Iquique\n",
      "Processing Record 20 of Set 10 | Wukari\n",
      "Processing Record 21 of Set 10 | Sotouboua\n",
      "Processing Record 22 of Set 10 | Chabahar\n",
      "Processing Record 23 of Set 10 | Teguise\n",
      "Processing Record 24 of Set 10 | Toulepleu\n",
      "City \"Toulepleu\" not found. Skipping...\n",
      "Processing Record 24 of Set 10 | Baixa Grande\n",
      "Processing Record 25 of Set 10 | Dujuma\n",
      "City \"Dujuma\" not found. Skipping...\n",
      "Processing Record 25 of Set 10 | Zherdevka\n",
      "Processing Record 26 of Set 10 | Sur\n",
      "Processing Record 27 of Set 10 | Bengkulu\n",
      "Processing Record 28 of Set 10 | Zhanatas\n",
      "City \"Zhanatas\" not found. Skipping...\n",
      "Processing Record 28 of Set 10 | Abapo\n",
      "Processing Record 29 of Set 10 | Sharjah\n",
      "Processing Record 30 of Set 10 | Karakendzha\n",
      "City \"Karakendzha\" not found. Skipping...\n",
      "Processing Record 30 of Set 10 | Aylmer\n",
      "Processing Record 31 of Set 10 | Yenagoa\n",
      "Processing Record 32 of Set 10 | Kharan\n",
      "Processing Record 33 of Set 10 | Thunder Bay\n",
      "Processing Record 34 of Set 10 | Lindi\n",
      "Processing Record 35 of Set 10 | Orocue\n",
      "Processing Record 36 of Set 10 | Matveyevka\n",
      "Processing Record 37 of Set 10 | Zlobin\n",
      "Processing Record 38 of Set 10 | Wageningen\n",
      "Processing Record 39 of Set 10 | Thompson\n",
      "Processing Record 40 of Set 10 | Borama\n",
      "City \"Borama\" not found. Skipping...\n",
      "Processing Record 40 of Set 10 | Owando\n",
      "Processing Record 41 of Set 10 | Verkhniy Landekh\n",
      "Processing Record 42 of Set 10 | Qabis\n",
      "City \"Qabis\" not found. Skipping...\n",
      "Processing Record 42 of Set 10 | Nara\n",
      "Processing Record 43 of Set 10 | Dakar\n",
      "Processing Record 44 of Set 10 | Pulsano\n",
      "Processing Record 45 of Set 10 | Morondava\n",
      "Processing Record 46 of Set 10 | Mendoza\n",
      "Processing Record 47 of Set 10 | Benjamin Constant\n",
      "Processing Record 48 of Set 10 | Coquimbo\n",
      "Processing Record 49 of Set 10 | Malinovoye Ozero\n",
      "Processing Record 50 of Set 10 | Paita\n",
      "Processing Record 1 of Set 11 | Lubumbashi\n",
      "Processing Record 2 of Set 11 | Radis\n",
      "Processing Record 3 of Set 11 | Maloshuyka\n",
      "City \"Maloshuyka\" not found. Skipping...\n",
      "Processing Record 3 of Set 11 | Buzdyak\n",
      "Processing Record 4 of Set 11 | Presidencia Roque Saenz Pena\n",
      "Processing Record 5 of Set 11 | Chapleau\n",
      "Processing Record 6 of Set 11 | Taoudenni\n",
      "Processing Record 7 of Set 11 | Polonnaruwa\n",
      "Processing Record 8 of Set 11 | Izhma\n",
      "Processing Record 9 of Set 11 | Trairi\n"
     ]
    },
    {
     "name": "stdout",
     "output_type": "stream",
     "text": [
      "Processing Record 10 of Set 11 | Salinopolis\n",
      "Processing Record 11 of Set 11 | George Town\n",
      "Processing Record 12 of Set 11 | Kamyshla\n",
      "Processing Record 13 of Set 11 | Alpena\n",
      "Processing Record 14 of Set 11 | Vodnyy\n",
      "Processing Record 15 of Set 11 | Katakwi\n",
      "Processing Record 16 of Set 11 | Talara\n",
      "Processing Record 17 of Set 11 | Vamvakou\n",
      "Processing Record 18 of Set 11 | Kabwe\n",
      "Processing Record 19 of Set 11 | Ghanzi\n",
      "Processing Record 20 of Set 11 | Baracoa\n",
      "Processing Record 21 of Set 11 | Juba\n",
      "Processing Record 22 of Set 11 | Upington\n",
      "Processing Record 23 of Set 11 | Acari\n",
      "Processing Record 24 of Set 11 | Sutysky\n",
      "Processing Record 25 of Set 11 | Fort Myers Beach\n",
      "Processing Record 26 of Set 11 | Petauke\n",
      "Processing Record 27 of Set 11 | Pozo Colorado\n",
      "Processing Record 28 of Set 11 | Bridlington\n",
      "Processing Record 29 of Set 11 | Baghdad\n",
      "Processing Record 30 of Set 11 | Douentza\n",
      "Processing Record 31 of Set 11 | Oxapampa\n",
      "Processing Record 32 of Set 11 | Ugoofaaru\n",
      "Processing Record 33 of Set 11 | Osakarovka\n",
      "Processing Record 34 of Set 11 | Alegrete\n",
      "Processing Record 35 of Set 11 | Semirom\n",
      "Processing Record 36 of Set 11 | Ileza\n",
      "Processing Record 37 of Set 11 | Lake City\n",
      "Processing Record 38 of Set 11 | Gornopravdinsk\n",
      "Processing Record 39 of Set 11 | Songea\n",
      "Processing Record 40 of Set 11 | Talgar\n",
      "Processing Record 41 of Set 11 | Bathsheba\n",
      "Processing Record 42 of Set 11 | Montbrison\n",
      "Processing Record 43 of Set 11 | Los Llanos De Aridane\n",
      "Processing Record 44 of Set 11 | Oranjestad\n",
      "Processing Record 45 of Set 11 | Gezing\n",
      "Processing Record 46 of Set 11 | Yambio\n",
      "Processing Record 47 of Set 11 | Burica\n",
      "City \"Burica\" not found. Skipping...\n",
      "Processing Record 47 of Set 11 | Bangassou\n",
      "Processing Record 48 of Set 11 | Nzega\n",
      "Processing Record 49 of Set 11 | Mezen\n",
      "Processing Record 50 of Set 11 | Laurel\n",
      "Processing Record 1 of Set 12 | Mbacke\n",
      "City \"Mbacke\" not found. Skipping...\n",
      "Processing Record 1 of Set 12 | Gravdal\n",
      "Processing Record 2 of Set 12 | Camacha\n",
      "Processing Record 3 of Set 12 | Goksun\n",
      "Processing Record 4 of Set 12 | Mustafakemalpasa\n",
      "Processing Record 5 of Set 12 | Beeskow\n",
      "-----------------------------\n",
      "Data Retrieval Complete\n",
      "-----------------------------\n"
     ]
    }
   ],
   "source": [
    "# set starting count and set for display\n",
    "count = 0\n",
    "Set = 1\n",
    "\n",
    "# Create cities dataframe\n",
    "cities_df=pd.DataFrame(cities)\n",
    "cities_df=cities_df.rename(columns={0:\"City\"})\n",
    "cities_df[\"Lat\"]= np.nan\n",
    "cities_df[\"Lng\"]= np.nan\n",
    "cities_df[\"Max Temp\"]= np.nan\n",
    "cities_df[\"Humidity\"]= np.nan\n",
    "cities_df[\"Cloudiness\"]= np.nan\n",
    "cities_df[\"Wind Speed\"]= np.nan\n",
    "cities_df[\"Country\"]= np.nan\n",
    "cities_df[\"Date\"]= np.nan\n",
    "\n",
    "# Create URL and determine units\n",
    "url = 'http://api.openweathermap.org/data/2.5/weather?q='\n",
    "\n",
    "# print initial message\n",
    "print('Beginning Data Retrieval')\n",
    "print('------------------------------')\n",
    "\n",
    "\n",
    "# use iterrows to iterate through pandas dataframe\n",
    "for index, row in cities_df.iterrows():\n",
    "#     time.sleep(0.005)\n",
    "    merge_url = url + row[\"City\"] + \"&appid=\" + weather_api_key + \"&units=metric\"\n",
    "    city_data = requests.get(merge_url).json()\n",
    "    try:\n",
    "        print(f'Processing Record {count+1} of Set {Set} | {row[\"City\"]}')\n",
    "        # inserting data into corresponding columns\n",
    "        cities_df.loc[index,\"Lat\"]=city_data[\"coord\"][\"lat\"]\n",
    "        cities_df.loc[index,\"Lng\"]=city_data[\"coord\"][\"lon\"]\n",
    "        cities_df.loc[index,\"Max Temp\"]=city_data[\"main\"][\"temp\"]\n",
    "        cities_df.loc[index,\"Humidity\"]=city_data[\"main\"][\"humidity\"]\n",
    "        cities_df.loc[index,\"Cloudiness\"]=city_data[\"clouds\"][\"all\"]\n",
    "        cities_df.loc[index,\"Wind Speed\"]=city_data[\"wind\"][\"speed\"]\n",
    "        cities_df.loc[index,\"Country\"]=city_data[\"sys\"][\"country\"]\n",
    "        cities_df.loc[index,\"Date\"]=city_data[\"dt\"]\n",
    "        count += 1\n",
    "        if count % 50 == 0:\n",
    "            Set = Set + 1\n",
    "            count = 0\n",
    "    except:\n",
    "        print(f'City \"{row[\"City\"]}\" not found. Skipping...')\n",
    "        cities_df=cities_df.drop(index)\n",
    "\n",
    "# Print last ending message\n",
    "print(\"-----------------------------\\nData Retrieval Complete\\n-----------------------------\")\n"
   ]
  },
  {
   "cell_type": "markdown",
   "metadata": {},
   "source": [
    "### Convert Raw Data to DataFrame\n",
    "* Export the city data into a .csv.\n",
    "* Display the DataFrame"
   ]
  },
  {
   "cell_type": "code",
   "execution_count": 4,
   "metadata": {
    "ExecuteTime": {
     "end_time": "2020-10-15T17:15:01.693895Z",
     "start_time": "2020-10-15T17:15:01.658472Z"
    }
   },
   "outputs": [
    {
     "data": {
      "text/html": [
       "<div>\n",
       "<style scoped>\n",
       "    .dataframe tbody tr th:only-of-type {\n",
       "        vertical-align: middle;\n",
       "    }\n",
       "\n",
       "    .dataframe tbody tr th {\n",
       "        vertical-align: top;\n",
       "    }\n",
       "\n",
       "    .dataframe thead th {\n",
       "        text-align: right;\n",
       "    }\n",
       "</style>\n",
       "<table border=\"1\" class=\"dataframe\">\n",
       "  <thead>\n",
       "    <tr style=\"text-align: right;\">\n",
       "      <th></th>\n",
       "      <th>City</th>\n",
       "      <th>Lat</th>\n",
       "      <th>Lng</th>\n",
       "      <th>Max Temp</th>\n",
       "      <th>Humidity</th>\n",
       "      <th>Cloudiness</th>\n",
       "      <th>Wind Speed</th>\n",
       "      <th>Country</th>\n",
       "      <th>Date</th>\n",
       "    </tr>\n",
       "  </thead>\n",
       "  <tbody>\n",
       "    <tr>\n",
       "      <th>0</th>\n",
       "      <td>Port Alfred</td>\n",
       "      <td>-33.59</td>\n",
       "      <td>26.89</td>\n",
       "      <td>18.73</td>\n",
       "      <td>85.0</td>\n",
       "      <td>1.0</td>\n",
       "      <td>5.83</td>\n",
       "      <td>ZA</td>\n",
       "      <td>1.602781e+09</td>\n",
       "    </tr>\n",
       "    <tr>\n",
       "      <th>1</th>\n",
       "      <td>Port Elizabeth</td>\n",
       "      <td>-33.92</td>\n",
       "      <td>25.57</td>\n",
       "      <td>17.00</td>\n",
       "      <td>93.0</td>\n",
       "      <td>40.0</td>\n",
       "      <td>6.20</td>\n",
       "      <td>ZA</td>\n",
       "      <td>1.602782e+09</td>\n",
       "    </tr>\n",
       "    <tr>\n",
       "      <th>2</th>\n",
       "      <td>Tasiilaq</td>\n",
       "      <td>65.61</td>\n",
       "      <td>-37.64</td>\n",
       "      <td>5.00</td>\n",
       "      <td>75.0</td>\n",
       "      <td>75.0</td>\n",
       "      <td>3.10</td>\n",
       "      <td>GL</td>\n",
       "      <td>1.602782e+09</td>\n",
       "    </tr>\n",
       "    <tr>\n",
       "      <th>3</th>\n",
       "      <td>Cockburn Town</td>\n",
       "      <td>21.46</td>\n",
       "      <td>-71.14</td>\n",
       "      <td>28.44</td>\n",
       "      <td>78.0</td>\n",
       "      <td>5.0</td>\n",
       "      <td>5.37</td>\n",
       "      <td>TC</td>\n",
       "      <td>1.602782e+09</td>\n",
       "    </tr>\n",
       "    <tr>\n",
       "      <th>4</th>\n",
       "      <td>Zemio</td>\n",
       "      <td>5.03</td>\n",
       "      <td>25.14</td>\n",
       "      <td>23.63</td>\n",
       "      <td>87.0</td>\n",
       "      <td>33.0</td>\n",
       "      <td>0.77</td>\n",
       "      <td>CF</td>\n",
       "      <td>1.602782e+09</td>\n",
       "    </tr>\n",
       "  </tbody>\n",
       "</table>\n",
       "</div>"
      ],
      "text/plain": [
       "             City    Lat    Lng  Max Temp  Humidity  Cloudiness  Wind Speed  \\\n",
       "0     Port Alfred -33.59  26.89     18.73      85.0         1.0        5.83   \n",
       "1  Port Elizabeth -33.92  25.57     17.00      93.0        40.0        6.20   \n",
       "2        Tasiilaq  65.61 -37.64      5.00      75.0        75.0        3.10   \n",
       "3   Cockburn Town  21.46 -71.14     28.44      78.0         5.0        5.37   \n",
       "4           Zemio   5.03  25.14     23.63      87.0        33.0        0.77   \n",
       "\n",
       "  Country          Date  \n",
       "0      ZA  1.602781e+09  \n",
       "1      ZA  1.602782e+09  \n",
       "2      GL  1.602782e+09  \n",
       "3      TC  1.602782e+09  \n",
       "4      CF  1.602782e+09  "
      ]
     },
     "execution_count": 4,
     "metadata": {},
     "output_type": "execute_result"
    }
   ],
   "source": [
    "# Write dataframe to csv\n",
    "cities_df.to_csv(r'output_data/Cities_Data.csv',index=False)\n",
    "\n",
    "# Copy CSV to dataframe\n",
    "csv_df = pd.read_csv(\"output_data/Cities_Data.csv\")\n",
    "csv_df.head()"
   ]
  },
  {
   "cell_type": "code",
   "execution_count": 5,
   "metadata": {
    "ExecuteTime": {
     "end_time": "2020-10-15T17:15:01.761965Z",
     "start_time": "2020-10-15T17:15:01.704000Z"
    }
   },
   "outputs": [
    {
     "data": {
      "text/html": [
       "<div>\n",
       "<style scoped>\n",
       "    .dataframe tbody tr th:only-of-type {\n",
       "        vertical-align: middle;\n",
       "    }\n",
       "\n",
       "    .dataframe tbody tr th {\n",
       "        vertical-align: top;\n",
       "    }\n",
       "\n",
       "    .dataframe thead th {\n",
       "        text-align: right;\n",
       "    }\n",
       "</style>\n",
       "<table border=\"1\" class=\"dataframe\">\n",
       "  <thead>\n",
       "    <tr style=\"text-align: right;\">\n",
       "      <th></th>\n",
       "      <th>Lat</th>\n",
       "      <th>Lng</th>\n",
       "      <th>Max Temp</th>\n",
       "      <th>Humidity</th>\n",
       "      <th>Cloudiness</th>\n",
       "      <th>Wind Speed</th>\n",
       "      <th>Date</th>\n",
       "    </tr>\n",
       "  </thead>\n",
       "  <tbody>\n",
       "    <tr>\n",
       "      <th>count</th>\n",
       "      <td>555.000000</td>\n",
       "      <td>555.000000</td>\n",
       "      <td>555.000000</td>\n",
       "      <td>555.000000</td>\n",
       "      <td>555.000000</td>\n",
       "      <td>555.000000</td>\n",
       "      <td>5.550000e+02</td>\n",
       "    </tr>\n",
       "    <tr>\n",
       "      <th>mean</th>\n",
       "      <td>19.901117</td>\n",
       "      <td>2.810486</td>\n",
       "      <td>19.779063</td>\n",
       "      <td>64.286486</td>\n",
       "      <td>46.025225</td>\n",
       "      <td>3.759946</td>\n",
       "      <td>1.602782e+09</td>\n",
       "    </tr>\n",
       "    <tr>\n",
       "      <th>std</th>\n",
       "      <td>30.776332</td>\n",
       "      <td>56.238581</td>\n",
       "      <td>9.889274</td>\n",
       "      <td>22.167456</td>\n",
       "      <td>35.849254</td>\n",
       "      <td>2.422423</td>\n",
       "      <td>2.302544e+02</td>\n",
       "    </tr>\n",
       "    <tr>\n",
       "      <th>min</th>\n",
       "      <td>-54.800000</td>\n",
       "      <td>-121.420000</td>\n",
       "      <td>-4.000000</td>\n",
       "      <td>6.000000</td>\n",
       "      <td>0.000000</td>\n",
       "      <td>0.260000</td>\n",
       "      <td>1.602781e+09</td>\n",
       "    </tr>\n",
       "    <tr>\n",
       "      <th>25%</th>\n",
       "      <td>-3.975000</td>\n",
       "      <td>-53.080000</td>\n",
       "      <td>11.600000</td>\n",
       "      <td>50.000000</td>\n",
       "      <td>11.500000</td>\n",
       "      <td>2.000000</td>\n",
       "      <td>1.602782e+09</td>\n",
       "    </tr>\n",
       "    <tr>\n",
       "      <th>50%</th>\n",
       "      <td>21.230000</td>\n",
       "      <td>13.500000</td>\n",
       "      <td>22.000000</td>\n",
       "      <td>69.000000</td>\n",
       "      <td>40.000000</td>\n",
       "      <td>3.180000</td>\n",
       "      <td>1.602782e+09</td>\n",
       "    </tr>\n",
       "    <tr>\n",
       "      <th>75%</th>\n",
       "      <td>45.770000</td>\n",
       "      <td>43.895000</td>\n",
       "      <td>27.595000</td>\n",
       "      <td>81.000000</td>\n",
       "      <td>75.000000</td>\n",
       "      <td>5.100000</td>\n",
       "      <td>1.602782e+09</td>\n",
       "    </tr>\n",
       "    <tr>\n",
       "      <th>max</th>\n",
       "      <td>78.220000</td>\n",
       "      <td>153.570000</td>\n",
       "      <td>39.270000</td>\n",
       "      <td>100.000000</td>\n",
       "      <td>100.000000</td>\n",
       "      <td>15.400000</td>\n",
       "      <td>1.602782e+09</td>\n",
       "    </tr>\n",
       "  </tbody>\n",
       "</table>\n",
       "</div>"
      ],
      "text/plain": [
       "              Lat         Lng    Max Temp    Humidity  Cloudiness  Wind Speed  \\\n",
       "count  555.000000  555.000000  555.000000  555.000000  555.000000  555.000000   \n",
       "mean    19.901117    2.810486   19.779063   64.286486   46.025225    3.759946   \n",
       "std     30.776332   56.238581    9.889274   22.167456   35.849254    2.422423   \n",
       "min    -54.800000 -121.420000   -4.000000    6.000000    0.000000    0.260000   \n",
       "25%     -3.975000  -53.080000   11.600000   50.000000   11.500000    2.000000   \n",
       "50%     21.230000   13.500000   22.000000   69.000000   40.000000    3.180000   \n",
       "75%     45.770000   43.895000   27.595000   81.000000   75.000000    5.100000   \n",
       "max     78.220000  153.570000   39.270000  100.000000  100.000000   15.400000   \n",
       "\n",
       "               Date  \n",
       "count  5.550000e+02  \n",
       "mean   1.602782e+09  \n",
       "std    2.302544e+02  \n",
       "min    1.602781e+09  \n",
       "25%    1.602782e+09  \n",
       "50%    1.602782e+09  \n",
       "75%    1.602782e+09  \n",
       "max    1.602782e+09  "
      ]
     },
     "execution_count": 5,
     "metadata": {},
     "output_type": "execute_result"
    }
   ],
   "source": [
    "# display summary table\n",
    "csv_df.describe()"
   ]
  },
  {
   "cell_type": "markdown",
   "metadata": {},
   "source": [
    "## Inspect the data and remove the cities where the humidity > 100%.\n",
    "----\n",
    "Skip this step if there are no cities that have humidity > 100%. "
   ]
  },
  {
   "cell_type": "code",
   "execution_count": 6,
   "metadata": {
    "ExecuteTime": {
     "end_time": "2020-10-15T17:15:01.779567Z",
     "start_time": "2020-10-15T17:15:01.765836Z"
    }
   },
   "outputs": [
    {
     "data": {
      "text/plain": [
       "Int64Index([], dtype='int64')"
      ]
     },
     "execution_count": 6,
     "metadata": {},
     "output_type": "execute_result"
    }
   ],
   "source": [
    "#  Get the indices of cities that have humidity over 100%.\n",
    "humid100 = csv_df[csv_df.Humidity > 100].index\n",
    "humid100\n",
    "# no city with humidity > 100%"
   ]
  },
  {
   "cell_type": "code",
   "execution_count": 7,
   "metadata": {
    "ExecuteTime": {
     "end_time": "2020-10-15T17:15:01.819373Z",
     "start_time": "2020-10-15T17:15:01.783034Z"
    }
   },
   "outputs": [
    {
     "data": {
      "text/html": [
       "<div>\n",
       "<style scoped>\n",
       "    .dataframe tbody tr th:only-of-type {\n",
       "        vertical-align: middle;\n",
       "    }\n",
       "\n",
       "    .dataframe tbody tr th {\n",
       "        vertical-align: top;\n",
       "    }\n",
       "\n",
       "    .dataframe thead th {\n",
       "        text-align: right;\n",
       "    }\n",
       "</style>\n",
       "<table border=\"1\" class=\"dataframe\">\n",
       "  <thead>\n",
       "    <tr style=\"text-align: right;\">\n",
       "      <th></th>\n",
       "      <th>City</th>\n",
       "      <th>Lat</th>\n",
       "      <th>Lng</th>\n",
       "      <th>Max Temp</th>\n",
       "      <th>Humidity</th>\n",
       "      <th>Cloudiness</th>\n",
       "      <th>Wind Speed</th>\n",
       "      <th>Country</th>\n",
       "      <th>Date</th>\n",
       "    </tr>\n",
       "  </thead>\n",
       "  <tbody>\n",
       "    <tr>\n",
       "      <th>0</th>\n",
       "      <td>Port Alfred</td>\n",
       "      <td>-33.59</td>\n",
       "      <td>26.89</td>\n",
       "      <td>18.73</td>\n",
       "      <td>85.0</td>\n",
       "      <td>1.0</td>\n",
       "      <td>5.83</td>\n",
       "      <td>ZA</td>\n",
       "      <td>1.602781e+09</td>\n",
       "    </tr>\n",
       "    <tr>\n",
       "      <th>1</th>\n",
       "      <td>Port Elizabeth</td>\n",
       "      <td>-33.92</td>\n",
       "      <td>25.57</td>\n",
       "      <td>17.00</td>\n",
       "      <td>93.0</td>\n",
       "      <td>40.0</td>\n",
       "      <td>6.20</td>\n",
       "      <td>ZA</td>\n",
       "      <td>1.602782e+09</td>\n",
       "    </tr>\n",
       "    <tr>\n",
       "      <th>2</th>\n",
       "      <td>Tasiilaq</td>\n",
       "      <td>65.61</td>\n",
       "      <td>-37.64</td>\n",
       "      <td>5.00</td>\n",
       "      <td>75.0</td>\n",
       "      <td>75.0</td>\n",
       "      <td>3.10</td>\n",
       "      <td>GL</td>\n",
       "      <td>1.602782e+09</td>\n",
       "    </tr>\n",
       "    <tr>\n",
       "      <th>3</th>\n",
       "      <td>Cockburn Town</td>\n",
       "      <td>21.46</td>\n",
       "      <td>-71.14</td>\n",
       "      <td>28.44</td>\n",
       "      <td>78.0</td>\n",
       "      <td>5.0</td>\n",
       "      <td>5.37</td>\n",
       "      <td>TC</td>\n",
       "      <td>1.602782e+09</td>\n",
       "    </tr>\n",
       "    <tr>\n",
       "      <th>4</th>\n",
       "      <td>Zemio</td>\n",
       "      <td>5.03</td>\n",
       "      <td>25.14</td>\n",
       "      <td>23.63</td>\n",
       "      <td>87.0</td>\n",
       "      <td>33.0</td>\n",
       "      <td>0.77</td>\n",
       "      <td>CF</td>\n",
       "      <td>1.602782e+09</td>\n",
       "    </tr>\n",
       "    <tr>\n",
       "      <th>...</th>\n",
       "      <td>...</td>\n",
       "      <td>...</td>\n",
       "      <td>...</td>\n",
       "      <td>...</td>\n",
       "      <td>...</td>\n",
       "      <td>...</td>\n",
       "      <td>...</td>\n",
       "      <td>...</td>\n",
       "      <td>...</td>\n",
       "    </tr>\n",
       "    <tr>\n",
       "      <th>550</th>\n",
       "      <td>Gravdal</td>\n",
       "      <td>68.12</td>\n",
       "      <td>13.50</td>\n",
       "      <td>6.00</td>\n",
       "      <td>81.0</td>\n",
       "      <td>75.0</td>\n",
       "      <td>5.10</td>\n",
       "      <td>NO</td>\n",
       "      <td>1.602782e+09</td>\n",
       "    </tr>\n",
       "    <tr>\n",
       "      <th>551</th>\n",
       "      <td>Camacha</td>\n",
       "      <td>33.08</td>\n",
       "      <td>-16.33</td>\n",
       "      <td>22.00</td>\n",
       "      <td>60.0</td>\n",
       "      <td>75.0</td>\n",
       "      <td>5.10</td>\n",
       "      <td>PT</td>\n",
       "      <td>1.602782e+09</td>\n",
       "    </tr>\n",
       "    <tr>\n",
       "      <th>552</th>\n",
       "      <td>Goksun</td>\n",
       "      <td>38.02</td>\n",
       "      <td>36.50</td>\n",
       "      <td>25.00</td>\n",
       "      <td>53.0</td>\n",
       "      <td>0.0</td>\n",
       "      <td>8.20</td>\n",
       "      <td>TR</td>\n",
       "      <td>1.602782e+09</td>\n",
       "    </tr>\n",
       "    <tr>\n",
       "      <th>553</th>\n",
       "      <td>Mustafakemalpasa</td>\n",
       "      <td>40.04</td>\n",
       "      <td>28.41</td>\n",
       "      <td>21.54</td>\n",
       "      <td>68.0</td>\n",
       "      <td>0.0</td>\n",
       "      <td>3.10</td>\n",
       "      <td>TR</td>\n",
       "      <td>1.602782e+09</td>\n",
       "    </tr>\n",
       "    <tr>\n",
       "      <th>554</th>\n",
       "      <td>Beeskow</td>\n",
       "      <td>52.17</td>\n",
       "      <td>14.25</td>\n",
       "      <td>10.93</td>\n",
       "      <td>28.0</td>\n",
       "      <td>97.0</td>\n",
       "      <td>4.75</td>\n",
       "      <td>DE</td>\n",
       "      <td>1.602782e+09</td>\n",
       "    </tr>\n",
       "  </tbody>\n",
       "</table>\n",
       "<p>555 rows × 9 columns</p>\n",
       "</div>"
      ],
      "text/plain": [
       "                 City    Lat    Lng  Max Temp  Humidity  Cloudiness  \\\n",
       "0         Port Alfred -33.59  26.89     18.73      85.0         1.0   \n",
       "1      Port Elizabeth -33.92  25.57     17.00      93.0        40.0   \n",
       "2            Tasiilaq  65.61 -37.64      5.00      75.0        75.0   \n",
       "3       Cockburn Town  21.46 -71.14     28.44      78.0         5.0   \n",
       "4               Zemio   5.03  25.14     23.63      87.0        33.0   \n",
       "..                ...    ...    ...       ...       ...         ...   \n",
       "550           Gravdal  68.12  13.50      6.00      81.0        75.0   \n",
       "551           Camacha  33.08 -16.33     22.00      60.0        75.0   \n",
       "552            Goksun  38.02  36.50     25.00      53.0         0.0   \n",
       "553  Mustafakemalpasa  40.04  28.41     21.54      68.0         0.0   \n",
       "554           Beeskow  52.17  14.25     10.93      28.0        97.0   \n",
       "\n",
       "     Wind Speed Country          Date  \n",
       "0          5.83      ZA  1.602781e+09  \n",
       "1          6.20      ZA  1.602782e+09  \n",
       "2          3.10      GL  1.602782e+09  \n",
       "3          5.37      TC  1.602782e+09  \n",
       "4          0.77      CF  1.602782e+09  \n",
       "..          ...     ...           ...  \n",
       "550        5.10      NO  1.602782e+09  \n",
       "551        5.10      PT  1.602782e+09  \n",
       "552        8.20      TR  1.602782e+09  \n",
       "553        3.10      TR  1.602782e+09  \n",
       "554        4.75      DE  1.602782e+09  \n",
       "\n",
       "[555 rows x 9 columns]"
      ]
     },
     "execution_count": 7,
     "metadata": {},
     "output_type": "execute_result"
    }
   ],
   "source": [
    "# Make a new DataFrame equal to the city data to drop all humidity outliers by index.\n",
    "# Passing \"inplace=False\" will make a copy of the city_data DataFrame, which we call \"clean_city_data\".\n",
    "clean_city_data = csv_df.drop(csv_df.index[humid100], inplace=False)\n",
    "clean_city_data"
   ]
  },
  {
   "cell_type": "code",
   "execution_count": 8,
   "metadata": {
    "ExecuteTime": {
     "end_time": "2020-10-15T17:15:01.881262Z",
     "start_time": "2020-10-15T17:15:01.826498Z"
    }
   },
   "outputs": [
    {
     "data": {
      "text/html": [
       "<div>\n",
       "<style scoped>\n",
       "    .dataframe tbody tr th:only-of-type {\n",
       "        vertical-align: middle;\n",
       "    }\n",
       "\n",
       "    .dataframe tbody tr th {\n",
       "        vertical-align: top;\n",
       "    }\n",
       "\n",
       "    .dataframe thead th {\n",
       "        text-align: right;\n",
       "    }\n",
       "</style>\n",
       "<table border=\"1\" class=\"dataframe\">\n",
       "  <thead>\n",
       "    <tr style=\"text-align: right;\">\n",
       "      <th></th>\n",
       "      <th>Lat</th>\n",
       "      <th>Lng</th>\n",
       "      <th>Max Temp</th>\n",
       "      <th>Humidity</th>\n",
       "      <th>Cloudiness</th>\n",
       "      <th>Wind Speed</th>\n",
       "      <th>Date</th>\n",
       "    </tr>\n",
       "  </thead>\n",
       "  <tbody>\n",
       "    <tr>\n",
       "      <th>count</th>\n",
       "      <td>555.000000</td>\n",
       "      <td>555.000000</td>\n",
       "      <td>555.000000</td>\n",
       "      <td>555.000000</td>\n",
       "      <td>555.000000</td>\n",
       "      <td>555.000000</td>\n",
       "      <td>5.550000e+02</td>\n",
       "    </tr>\n",
       "    <tr>\n",
       "      <th>mean</th>\n",
       "      <td>19.901117</td>\n",
       "      <td>2.810486</td>\n",
       "      <td>19.779063</td>\n",
       "      <td>64.286486</td>\n",
       "      <td>46.025225</td>\n",
       "      <td>3.759946</td>\n",
       "      <td>1.602782e+09</td>\n",
       "    </tr>\n",
       "    <tr>\n",
       "      <th>std</th>\n",
       "      <td>30.776332</td>\n",
       "      <td>56.238581</td>\n",
       "      <td>9.889274</td>\n",
       "      <td>22.167456</td>\n",
       "      <td>35.849254</td>\n",
       "      <td>2.422423</td>\n",
       "      <td>2.302544e+02</td>\n",
       "    </tr>\n",
       "    <tr>\n",
       "      <th>min</th>\n",
       "      <td>-54.800000</td>\n",
       "      <td>-121.420000</td>\n",
       "      <td>-4.000000</td>\n",
       "      <td>6.000000</td>\n",
       "      <td>0.000000</td>\n",
       "      <td>0.260000</td>\n",
       "      <td>1.602781e+09</td>\n",
       "    </tr>\n",
       "    <tr>\n",
       "      <th>25%</th>\n",
       "      <td>-3.975000</td>\n",
       "      <td>-53.080000</td>\n",
       "      <td>11.600000</td>\n",
       "      <td>50.000000</td>\n",
       "      <td>11.500000</td>\n",
       "      <td>2.000000</td>\n",
       "      <td>1.602782e+09</td>\n",
       "    </tr>\n",
       "    <tr>\n",
       "      <th>50%</th>\n",
       "      <td>21.230000</td>\n",
       "      <td>13.500000</td>\n",
       "      <td>22.000000</td>\n",
       "      <td>69.000000</td>\n",
       "      <td>40.000000</td>\n",
       "      <td>3.180000</td>\n",
       "      <td>1.602782e+09</td>\n",
       "    </tr>\n",
       "    <tr>\n",
       "      <th>75%</th>\n",
       "      <td>45.770000</td>\n",
       "      <td>43.895000</td>\n",
       "      <td>27.595000</td>\n",
       "      <td>81.000000</td>\n",
       "      <td>75.000000</td>\n",
       "      <td>5.100000</td>\n",
       "      <td>1.602782e+09</td>\n",
       "    </tr>\n",
       "    <tr>\n",
       "      <th>max</th>\n",
       "      <td>78.220000</td>\n",
       "      <td>153.570000</td>\n",
       "      <td>39.270000</td>\n",
       "      <td>100.000000</td>\n",
       "      <td>100.000000</td>\n",
       "      <td>15.400000</td>\n",
       "      <td>1.602782e+09</td>\n",
       "    </tr>\n",
       "  </tbody>\n",
       "</table>\n",
       "</div>"
      ],
      "text/plain": [
       "              Lat         Lng    Max Temp    Humidity  Cloudiness  Wind Speed  \\\n",
       "count  555.000000  555.000000  555.000000  555.000000  555.000000  555.000000   \n",
       "mean    19.901117    2.810486   19.779063   64.286486   46.025225    3.759946   \n",
       "std     30.776332   56.238581    9.889274   22.167456   35.849254    2.422423   \n",
       "min    -54.800000 -121.420000   -4.000000    6.000000    0.000000    0.260000   \n",
       "25%     -3.975000  -53.080000   11.600000   50.000000   11.500000    2.000000   \n",
       "50%     21.230000   13.500000   22.000000   69.000000   40.000000    3.180000   \n",
       "75%     45.770000   43.895000   27.595000   81.000000   75.000000    5.100000   \n",
       "max     78.220000  153.570000   39.270000  100.000000  100.000000   15.400000   \n",
       "\n",
       "               Date  \n",
       "count  5.550000e+02  \n",
       "mean   1.602782e+09  \n",
       "std    2.302544e+02  \n",
       "min    1.602781e+09  \n",
       "25%    1.602782e+09  \n",
       "50%    1.602782e+09  \n",
       "75%    1.602782e+09  \n",
       "max    1.602782e+09  "
      ]
     },
     "execution_count": 8,
     "metadata": {},
     "output_type": "execute_result"
    }
   ],
   "source": [
    "# confirm the maximum humidity in the clean_city_data\n",
    "clean_city_data.describe()"
   ]
  },
  {
   "cell_type": "markdown",
   "metadata": {},
   "source": [
    "## Plotting the Data\n",
    "* Use proper labeling of the plots using plot titles (including date of analysis) and axes labels.\n",
    "* Save the plotted figures as .pngs."
   ]
  },
  {
   "cell_type": "markdown",
   "metadata": {},
   "source": [
    "## Latitude vs. Temperature Plot"
   ]
  },
  {
   "cell_type": "code",
   "execution_count": 9,
   "metadata": {
    "ExecuteTime": {
     "end_time": "2020-10-15T17:15:02.306779Z",
     "start_time": "2020-10-15T17:15:01.887925Z"
    }
   },
   "outputs": [
    {
     "data": {
      "image/png": "[encoded data removed]",
      "text/plain": [
       "<Figure size 432x288 with 1 Axes>"
      ]
     },
     "metadata": {
      "needs_background": "light"
     },
     "output_type": "display_data"
    }
   ],
   "source": [
    "# capture the date that the script would run\n",
    "date=time.strftime('%m/%d/%y')\n",
    "\n",
    "plt.scatter(clean_city_data[\"Lat\"], clean_city_data[\"Max Temp\"], color = \"cornflowerblue\", marker = \"o\", alpha = \".8\")\n",
    "plt.grid(b=True, alpha = 0.5)\n",
    "plt.xlabel(\"Latitude\")\n",
    "plt.ylabel('Max Temperature (ºC)')\n",
    "plt.title(f\"City Latitude vs. Max. Temperature ({date})\")\n",
    "\n",
    "plt.savefig('output_data/Fig 1 - Lat_vs_Temp.png')\n",
    "plt.show()"
   ]
  },
  {
   "cell_type": "markdown",
   "metadata": {},
   "source": [
    "## Latitude vs. Humidity Plot"
   ]
  },
  {
   "cell_type": "code",
   "execution_count": 10,
   "metadata": {
    "ExecuteTime": {
     "end_time": "2020-10-15T17:15:02.535444Z",
     "start_time": "2020-10-15T17:15:02.308814Z"
    }
   },
   "outputs": [
    {
     "data": {
      "image/png": "[encoded data removed]",
      "text/plain": [
       "<Figure size 432x288 with 1 Axes>"
      ]
     },
     "metadata": {
      "needs_background": "light"
     },
     "output_type": "display_data"
    }
   ],
   "source": [
    "plt.scatter(clean_city_data['Lat'], clean_city_data['Humidity'], color = \"cornflowerblue\", marker = \"o\", alpha = \".8\")\n",
    "plt.grid(b=True, alpha = 0.5)\n",
    "plt.xlabel(\"Latitude\")\n",
    "plt.ylabel(\"Humidity (%)\")\n",
    "plt.title(f\"City Latitude vs. Humidity ({date})\")\n",
    "\n",
    "plt.savefig('output_data/Fig 2 - Lat_vs_Hum.png')\n",
    "plt.show()"
   ]
  },
  {
   "cell_type": "markdown",
   "metadata": {},
   "source": [
    "## Latitude vs. Cloudiness Plot"
   ]
  },
  {
   "cell_type": "code",
   "execution_count": 11,
   "metadata": {
    "ExecuteTime": {
     "end_time": "2020-10-15T17:15:02.753710Z",
     "start_time": "2020-10-15T17:15:02.536952Z"
    }
   },
   "outputs": [
    {
     "data": {
      "image/png": "[encoded data removed]",
      "text/plain": [
       "<Figure size 432x288 with 1 Axes>"
      ]
     },
     "metadata": {
      "needs_background": "light"
     },
     "output_type": "display_data"
    }
   ],
   "source": [
    "plt.scatter(clean_city_data['Lat'], clean_city_data['Cloudiness'], color = \"cornflowerblue\", marker = \"o\", alpha = \".8\")\n",
    "plt.grid(b=True, alpha = 0.5)\n",
    "plt.xlabel(\"Latitude\")\n",
    "plt.ylabel(\"Cloudiness (%)\")\n",
    "plt.title(f\"City Latitude vs. Cloudiness ({date})\")\n",
    "\n",
    "plt.savefig('output_data/Fig 3 - Lat_vs_Cld.png')\n",
    "plt.show()"
   ]
  },
  {
   "cell_type": "markdown",
   "metadata": {},
   "source": [
    "## Latitude vs. Wind Speed Plot"
   ]
  },
  {
   "cell_type": "code",
   "execution_count": 12,
   "metadata": {
    "ExecuteTime": {
     "end_time": "2020-10-15T17:15:02.965507Z",
     "start_time": "2020-10-15T17:15:02.755239Z"
    }
   },
   "outputs": [
    {
     "data": {
      "image/png": "[encoded data removed]",
      "text/plain": [
       "<Figure size 432x288 with 1 Axes>"
      ]
     },
     "metadata": {
      "needs_background": "light"
     },
     "output_type": "display_data"
    }
   ],
   "source": [
    "plt.scatter(clean_city_data['Lat'], clean_city_data['Wind Speed'], color = \"cornflowerblue\", marker = \"o\", alpha = \".8\")\n",
    "plt.grid(b=True, alpha = 0.5)\n",
    "plt.xlabel(\"Latitude\")\n",
    "plt.ylabel(\"Wind Speed (m/s)\")\n",
    "plt.title(f\"City Latitude vs. Wind Speed ({date})\")\n",
    "\n",
    "plt.savefig('output_data/Fig 4 - Lat_vs_Wnd.png')\n",
    "plt.show()"
   ]
  },
  {
   "cell_type": "markdown",
   "metadata": {},
   "source": [
    "## Linear Regression"
   ]
  },
  {
   "cell_type": "code",
   "execution_count": 13,
   "metadata": {
    "ExecuteTime": {
     "end_time": "2020-10-15T17:15:02.970122Z",
     "start_time": "2020-10-15T17:15:02.966844Z"
    }
   },
   "outputs": [],
   "source": [
    "# split dataframe into northern and southern hemisphere\n",
    "n_csv = clean_city_data[clean_city_data[\"Lat\"]>=0]\n",
    "s_csv = clean_city_data[clean_city_data[\"Lat\"]<0]"
   ]
  },
  {
   "cell_type": "markdown",
   "metadata": {},
   "source": [
    "####  Northern Hemisphere - Max Temp vs. Latitude Linear Regression"
   ]
  },
  {
   "cell_type": "code",
   "execution_count": 14,
   "metadata": {
    "ExecuteTime": {
     "end_time": "2020-10-15T17:15:03.109952Z",
     "start_time": "2020-10-15T17:15:02.971570Z"
    }
   },
   "outputs": [
    {
     "name": "stdout",
     "output_type": "stream",
     "text": [
      "The r-value is: 0.7635236237294915\n"
     ]
    },
    {
     "data": {
      "image/png": "[encoded data removed]",
      "text/plain": [
       "<Figure size 432x288 with 1 Axes>"
      ]
     },
     "metadata": {
      "needs_background": "light"
     },
     "output_type": "display_data"
    }
   ],
   "source": [
    "x_values = n_csv[\"Lat\"]\n",
    "y_values = n_csv[\"Max Temp\"]\n",
    "(slope, intercept, rvalue, pvalue, stderr) = linregress(x_values, y_values)\n",
    "regress_values = x_values * slope + intercept\n",
    "line_eq = \"y = \" + str(round(slope,2)) + \"x + \" + str(round(intercept,2))\n",
    "\n",
    "plt.scatter(x_values,y_values)\n",
    "plt.plot(x_values,regress_values,\"r-\")\n",
    "plt.annotate(line_eq,(2,-1),fontsize=15,color=\"red\")\n",
    "plt.xlabel(\"Latitude\")\n",
    "plt.ylabel(\"Max Temp\")\n",
    "\n",
    "print(f\"The r-value is: {rvalue**2}\")\n",
    "plt.show()"
   ]
  },
  {
   "cell_type": "markdown",
   "metadata": {},
   "source": [
    "####  Southern Hemisphere - Max Temp vs. Latitude Linear Regression"
   ]
  },
  {
   "cell_type": "code",
   "execution_count": 15,
   "metadata": {
    "ExecuteTime": {
     "end_time": "2020-10-15T17:15:03.243127Z",
     "start_time": "2020-10-15T17:15:03.111934Z"
    }
   },
   "outputs": [
    {
     "name": "stdout",
     "output_type": "stream",
     "text": [
      "The r-value is: 0.33017977148405414\n"
     ]
    },
    {
     "data": {
      "image/png": "[encoded data removed]",
      "text/plain": [
       "<Figure size 432x288 with 1 Axes>"
      ]
     },
     "metadata": {
      "needs_background": "light"
     },
     "output_type": "display_data"
    }
   ],
   "source": [
    "x_values = s_csv[\"Lat\"]\n",
    "y_values = s_csv[\"Max Temp\"]\n",
    "(slope, intercept, rvalue, pvalue, stderr) = linregress(x_values, y_values)\n",
    "regress_values = x_values * slope + intercept\n",
    "line_eq = \"y = \" + str(round(slope,2)) + \"x + \" + str(round(intercept,2))\n",
    "\n",
    "plt.scatter(x_values,y_values)\n",
    "plt.plot(x_values,regress_values,\"r-\")\n",
    "plt.annotate(line_eq,(-55,36),fontsize=15,color=\"red\")\n",
    "plt.xlabel(\"Latitude\")\n",
    "plt.ylabel(\"Max Temp\")\n",
    "\n",
    "print(f\"The r-value is: {rvalue**2}\")\n",
    "plt.show()"
   ]
  },
  {
   "cell_type": "markdown",
   "metadata": {},
   "source": [
    "####  Northern Hemisphere - Humidity (%) vs. Latitude Linear Regression"
   ]
  },
  {
   "cell_type": "code",
   "execution_count": 16,
   "metadata": {
    "ExecuteTime": {
     "end_time": "2020-10-15T17:15:03.445112Z",
     "start_time": "2020-10-15T17:15:03.244670Z"
    }
   },
   "outputs": [
    {
     "name": "stdout",
     "output_type": "stream",
     "text": [
      "The r-value is: 0.03952226719079972\n"
     ]
    },
    {
     "data": {
      "image/png": "[encoded data removed]",
      "text/plain": [
       "<Figure size 432x288 with 1 Axes>"
      ]
     },
     "metadata": {
      "needs_background": "light"
     },
     "output_type": "display_data"
    }
   ],
   "source": [
    "x_values = n_csv[\"Lat\"]\n",
    "y_values = n_csv[\"Humidity\"]\n",
    "(slope, intercept, rvalue, pvalue, stderr) = linregress(x_values, y_values)\n",
    "regress_values = x_values * slope + intercept\n",
    "line_eq = \"y = \" + str(round(slope,2)) + \"x + \" + str(round(intercept,2))\n",
    "\n",
    "plt.scatter(x_values,y_values)\n",
    "plt.plot(x_values,regress_values,\"r-\")\n",
    "plt.annotate(line_eq,(45,10),fontsize=15,color=\"red\")\n",
    "plt.xlabel(\"Latitude\")\n",
    "plt.ylabel(\"Humidity\")\n",
    "\n",
    "print(f\"The r-value is: {rvalue**2}\")\n",
    "plt.show()"
   ]
  },
  {
   "cell_type": "markdown",
   "metadata": {},
   "source": [
    "####  Southern Hemisphere - Humidity (%) vs. Latitude Linear Regression"
   ]
  },
  {
   "cell_type": "code",
   "execution_count": 17,
   "metadata": {
    "ExecuteTime": {
     "end_time": "2020-10-15T17:15:03.562722Z",
     "start_time": "2020-10-15T17:15:03.446588Z"
    }
   },
   "outputs": [
    {
     "name": "stdout",
     "output_type": "stream",
     "text": [
      "The r-value is: 0.01778696660942616\n"
     ]
    },
    {
     "data": {
      "image/png": "[encoded data removed]",
      "text/plain": [
       "<Figure size 432x288 with 1 Axes>"
      ]
     },
     "metadata": {
      "needs_background": "light"
     },
     "output_type": "display_data"
    }
   ],
   "source": [
    "x_values = s_csv[\"Lat\"]\n",
    "y_values = s_csv[\"Humidity\"]\n",
    "(slope, intercept, rvalue, pvalue, stderr) = linregress(x_values, y_values)\n",
    "regress_values = x_values * slope + intercept\n",
    "line_eq = \"y = \" + str(round(slope,2)) + \"x + \" + str(round(intercept,2))\n",
    "\n",
    "plt.scatter(x_values,y_values)\n",
    "plt.plot(x_values,regress_values,\"r-\")\n",
    "plt.annotate(line_eq,(-55,90),fontsize=15,color=\"red\")\n",
    "plt.xlabel(\"Latitude\")\n",
    "plt.ylabel(\"Humidity\")\n",
    "\n",
    "print(f\"The r-value is: {rvalue**2}\")\n",
    "plt.show()"
   ]
  },
  {
   "cell_type": "markdown",
   "metadata": {},
   "source": [
    "####  Northern Hemisphere - Cloudiness (%) vs. Latitude Linear Regression"
   ]
  },
  {
   "cell_type": "code",
   "execution_count": 18,
   "metadata": {
    "ExecuteTime": {
     "end_time": "2020-10-15T17:15:03.697563Z",
     "start_time": "2020-10-15T17:15:03.564709Z"
    }
   },
   "outputs": [
    {
     "name": "stdout",
     "output_type": "stream",
     "text": [
      "The r-value is: 0.05187803382382598\n"
     ]
    },
    {
     "data": {
      "image/png": "[encoded data removed]",
      "text/plain": [
       "<Figure size 432x288 with 1 Axes>"
      ]
     },
     "metadata": {
      "needs_background": "light"
     },
     "output_type": "display_data"
    }
   ],
   "source": [
    "x_values = n_csv[\"Lat\"]\n",
    "y_values = n_csv[\"Cloudiness\"]\n",
    "(slope, intercept, rvalue, pvalue, stderr) = linregress(x_values, y_values)\n",
    "regress_values = x_values * slope + intercept\n",
    "line_eq = \"y = \" + str(round(slope,2)) + \"x + \" + str(round(intercept,2))\n",
    "\n",
    "plt.scatter(x_values,y_values)\n",
    "plt.plot(x_values,regress_values,\"r-\")\n",
    "plt.annotate(line_eq,(45,10),fontsize=15,color=\"red\")\n",
    "plt.xlabel(\"Latitude\")\n",
    "plt.ylabel(\"Cloudiness\")\n",
    "\n",
    "print(f\"The r-value is: {rvalue**2}\")\n",
    "plt.show()"
   ]
  },
  {
   "cell_type": "markdown",
   "metadata": {},
   "source": [
    "####  Southern Hemisphere - Cloudiness (%) vs. Latitude Linear Regression"
   ]
  },
  {
   "cell_type": "code",
   "execution_count": 19,
   "metadata": {
    "ExecuteTime": {
     "end_time": "2020-10-15T17:15:03.822523Z",
     "start_time": "2020-10-15T17:15:03.699138Z"
    }
   },
   "outputs": [
    {
     "name": "stdout",
     "output_type": "stream",
     "text": [
      "The r-value is: 0.07411525924799414\n"
     ]
    },
    {
     "data": {
      "image/png": "[encoded data removed]",
      "text/plain": [
       "<Figure size 432x288 with 1 Axes>"
      ]
     },
     "metadata": {
      "needs_background": "light"
     },
     "output_type": "display_data"
    }
   ],
   "source": [
    "x_values = s_csv[\"Lat\"]\n",
    "y_values = s_csv[\"Cloudiness\"]\n",
    "(slope, intercept, rvalue, pvalue, stderr) = linregress(x_values, y_values)\n",
    "regress_values = x_values * slope + intercept\n",
    "line_eq = \"y = \" + str(round(slope,2)) + \"x + \" + str(round(intercept,2))\n",
    "\n",
    "plt.scatter(x_values,y_values)\n",
    "plt.plot(x_values,regress_values,\"r-\")\n",
    "plt.annotate(line_eq,(-55,7),fontsize=15,color=\"red\")\n",
    "plt.xlabel(\"Latitude\")\n",
    "plt.ylabel(\"Cloudiness\")\n",
    "\n",
    "print(f\"The r-value is: {rvalue**2}\")\n",
    "plt.show()"
   ]
  },
  {
   "cell_type": "markdown",
   "metadata": {},
   "source": [
    "####  Northern Hemisphere - Wind Speed (mph) vs. Latitude Linear Regression"
   ]
  },
  {
   "cell_type": "code",
   "execution_count": 20,
   "metadata": {
    "ExecuteTime": {
     "end_time": "2020-10-15T17:15:03.962380Z",
     "start_time": "2020-10-15T17:15:03.823932Z"
    }
   },
   "outputs": [
    {
     "name": "stdout",
     "output_type": "stream",
     "text": [
      "The r-value is: 0.01691984479617957\n"
     ]
    },
    {
     "data": {
      "image/png": "[encoded data removed]",
      "text/plain": [
       "<Figure size 432x288 with 1 Axes>"
      ]
     },
     "metadata": {
      "needs_background": "light"
     },
     "output_type": "display_data"
    }
   ],
   "source": [
    "x_values = n_csv[\"Lat\"]\n",
    "y_values = n_csv[\"Wind Speed\"]\n",
    "(slope, intercept, rvalue, pvalue, stderr) = linregress(x_values, y_values)\n",
    "regress_values = x_values * slope + intercept\n",
    "line_eq = \"y = \" + str(round(slope,2)) + \"x + \" + str(round(intercept,2))\n",
    "\n",
    "plt.scatter(x_values,y_values)\n",
    "plt.plot(x_values,regress_values,\"r-\")\n",
    "plt.annotate(line_eq,(0,11.5),fontsize=15,color=\"red\")\n",
    "plt.xlabel(\"Latitude\")\n",
    "plt.ylabel(\"Wind Speed (m/s)\")\n",
    "\n",
    "print(f\"The r-value is: {rvalue**2}\")\n",
    "plt.show()"
   ]
  },
  {
   "cell_type": "markdown",
   "metadata": {},
   "source": [
    "####  Southern Hemisphere - Wind Speed (mph) vs. Latitude Linear Regression"
   ]
  },
  {
   "cell_type": "code",
   "execution_count": 21,
   "metadata": {
    "ExecuteTime": {
     "end_time": "2020-10-15T17:15:04.096481Z",
     "start_time": "2020-10-15T17:15:03.964112Z"
    }
   },
   "outputs": [
    {
     "name": "stdout",
     "output_type": "stream",
     "text": [
      "The r-value is: 0.09841258396571592\n"
     ]
    },
    {
     "data": {
      "image/png": "[encoded data removed]",
      "text/plain": [
       "<Figure size 432x288 with 1 Axes>"
      ]
     },
     "metadata": {
      "needs_background": "light"
     },
     "output_type": "display_data"
    }
   ],
   "source": [
    "x_values = s_csv[\"Lat\"]\n",
    "y_values = s_csv[\"Wind Speed\"]\n",
    "(slope, intercept, rvalue, pvalue, stderr) = linregress(x_values, y_values)\n",
    "regress_values = x_values * slope + intercept\n",
    "line_eq = \"y = \" + str(round(slope,2)) + \"x + \" + str(round(intercept,2))\n",
    "\n",
    "plt.scatter(x_values,y_values)\n",
    "plt.plot(x_values,regress_values,\"r-\")\n",
    "plt.annotate(line_eq,(-24,14),fontsize=15,color=\"red\")\n",
    "plt.xlabel(\"Latitude\")\n",
    "plt.ylabel(\"Wind Speed (m/s)\")\n",
    "\n",
    "print(f\"The r-value is: {rvalue**2}\")\n",
    "plt.show()"
   ]
  }
 ],
 "metadata": {
  "anaconda-cloud": {},
  "kernel_info": {
   "name": "python3"
  },
  "kernelspec": {
   "display_name": "Python 3",
   "language": "python",
   "name": "python3"
  },
  "language_info": {
   "codemirror_mode": {
    "name": "ipython",
    "version": 3
   },
   "file_extension": ".py",
   "mimetype": "text/x-python",
   "name": "python",
   "nbconvert_exporter": "python",
   "pygments_lexer": "ipython3",
   "version": "3.7.9"
  },
  "latex_envs": {
   "LaTeX_envs_menu_present": true,
   "autoclose": false,
   "autocomplete": true,
   "bibliofile": "biblio.bib",
   "cite_by": "apalike",
   "current_citInitial": 1,
   "eqLabelWithNumbers": true,
   "eqNumInitial": 1,
   "hotkeys": {
    "equation": "Ctrl-E",
    "itemize": "Ctrl-I"
   },
   "labels_anchors": false,
   "latex_user_defs": false,
   "report_style_numbering": false,
   "user_envs_cfg": false
  },
  "nteract": {
   "version": "0.12.3"
  }
 },
 "nbformat": 4,
 "nbformat_minor": 2
}
