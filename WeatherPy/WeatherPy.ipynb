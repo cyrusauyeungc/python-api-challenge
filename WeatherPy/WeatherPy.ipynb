{
 "cells": [
  {
   "cell_type": "markdown",
   "metadata": {},
   "source": [
    "# WeatherPy\n",
    "----\n",
    "\n",
    "#### Note\n",
    "* Instructions have been included for each segment. You do not have to follow them exactly, but they are included to help you think through the steps."
   ]
  },
  {
   "cell_type": "code",
   "execution_count": 1,
   "metadata": {
    "ExecuteTime": {
     "end_time": "2020-10-15T14:51:41.774109Z",
     "start_time": "2020-10-15T14:51:39.771679Z"
    },
    "scrolled": true
   },
   "outputs": [],
   "source": [
    "import os\n",
    "import time\n",
    "from random import uniform\n",
    "import matplotlib.pyplot as plt\n",
    "import pandas as pd\n",
    "import numpy as np\n",
    "import requests\n",
    "import json\n",
    "\n",
    "from scipy.stats import linregress\n",
    "from citipy import citipy\n",
    "from pprint import pprint\n",
    "\n",
    "from api_keys import weather_api_key\n",
    "from api_keys import g_key"
   ]
  },
  {
   "cell_type": "markdown",
   "metadata": {},
   "source": [
    "## Generate Cities List"
   ]
  },
  {
   "cell_type": "code",
   "execution_count": 2,
   "metadata": {
    "ExecuteTime": {
     "end_time": "2020-10-15T14:51:43.716459Z",
     "start_time": "2020-10-15T14:51:41.775863Z"
    }
   },
   "outputs": [
    {
     "data": {
      "text/plain": [
       "600"
      ]
     },
     "execution_count": 2,
     "metadata": {},
     "output_type": "execute_result"
    }
   ],
   "source": [
    "lat_lngs = []\n",
    "cities = []\n",
    "\n",
    "# generate random coordinates\n",
    "while len(cities) < 600:\n",
    "    x, y = uniform(-180,180), uniform(-90, 90)\n",
    "    city = citipy.nearest_city(x, y).city_name\n",
    "    city = city.title()\n",
    "# If the city is unique, then add it to a our cities list\n",
    "    if city not in cities:\n",
    "        cities.append(city)\n",
    "\n",
    "# Print the city count to confirm sufficient count\n",
    "len(cities)"
   ]
  },
  {
   "cell_type": "markdown",
   "metadata": {},
   "source": [
    "### Perform API Calls\n",
    "* Perform a weather check on each city using a series of successive API calls.\n",
    "* Include a print log of each city as it'sbeing processed (with the city number and city name).\n"
   ]
  },
  {
   "cell_type": "code",
   "execution_count": 3,
   "metadata": {
    "ExecuteTime": {
     "end_time": "2020-10-15T14:54:46.712464Z",
     "start_time": "2020-10-15T14:51:43.718487Z"
    },
    "scrolled": false
   },
   "outputs": [
    {
     "name": "stdout",
     "output_type": "stream",
     "text": [
      "Beginning Data Retrieval\n",
      "------------------------------\n",
      "Processing Record 1 of Set 1 | Qaanaaq\n",
      "Processing Record 2 of Set 1 | Taolanaro\n",
      "City \"Taolanaro\" not found. Skipping...\n",
      "Processing Record 2 of Set 1 | Dikson\n",
      "Processing Record 3 of Set 1 | Tirat Karmel\n",
      "Processing Record 4 of Set 1 | Masindi\n",
      "Processing Record 5 of Set 1 | Itarema\n",
      "Processing Record 6 of Set 1 | Ushuaia\n",
      "Processing Record 7 of Set 1 | Longyearbyen\n",
      "Processing Record 8 of Set 1 | Port Elizabeth\n",
      "Processing Record 9 of Set 1 | Astipalaia\n",
      "City \"Astipalaia\" not found. Skipping...\n",
      "Processing Record 9 of Set 1 | Touros\n",
      "Processing Record 10 of Set 1 | Iqaluit\n",
      "Processing Record 11 of Set 1 | Hermanus\n",
      "Processing Record 12 of Set 1 | Vardo\n",
      "Processing Record 13 of Set 1 | Barentsburg\n",
      "City \"Barentsburg\" not found. Skipping...\n",
      "Processing Record 13 of Set 1 | Albany\n",
      "Processing Record 14 of Set 1 | Porto Novo\n",
      "Processing Record 15 of Set 1 | Belushya Guba\n",
      "City \"Belushya Guba\" not found. Skipping...\n",
      "Processing Record 15 of Set 1 | Senneterre\n",
      "Processing Record 16 of Set 1 | Jamestown\n",
      "Processing Record 17 of Set 1 | Goderich\n",
      "Processing Record 18 of Set 1 | Cap Malheureux\n",
      "Processing Record 19 of Set 1 | Clyde River\n",
      "Processing Record 20 of Set 1 | Bredasdorp\n",
      "Processing Record 21 of Set 1 | Amderma\n",
      "City \"Amderma\" not found. Skipping...\n",
      "Processing Record 21 of Set 1 | Comodoro Rivadavia\n",
      "Processing Record 22 of Set 1 | Kudahuvadhoo\n",
      "Processing Record 23 of Set 1 | Geraldton\n",
      "Processing Record 24 of Set 1 | Arraial Do Cabo\n",
      "Processing Record 25 of Set 1 | Narsaq\n",
      "Processing Record 26 of Set 1 | Upernavik\n",
      "Processing Record 27 of Set 1 | Illoqqortoormiut\n",
      "City \"Illoqqortoormiut\" not found. Skipping...\n",
      "Processing Record 27 of Set 1 | Ribeira Grande\n",
      "Processing Record 28 of Set 1 | Busselton\n",
      "Processing Record 29 of Set 1 | Athboy\n",
      "Processing Record 30 of Set 1 | Lagoa\n",
      "Processing Record 31 of Set 1 | Tiznit\n",
      "Processing Record 32 of Set 1 | Carutapera\n",
      "Processing Record 33 of Set 1 | Saint-Philippe\n",
      "Processing Record 34 of Set 1 | Sioux Lookout\n",
      "Processing Record 35 of Set 1 | Grand Gaube\n",
      "Processing Record 36 of Set 1 | Hofn\n",
      "Processing Record 37 of Set 1 | Marau\n",
      "Processing Record 38 of Set 1 | Formosa Do Rio Preto\n",
      "Processing Record 39 of Set 1 | Cape Town\n",
      "Processing Record 40 of Set 1 | Port Alfred\n",
      "Processing Record 41 of Set 1 | Conceicao Do Araguaia\n",
      "Processing Record 42 of Set 1 | Kruisfontein\n",
      "Processing Record 43 of Set 1 | At-Bashi\n",
      "Processing Record 44 of Set 1 | Jackson\n",
      "Processing Record 45 of Set 1 | Rudbar\n",
      "Processing Record 46 of Set 1 | Akil\n",
      "Processing Record 47 of Set 1 | Omboue\n",
      "Processing Record 48 of Set 1 | Sheltozero\n",
      "Processing Record 49 of Set 1 | Roald\n",
      "Processing Record 50 of Set 1 | Altinho\n",
      "Processing Record 1 of Set 2 | Cidreira\n",
      "Processing Record 2 of Set 2 | Olafsvik\n",
      "Processing Record 3 of Set 2 | Vila Velha\n",
      "Processing Record 4 of Set 2 | Attawapiskat\n",
      "City \"Attawapiskat\" not found. Skipping...\n",
      "Processing Record 4 of Set 2 | Mehamn\n",
      "Processing Record 5 of Set 2 | East London\n",
      "Processing Record 6 of Set 2 | Aleksandrov Gay\n",
      "Processing Record 7 of Set 2 | Booue\n",
      "Processing Record 8 of Set 2 | Iralaya\n",
      "Processing Record 9 of Set 2 | Ponta Do Sol\n",
      "Processing Record 10 of Set 2 | Punta Arenas\n",
      "Processing Record 11 of Set 2 | Kalamnuri\n",
      "Processing Record 12 of Set 2 | Palencia\n",
      "Processing Record 13 of Set 2 | Hithadhoo\n",
      "Processing Record 14 of Set 2 | Areka\n",
      "Processing Record 15 of Set 2 | Yar-Sale\n",
      "Processing Record 16 of Set 2 | Umzimvubu\n",
      "City \"Umzimvubu\" not found. Skipping...\n",
      "Processing Record 16 of Set 2 | Mahon\n",
      "Processing Record 17 of Set 2 | Aden\n",
      "Processing Record 18 of Set 2 | Cayenne\n",
      "Processing Record 19 of Set 2 | Ambilobe\n",
      "Processing Record 20 of Set 2 | Mahebourg\n",
      "Processing Record 21 of Set 2 | Janoshaza\n",
      "Processing Record 22 of Set 2 | Ostrovnoy\n",
      "Processing Record 23 of Set 2 | Finote Selam\n",
      "Processing Record 24 of Set 2 | Saint George\n",
      "Processing Record 25 of Set 2 | Victoria\n",
      "Processing Record 26 of Set 2 | Kavaratti\n",
      "Processing Record 27 of Set 2 | Caravelas\n",
      "Processing Record 28 of Set 2 | Asifabad\n",
      "Processing Record 29 of Set 2 | Mugur-Aksy\n",
      "Processing Record 30 of Set 2 | Sao Filipe\n",
      "Processing Record 31 of Set 2 | Cortona\n",
      "Processing Record 32 of Set 2 | Tasiilaq\n",
      "Processing Record 33 of Set 2 | Nevsehir\n",
      "Processing Record 34 of Set 2 | Arinos\n",
      "Processing Record 35 of Set 2 | Sinnamary\n",
      "Processing Record 36 of Set 2 | Kavarskas\n",
      "Processing Record 37 of Set 2 | Tamandare\n",
      "Processing Record 38 of Set 2 | Mar Del Plata\n",
      "Processing Record 39 of Set 2 | Coquimbo\n",
      "Processing Record 40 of Set 2 | Carbonia\n",
      "Processing Record 41 of Set 2 | Qasigiannguit\n",
      "Processing Record 42 of Set 2 | Viedma\n",
      "Processing Record 43 of Set 2 | Bambous Virieux\n",
      "Processing Record 44 of Set 2 | Bubaque\n",
      "Processing Record 45 of Set 2 | Gardiner\n",
      "Processing Record 46 of Set 2 | Chuy\n",
      "Processing Record 47 of Set 2 | Toguchin\n",
      "Processing Record 48 of Set 2 | Mana\n",
      "Processing Record 49 of Set 2 | San Andres\n",
      "Processing Record 50 of Set 2 | Os\n",
      "City \"Os\" not found. Skipping...\n",
      "Processing Record 50 of Set 2 | Luderitz\n",
      "Processing Record 1 of Set 3 | Stykkisholmur\n",
      "Processing Record 2 of Set 3 | Marquette\n",
      "Processing Record 3 of Set 3 | Georgetown\n",
      "Processing Record 4 of Set 3 | Verkhnyaya Inta\n",
      "Processing Record 5 of Set 3 | Karaul\n",
      "City \"Karaul\" not found. Skipping...\n",
      "Processing Record 5 of Set 3 | Ustrzyki Dolne\n",
      "Processing Record 6 of Set 3 | Sao Bento\n",
      "Processing Record 7 of Set 3 | Belmonte\n",
      "Processing Record 8 of Set 3 | Barbar\n",
      "City \"Barbar\" not found. Skipping...\n",
      "Processing Record 8 of Set 3 | Santa Cruz\n",
      "Processing Record 9 of Set 3 | Coihaique\n",
      "Processing Record 10 of Set 3 | Bengkulu\n",
      "Processing Record 11 of Set 3 | Urucara\n",
      "Processing Record 12 of Set 3 | Antofagasta\n",
      "Processing Record 13 of Set 3 | Strezhevoy\n",
      "Processing Record 14 of Set 3 | Arys\n",
      "Processing Record 15 of Set 3 | Saint-Francois\n",
      "Processing Record 16 of Set 3 | Souillac\n",
      "Processing Record 17 of Set 3 | Anzio\n",
      "Processing Record 18 of Set 3 | Zaokskiy\n",
      "Processing Record 19 of Set 3 | Varhaug\n",
      "Processing Record 20 of Set 3 | Bonthe\n",
      "Processing Record 21 of Set 3 | Tsihombe\n",
      "City \"Tsihombe\" not found. Skipping...\n",
      "Processing Record 21 of Set 3 | Manfredonia\n",
      "Processing Record 22 of Set 3 | Ilulissat\n",
      "Processing Record 23 of Set 3 | Aguimes\n",
      "Processing Record 24 of Set 3 | Taoudenni\n",
      "Processing Record 25 of Set 3 | The Valley\n",
      "Processing Record 26 of Set 3 | Los Llanos De Aridane\n",
      "Processing Record 27 of Set 3 | Talnakh\n",
      "Processing Record 28 of Set 3 | Iglesias\n",
      "Processing Record 29 of Set 3 | Noyabrsk\n",
      "Processing Record 30 of Set 3 | Vestmanna\n",
      "Processing Record 31 of Set 3 | Candolim\n",
      "Processing Record 32 of Set 3 | Tumannyy\n",
      "City \"Tumannyy\" not found. Skipping...\n",
      "Processing Record 32 of Set 3 | Birao\n",
      "Processing Record 33 of Set 3 | Gilgit\n",
      "Processing Record 34 of Set 3 | Laguna\n",
      "Processing Record 35 of Set 3 | Faro\n",
      "Processing Record 36 of Set 3 | Muros\n",
      "Processing Record 37 of Set 3 | Salalah\n",
      "Processing Record 38 of Set 3 | Bolungarvik\n",
      "City \"Bolungarvik\" not found. Skipping...\n",
      "Processing Record 38 of Set 3 | Barraute\n",
      "Processing Record 39 of Set 3 | Shambu\n",
      "Processing Record 40 of Set 3 | Narayangarh\n",
      "Processing Record 41 of Set 3 | Maceio\n",
      "Processing Record 42 of Set 3 | Areosa\n",
      "Processing Record 43 of Set 3 | Saint-Pierre\n",
      "Processing Record 44 of Set 3 | Sinop\n",
      "Processing Record 45 of Set 3 | Berlevag\n",
      "Processing Record 46 of Set 3 | Capaci\n",
      "Processing Record 47 of Set 3 | Sidi Qasim\n",
      "City \"Sidi Qasim\" not found. Skipping...\n",
      "Processing Record 47 of Set 3 | Henties Bay\n",
      "Processing Record 48 of Set 3 | Grand River South East\n",
      "City \"Grand River South East\" not found. Skipping...\n",
      "Processing Record 48 of Set 3 | Bur Gabo\n",
      "City \"Bur Gabo\" not found. Skipping...\n",
      "Processing Record 48 of Set 3 | Agstafa\n",
      "City \"Agstafa\" not found. Skipping...\n",
      "Processing Record 48 of Set 3 | Faya\n",
      "Processing Record 49 of Set 3 | Zlobin\n",
      "Processing Record 50 of Set 3 | Salme\n",
      "Processing Record 1 of Set 4 | Humaita\n",
      "Processing Record 2 of Set 4 | Rochegda\n",
      "Processing Record 3 of Set 4 | Kaliua\n",
      "Processing Record 4 of Set 4 | Tessalit\n",
      "Processing Record 5 of Set 4 | Molodizhne\n",
      "Processing Record 6 of Set 4 | Adrian\n",
      "Processing Record 7 of Set 4 | Honningsvag\n",
      "Processing Record 8 of Set 4 | Kasongo-Lunda\n",
      "Processing Record 9 of Set 4 | Eyl\n",
      "Processing Record 10 of Set 4 | Viligili\n",
      "City \"Viligili\" not found. Skipping...\n"
     ]
    },
    {
     "name": "stdout",
     "output_type": "stream",
     "text": [
      "Processing Record 10 of Set 4 | Havelock\n",
      "Processing Record 11 of Set 4 | Warri\n",
      "Processing Record 12 of Set 4 | Paamiut\n",
      "Processing Record 13 of Set 4 | Namibe\n",
      "Processing Record 14 of Set 4 | Road Town\n",
      "Processing Record 15 of Set 4 | Daura\n",
      "Processing Record 16 of Set 4 | Barcelos\n",
      "Processing Record 17 of Set 4 | Benguela\n",
      "Processing Record 18 of Set 4 | Sozimskiy\n",
      "Processing Record 19 of Set 4 | Tigri\n",
      "City \"Tigri\" not found. Skipping...\n",
      "Processing Record 19 of Set 4 | San-Pedro\n",
      "Processing Record 20 of Set 4 | Salavat\n",
      "Processing Record 21 of Set 4 | Baherden\n",
      "Processing Record 22 of Set 4 | Carnarvon\n",
      "Processing Record 23 of Set 4 | Mocuba\n",
      "Processing Record 24 of Set 4 | Murgab\n",
      "Processing Record 25 of Set 4 | Bathsheba\n",
      "Processing Record 26 of Set 4 | Purpe\n",
      "Processing Record 27 of Set 4 | Louisbourg\n",
      "City \"Louisbourg\" not found. Skipping...\n",
      "Processing Record 27 of Set 4 | Ambovombe\n",
      "Processing Record 28 of Set 4 | Pedernales\n",
      "Processing Record 29 of Set 4 | Muli\n",
      "Processing Record 30 of Set 4 | Mogadishu\n",
      "Processing Record 31 of Set 4 | Curaca\n",
      "Processing Record 32 of Set 4 | Mattru\n",
      "Processing Record 33 of Set 4 | Deh Rawud\n",
      "City \"Deh Rawud\" not found. Skipping...\n",
      "Processing Record 33 of Set 4 | Nantucket\n",
      "Processing Record 34 of Set 4 | Castro\n",
      "Processing Record 35 of Set 4 | Kazalinsk\n",
      "City \"Kazalinsk\" not found. Skipping...\n",
      "Processing Record 35 of Set 4 | Koumra\n",
      "Processing Record 36 of Set 4 | Tabarqah\n",
      "City \"Tabarqah\" not found. Skipping...\n",
      "Processing Record 36 of Set 4 | Sambava\n",
      "Processing Record 37 of Set 4 | Anloga\n",
      "Processing Record 38 of Set 4 | Semikarakorsk\n",
      "Processing Record 39 of Set 4 | Nouakchott\n",
      "Processing Record 40 of Set 4 | Puerto Berrio\n",
      "Processing Record 41 of Set 4 | Porosozero\n",
      "Processing Record 42 of Set 4 | Nuuk\n",
      "Processing Record 43 of Set 4 | Nouadhibou\n",
      "Processing Record 44 of Set 4 | Sao Jose Da Coroa Grande\n",
      "Processing Record 45 of Set 4 | Parasia\n",
      "Processing Record 46 of Set 4 | Torbay\n",
      "Processing Record 47 of Set 4 | Buzovna\n",
      "Processing Record 48 of Set 4 | Yeletskiy\n",
      "City \"Yeletskiy\" not found. Skipping...\n",
      "Processing Record 48 of Set 4 | Ndago\n",
      "Processing Record 49 of Set 4 | Port Blair\n",
      "Processing Record 50 of Set 4 | Thompson\n",
      "Processing Record 1 of Set 5 | Vallenar\n",
      "Processing Record 2 of Set 5 | Necochea\n",
      "Processing Record 3 of Set 5 | Gravdal\n",
      "Processing Record 4 of Set 5 | Muisne\n",
      "Processing Record 5 of Set 5 | Wa\n",
      "City \"Wa\" not found. Skipping...\n",
      "Processing Record 5 of Set 5 | Afgoye\n",
      "City \"Afgoye\" not found. Skipping...\n",
      "Processing Record 5 of Set 5 | Iskateley\n",
      "Processing Record 6 of Set 5 | Wundanyi\n",
      "Processing Record 7 of Set 5 | Arklow\n",
      "Processing Record 8 of Set 5 | Saint-Augustin\n",
      "Processing Record 9 of Set 5 | Sistranda\n",
      "Processing Record 10 of Set 5 | Bansang\n",
      "Processing Record 11 of Set 5 | Klaksvik\n",
      "Processing Record 12 of Set 5 | Pangnirtung\n",
      "Processing Record 13 of Set 5 | Rawson\n",
      "Processing Record 14 of Set 5 | Sandnessjoen\n",
      "Processing Record 15 of Set 5 | Wote\n",
      "Processing Record 16 of Set 5 | Dingle\n",
      "Processing Record 17 of Set 5 | Diffa\n",
      "Processing Record 18 of Set 5 | Bulz\n",
      "Processing Record 19 of Set 5 | Gardez\n",
      "Processing Record 20 of Set 5 | Muzhi\n",
      "Processing Record 21 of Set 5 | Gorele\n",
      "Processing Record 22 of Set 5 | Santa Marta\n",
      "Processing Record 23 of Set 5 | Margate\n",
      "Processing Record 24 of Set 5 | Constitucion\n",
      "Processing Record 25 of Set 5 | Hamilton\n",
      "Processing Record 26 of Set 5 | Nanortalik\n",
      "Processing Record 27 of Set 5 | Hornepayne\n",
      "Processing Record 28 of Set 5 | Senden\n",
      "Processing Record 29 of Set 5 | Zaozerne\n",
      "Processing Record 30 of Set 5 | Valparaiso\n",
      "Processing Record 31 of Set 5 | Lobito\n",
      "Processing Record 32 of Set 5 | Ongandjera\n",
      "Processing Record 33 of Set 5 | Andrushivka\n",
      "Processing Record 34 of Set 5 | Lev Tolstoy\n",
      "Processing Record 35 of Set 5 | Buqayq\n",
      "City \"Buqayq\" not found. Skipping...\n",
      "Processing Record 35 of Set 5 | Burica\n",
      "City \"Burica\" not found. Skipping...\n",
      "Processing Record 35 of Set 5 | Kemijarvi\n",
      "Processing Record 36 of Set 5 | Sao Joao Da Barra\n",
      "Processing Record 37 of Set 5 | Kidal\n",
      "Processing Record 38 of Set 5 | Altamira\n",
      "Processing Record 39 of Set 5 | Manali\n",
      "Processing Record 40 of Set 5 | Chilca\n",
      "Processing Record 41 of Set 5 | Znamensk\n",
      "Processing Record 42 of Set 5 | Marawi\n",
      "Processing Record 43 of Set 5 | Santa Barbara\n",
      "Processing Record 44 of Set 5 | Matagami\n",
      "Processing Record 45 of Set 5 | Lar Gerd\n",
      "City \"Lar Gerd\" not found. Skipping...\n",
      "Processing Record 45 of Set 5 | Xuddur\n",
      "Processing Record 46 of Set 5 | Loukhi\n",
      "Processing Record 47 of Set 5 | Iracoubo\n",
      "Processing Record 48 of Set 5 | Mizdah\n",
      "Processing Record 49 of Set 5 | Hauterive\n",
      "Processing Record 50 of Set 5 | Hambantota\n",
      "Processing Record 1 of Set 6 | Karlskrona\n",
      "Processing Record 2 of Set 6 | Grindavik\n",
      "Processing Record 3 of Set 6 | Rebrikha\n",
      "Processing Record 4 of Set 6 | Saint-Joseph\n",
      "Processing Record 5 of Set 6 | Andapa\n",
      "Processing Record 6 of Set 6 | Saint-Amand-Les-Eaux\n",
      "Processing Record 7 of Set 6 | Vytegra\n",
      "Processing Record 8 of Set 6 | Pascagoula\n",
      "Processing Record 9 of Set 6 | Marietta\n",
      "Processing Record 10 of Set 6 | Pergamino\n",
      "Processing Record 11 of Set 6 | Marathopolis\n",
      "City \"Marathopolis\" not found. Skipping...\n",
      "Processing Record 11 of Set 6 | Glace Bay\n",
      "Processing Record 12 of Set 6 | Rennes\n",
      "Processing Record 13 of Set 6 | Emba\n",
      "Processing Record 14 of Set 6 | Brae\n",
      "Processing Record 15 of Set 6 | Mundgod\n",
      "Processing Record 16 of Set 6 | Ancud\n",
      "Processing Record 17 of Set 6 | Asosa\n",
      "Processing Record 18 of Set 6 | Ayorou\n",
      "Processing Record 19 of Set 6 | Machali\n",
      "Processing Record 20 of Set 6 | Eenhana\n",
      "Processing Record 21 of Set 6 | Frontino\n",
      "Processing Record 22 of Set 6 | Lima\n",
      "Processing Record 23 of Set 6 | Husavik\n",
      "Processing Record 24 of Set 6 | La Plata\n",
      "Processing Record 25 of Set 6 | Longonjo\n",
      "Processing Record 26 of Set 6 | Kaoma\n",
      "Processing Record 27 of Set 6 | Turukhansk\n",
      "Processing Record 28 of Set 6 | Zhob\n",
      "Processing Record 29 of Set 6 | Le Port\n",
      "Processing Record 30 of Set 6 | Pisco\n",
      "Processing Record 31 of Set 6 | Camana\n",
      "Processing Record 32 of Set 6 | Bilma\n",
      "Processing Record 33 of Set 6 | Linhares\n",
      "Processing Record 34 of Set 6 | Cheuskiny\n",
      "City \"Cheuskiny\" not found. Skipping...\n",
      "Processing Record 34 of Set 6 | Kamskoye Ustye\n",
      "Processing Record 35 of Set 6 | Ariquemes\n",
      "Processing Record 36 of Set 6 | Balesti\n",
      "Processing Record 37 of Set 6 | Taranagar\n",
      "Processing Record 38 of Set 6 | Marsh Harbour\n",
      "Processing Record 39 of Set 6 | Opuwo\n",
      "Processing Record 40 of Set 6 | Banda Aceh\n",
      "Processing Record 41 of Set 6 | Ovre Ardal\n",
      "Processing Record 42 of Set 6 | Raudeberg\n",
      "Processing Record 43 of Set 6 | Wageningen\n",
      "Processing Record 44 of Set 6 | Kisangani\n",
      "Processing Record 45 of Set 6 | Huarmey\n",
      "Processing Record 46 of Set 6 | Yellandu\n",
      "Processing Record 47 of Set 6 | Saint-Gabriel\n",
      "Processing Record 48 of Set 6 | Barra Dos Coqueiros\n",
      "Processing Record 49 of Set 6 | Kulhudhuffushi\n",
      "Processing Record 50 of Set 6 | Ngama\n",
      "Processing Record 1 of Set 7 | Vestmannaeyjar\n",
      "Processing Record 2 of Set 7 | Koslan\n",
      "Processing Record 3 of Set 7 | Nyuksenitsa\n",
      "Processing Record 4 of Set 7 | Consett\n",
      "Processing Record 5 of Set 7 | Karaton\n",
      "Processing Record 6 of Set 7 | Cazaje\n",
      "City \"Cazaje\" not found. Skipping...\n",
      "Processing Record 6 of Set 7 | Kadhan\n",
      "Processing Record 7 of Set 7 | Ilo\n",
      "Processing Record 8 of Set 7 | Taltal\n",
      "Processing Record 9 of Set 7 | Skeldon\n",
      "Processing Record 10 of Set 7 | Hun\n",
      "Processing Record 11 of Set 7 | Uray\n",
      "Processing Record 12 of Set 7 | Qaqortoq\n",
      "Processing Record 13 of Set 7 | Elizabeth City\n",
      "Processing Record 14 of Set 7 | Adrar\n",
      "Processing Record 15 of Set 7 | Marcona\n",
      "City \"Marcona\" not found. Skipping...\n",
      "Processing Record 15 of Set 7 | Pitimbu\n",
      "Processing Record 16 of Set 7 | Lebu\n",
      "Processing Record 17 of Set 7 | Wampusirpi\n",
      "City \"Wampusirpi\" not found. Skipping...\n",
      "Processing Record 17 of Set 7 | Gus-Khrustalnyy\n",
      "Processing Record 18 of Set 7 | Vila Franca Do Campo\n",
      "Processing Record 19 of Set 7 | Monastyrshchina\n",
      "Processing Record 20 of Set 7 | Umm Kaddadah\n",
      "Processing Record 21 of Set 7 | Bud\n",
      "Processing Record 22 of Set 7 | Copiapo\n",
      "Processing Record 23 of Set 7 | Alexandria\n",
      "Processing Record 24 of Set 7 | Berbera\n",
      "Processing Record 25 of Set 7 | Igbo Ora\n",
      "Processing Record 26 of Set 7 | Itaituba\n",
      "Processing Record 27 of Set 7 | Batsfjord\n",
      "Processing Record 28 of Set 7 | Yarada\n"
     ]
    },
    {
     "name": "stdout",
     "output_type": "stream",
     "text": [
      "Processing Record 29 of Set 7 | Dinsor\n",
      "City \"Dinsor\" not found. Skipping...\n",
      "Processing Record 29 of Set 7 | Inhambane\n",
      "Processing Record 30 of Set 7 | Severodvinsk\n",
      "Processing Record 31 of Set 7 | Fort William\n",
      "Processing Record 32 of Set 7 | Rocha\n",
      "Processing Record 33 of Set 7 | Felipe Carrillo Puerto\n",
      "Processing Record 34 of Set 7 | Sorland\n",
      "Processing Record 35 of Set 7 | Ushtobe\n",
      "Processing Record 36 of Set 7 | Bafata\n",
      "Processing Record 37 of Set 7 | Barao De Melgaco\n",
      "Processing Record 38 of Set 7 | Codrington\n",
      "Processing Record 39 of Set 7 | Porto Belo\n",
      "Processing Record 40 of Set 7 | Paradwip\n",
      "City \"Paradwip\" not found. Skipping...\n",
      "Processing Record 40 of Set 7 | Hryshkivtsi\n",
      "Processing Record 41 of Set 7 | Porto Santo\n",
      "Processing Record 42 of Set 7 | Formoso Do Araguaia\n",
      "City \"Formoso Do Araguaia\" not found. Skipping...\n",
      "Processing Record 42 of Set 7 | Kyzyl-Suu\n",
      "Processing Record 43 of Set 7 | Khammam\n",
      "Processing Record 44 of Set 7 | Ayagoz\n",
      "Processing Record 45 of Set 7 | Sorvag\n",
      "City \"Sorvag\" not found. Skipping...\n",
      "Processing Record 45 of Set 7 | Korla\n",
      "Processing Record 46 of Set 7 | Jalu\n",
      "Processing Record 47 of Set 7 | Alta Floresta\n",
      "Processing Record 48 of Set 7 | Rio Gallegos\n",
      "Processing Record 49 of Set 7 | Mossendjo\n",
      "Processing Record 50 of Set 7 | Maun\n",
      "Processing Record 1 of Set 8 | Walvis Bay\n",
      "Processing Record 2 of Set 8 | San Cristobal\n",
      "Processing Record 3 of Set 8 | Shahreza\n",
      "Processing Record 4 of Set 8 | Pafos\n",
      "Processing Record 5 of Set 8 | Duku\n",
      "Processing Record 6 of Set 8 | Villa Constitucion\n",
      "Processing Record 7 of Set 8 | Saint Anthony\n",
      "Processing Record 8 of Set 8 | Dir\n",
      "Processing Record 9 of Set 8 | Leh\n",
      "Processing Record 10 of Set 8 | Kjollefjord\n",
      "Processing Record 11 of Set 8 | Tuggurt\n",
      "City \"Tuggurt\" not found. Skipping...\n",
      "Processing Record 11 of Set 8 | Kortkeros\n",
      "Processing Record 12 of Set 8 | Tocopilla\n",
      "Processing Record 13 of Set 8 | Lasa\n",
      "Processing Record 14 of Set 8 | Tawkar\n",
      "City \"Tawkar\" not found. Skipping...\n",
      "Processing Record 14 of Set 8 | Uryupinsk\n",
      "Processing Record 15 of Set 8 | Havoysund\n",
      "Processing Record 16 of Set 8 | Shaartuz\n",
      "City \"Shaartuz\" not found. Skipping...\n",
      "Processing Record 16 of Set 8 | La Asuncion\n",
      "Processing Record 17 of Set 8 | Belebey\n",
      "Processing Record 18 of Set 8 | Mecca\n",
      "Processing Record 19 of Set 8 | Canutama\n",
      "Processing Record 20 of Set 8 | Shar\n",
      "Processing Record 21 of Set 8 | Irbit\n",
      "Processing Record 22 of Set 8 | Savalou\n",
      "Processing Record 23 of Set 8 | Orapa\n",
      "Processing Record 24 of Set 8 | Gornopravdinsk\n",
      "Processing Record 25 of Set 8 | Saintes\n",
      "Processing Record 26 of Set 8 | Wukari\n",
      "Processing Record 27 of Set 8 | Biskamzha\n",
      "Processing Record 28 of Set 8 | Poltavka\n",
      "Processing Record 29 of Set 8 | Lichtenburg\n",
      "Processing Record 30 of Set 8 | Mayumba\n",
      "Processing Record 31 of Set 8 | Khartoum\n",
      "Processing Record 32 of Set 8 | Sidi Ali\n",
      "Processing Record 33 of Set 8 | Sechura\n",
      "Processing Record 34 of Set 8 | Dukhovnitskoye\n",
      "Processing Record 35 of Set 8 | Tres Arroyos\n",
      "Processing Record 36 of Set 8 | Khorixas\n",
      "Processing Record 37 of Set 8 | Camocim\n",
      "Processing Record 38 of Set 8 | Bayir\n",
      "Processing Record 39 of Set 8 | Horizontina\n",
      "Processing Record 40 of Set 8 | Saurimo\n",
      "Processing Record 41 of Set 8 | Sao Pedro Do Sul\n",
      "Processing Record 42 of Set 8 | Keetmanshoop\n",
      "Processing Record 43 of Set 8 | Sortavala\n",
      "Processing Record 44 of Set 8 | Santarem\n",
      "Processing Record 45 of Set 8 | Ilebo\n",
      "Processing Record 46 of Set 8 | Snezhnogorsk\n",
      "Processing Record 47 of Set 8 | Tunduru\n",
      "City \"Tunduru\" not found. Skipping...\n",
      "Processing Record 47 of Set 8 | Camacha\n",
      "Processing Record 48 of Set 8 | El Alto\n",
      "Processing Record 49 of Set 8 | Mortka\n",
      "Processing Record 50 of Set 8 | Olivenza\n",
      "Processing Record 1 of Set 9 | Mahajanga\n",
      "Processing Record 2 of Set 9 | Sibay\n",
      "Processing Record 3 of Set 9 | Altay\n",
      "Processing Record 4 of Set 9 | Saldanha\n",
      "Processing Record 5 of Set 9 | Karasburg\n",
      "Processing Record 6 of Set 9 | San Carlos\n",
      "Processing Record 7 of Set 9 | Purushottampur\n",
      "Processing Record 8 of Set 9 | Nizwa\n",
      "Processing Record 9 of Set 9 | Acari\n",
      "Processing Record 10 of Set 9 | Igaci\n",
      "Processing Record 11 of Set 9 | Sabzevar\n",
      "Processing Record 12 of Set 9 | Bandar-E Lengeh\n",
      "Processing Record 13 of Set 9 | Urdoma\n",
      "Processing Record 14 of Set 9 | Taywarah\n",
      "Processing Record 15 of Set 9 | Puerto Narino\n",
      "Processing Record 16 of Set 9 | Villazon\n",
      "Processing Record 17 of Set 9 | Araouane\n",
      "Processing Record 18 of Set 9 | Shakawe\n",
      "Processing Record 19 of Set 9 | Lubao\n",
      "Processing Record 20 of Set 9 | Lovasbereny\n",
      "Processing Record 21 of Set 9 | Florianopolis\n",
      "Processing Record 22 of Set 9 | Hurghada\n",
      "Processing Record 23 of Set 9 | Gazojak\n",
      "Processing Record 24 of Set 9 | Rockland\n",
      "Processing Record 25 of Set 9 | Altagracia De Orituco\n",
      "Processing Record 26 of Set 9 | Aksarka\n",
      "Processing Record 27 of Set 9 | Umm Ruwabah\n",
      "City \"Umm Ruwabah\" not found. Skipping...\n",
      "Processing Record 27 of Set 9 | Talara\n",
      "Processing Record 28 of Set 9 | Abalak\n",
      "Processing Record 29 of Set 9 | Lai\n",
      "Processing Record 30 of Set 9 | Kiruna\n",
      "Processing Record 31 of Set 9 | Puerto Pinasco\n",
      "City \"Puerto Pinasco\" not found. Skipping...\n",
      "Processing Record 31 of Set 9 | Kaka\n",
      "Processing Record 32 of Set 9 | Monze\n",
      "Processing Record 33 of Set 9 | Kobojango\n",
      "City \"Kobojango\" not found. Skipping...\n",
      "Processing Record 33 of Set 9 | Anamur\n",
      "Processing Record 34 of Set 9 | Bodden Town\n",
      "Processing Record 35 of Set 9 | Andrelandia\n",
      "Processing Record 36 of Set 9 | Sembe\n",
      "Processing Record 37 of Set 9 | Circleville\n",
      "Processing Record 38 of Set 9 | Sayyan\n",
      "Processing Record 39 of Set 9 | Usinsk\n",
      "Processing Record 40 of Set 9 | Guelph\n",
      "Processing Record 41 of Set 9 | San Lucas\n",
      "Processing Record 42 of Set 9 | Weligama\n",
      "Processing Record 43 of Set 9 | Sirmaur\n",
      "Processing Record 44 of Set 9 | Kaele\n",
      "Processing Record 45 of Set 9 | Governador Valadares\n",
      "Processing Record 46 of Set 9 | Nsanje\n",
      "Processing Record 47 of Set 9 | Synya\n",
      "Processing Record 48 of Set 9 | Aswan\n",
      "Processing Record 49 of Set 9 | Riohacha\n",
      "Processing Record 50 of Set 9 | Chicama\n",
      "Processing Record 1 of Set 10 | Storforshei\n",
      "Processing Record 2 of Set 10 | Conde\n",
      "Processing Record 3 of Set 10 | Tim\n",
      "Processing Record 4 of Set 10 | Orcopampa\n",
      "Processing Record 5 of Set 10 | Goundam\n",
      "Processing Record 6 of Set 10 | Tucuman\n",
      "Processing Record 7 of Set 10 | Ukholovo\n",
      "Processing Record 8 of Set 10 | Bonavista\n",
      "Processing Record 9 of Set 10 | Boca Do Acre\n",
      "Processing Record 10 of Set 10 | Hopatcong\n",
      "Processing Record 11 of Set 10 | Meulaboh\n",
      "Processing Record 12 of Set 10 | Adre\n",
      "Processing Record 13 of Set 10 | Leshukonskoye\n",
      "Processing Record 14 of Set 10 | Bardiyah\n",
      "Processing Record 15 of Set 10 | Teguldet\n",
      "Processing Record 16 of Set 10 | Chapais\n",
      "Processing Record 17 of Set 10 | Ovalle\n",
      "Processing Record 18 of Set 10 | Guanare\n",
      "Processing Record 19 of Set 10 | Aasiaat\n",
      "Processing Record 20 of Set 10 | Navalmoral De La Mata\n",
      "Processing Record 21 of Set 10 | Moradabad\n",
      "Processing Record 22 of Set 10 | Toftir\n",
      "City \"Toftir\" not found. Skipping...\n",
      "Processing Record 22 of Set 10 | Felidhoo\n",
      "City \"Felidhoo\" not found. Skipping...\n",
      "Processing Record 22 of Set 10 | Aktyubinskiy\n",
      "Processing Record 23 of Set 10 | Thinadhoo\n",
      "Processing Record 24 of Set 10 | Kontagora\n",
      "Processing Record 25 of Set 10 | Rincon\n",
      "Processing Record 26 of Set 10 | Morant Bay\n",
      "Processing Record 27 of Set 10 | Kyshtovka\n",
      "Processing Record 28 of Set 10 | Kuminskiy\n",
      "Processing Record 29 of Set 10 | Dwarka\n",
      "Processing Record 30 of Set 10 | Chake Chake\n",
      "Processing Record 31 of Set 10 | Tubruq\n",
      "City \"Tubruq\" not found. Skipping...\n",
      "Processing Record 31 of Set 10 | Moose Factory\n",
      "Processing Record 32 of Set 10 | Praia Da Vitoria\n",
      "Processing Record 33 of Set 10 | Maxixe\n",
      "Processing Record 34 of Set 10 | Tarudant\n",
      "City \"Tarudant\" not found. Skipping...\n",
      "Processing Record 34 of Set 10 | Beinamar\n",
      "Processing Record 35 of Set 10 | Jasper\n",
      "Processing Record 36 of Set 10 | Tavda\n",
      "Processing Record 37 of Set 10 | Kulebaki\n",
      "Processing Record 38 of Set 10 | Belyy Yar\n",
      "Processing Record 39 of Set 10 | Plettenberg Bay\n",
      "Processing Record 40 of Set 10 | Oistins\n",
      "Processing Record 41 of Set 10 | Lulea\n",
      "Processing Record 42 of Set 10 | Morrope\n",
      "Processing Record 43 of Set 10 | Van\n",
      "Processing Record 44 of Set 10 | Salta\n",
      "Processing Record 45 of Set 10 | Skalistyy\n",
      "City \"Skalistyy\" not found. Skipping...\n"
     ]
    },
    {
     "name": "stdout",
     "output_type": "stream",
     "text": [
      "Processing Record 45 of Set 10 | Matay\n",
      "Processing Record 46 of Set 10 | Aksu\n",
      "Processing Record 47 of Set 10 | Shchelyayur\n",
      "City \"Shchelyayur\" not found. Skipping...\n",
      "Processing Record 47 of Set 10 | Dolores\n",
      "Processing Record 48 of Set 10 | Abu Kamal\n",
      "Processing Record 49 of Set 10 | Nisia Floresta\n",
      "Processing Record 50 of Set 10 | Sovetskiy\n",
      "Processing Record 1 of Set 11 | Alghero\n",
      "Processing Record 2 of Set 11 | Makinsk\n",
      "Processing Record 3 of Set 11 | Itapaci\n",
      "Processing Record 4 of Set 11 | Talcahuano\n",
      "Processing Record 5 of Set 11 | Salaga\n",
      "Processing Record 6 of Set 11 | Matara\n",
      "Processing Record 7 of Set 11 | Estelle\n",
      "Processing Record 8 of Set 11 | Kangavar\n",
      "Processing Record 9 of Set 11 | Lagos\n",
      "Processing Record 10 of Set 11 | Buraydah\n",
      "Processing Record 11 of Set 11 | Luena\n",
      "Processing Record 12 of Set 11 | Salamanca\n",
      "Processing Record 13 of Set 11 | Skjold\n",
      "Processing Record 14 of Set 11 | Awjilah\n",
      "Processing Record 15 of Set 11 | Semey\n",
      "Processing Record 16 of Set 11 | Tambopata\n",
      "Processing Record 17 of Set 11 | Larsnes\n",
      "Processing Record 18 of Set 11 | Chiredzi\n",
      "Processing Record 19 of Set 11 | Iberia\n",
      "Processing Record 20 of Set 11 | Montecristo\n",
      "Processing Record 21 of Set 11 | Zhanatas\n",
      "City \"Zhanatas\" not found. Skipping...\n",
      "Processing Record 21 of Set 11 | Lovozero\n",
      "Processing Record 22 of Set 11 | Kalaleh\n",
      "Processing Record 23 of Set 11 | Chandur Bazar\n",
      "Processing Record 24 of Set 11 | Itum-Kale\n",
      "Processing Record 25 of Set 11 | Ibra\n",
      "Processing Record 26 of Set 11 | Mount Darwin\n",
      "Processing Record 27 of Set 11 | Pemba\n",
      "Processing Record 28 of Set 11 | Petrivka\n",
      "Processing Record 29 of Set 11 | Salinas\n",
      "Processing Record 30 of Set 11 | Bosaso\n",
      "Processing Record 31 of Set 11 | Tucurui\n",
      "Processing Record 32 of Set 11 | Mercedes\n",
      "Processing Record 33 of Set 11 | Vangaindrano\n",
      "Processing Record 34 of Set 11 | Chimbote\n",
      "Processing Record 35 of Set 11 | Sur\n",
      "Processing Record 36 of Set 11 | Santa Lucia\n",
      "Processing Record 37 of Set 11 | Vieste\n",
      "Processing Record 38 of Set 11 | Manadhoo\n",
      "Processing Record 39 of Set 11 | Ambodifototra\n",
      "City \"Ambodifototra\" not found. Skipping...\n",
      "Processing Record 39 of Set 11 | Lemesos\n",
      "City \"Lemesos\" not found. Skipping...\n",
      "Processing Record 39 of Set 11 | Caceres\n",
      "Processing Record 40 of Set 11 | Hualmay\n",
      "Processing Record 41 of Set 11 | Paez\n",
      "Processing Record 42 of Set 11 | Sao Lourenco Do Sul\n",
      "Processing Record 43 of Set 11 | Dzilam Gonzalez\n",
      "Processing Record 44 of Set 11 | Riberalta\n",
      "Processing Record 45 of Set 11 | Port-Gentil\n",
      "-----------------------------\n",
      "Data Retrieval Complete\n",
      "-----------------------------\n"
     ]
    }
   ],
   "source": [
    "# set starting count and set for display\n",
    "count = 0\n",
    "Set = 1\n",
    "\n",
    "# Create cities dataframe\n",
    "cities_df=pd.DataFrame(cities)\n",
    "cities_df=cities_df.rename(columns={0:\"City\"})\n",
    "cities_df[\"Lat\"]=\"\"\n",
    "cities_df[\"Lng\"]=\"\"\n",
    "cities_df[\"Max Temp\"]=\"\"\n",
    "cities_df[\"Humidity\"]=\"\"\n",
    "cities_df[\"Cloudiness\"]=\"\"\n",
    "cities_df[\"Wind Speed\"]=\"\"\n",
    "cities_df[\"Country\"]=\"\"\n",
    "cities_df[\"Date\"]=\"\"\n",
    "\n",
    "# Create URL and determine units\n",
    "url = 'http://api.openweathermap.org/data/2.5/weather?q='\n",
    "\n",
    "# print initial message\n",
    "print('Beginning Data Retrieval')\n",
    "print('------------------------------')\n",
    "\n",
    "\n",
    "# use iterrows to iterate through pandas dataframe\n",
    "for index, row in cities_df.iterrows():\n",
    "#     time.sleep(0.005)\n",
    "    merge_url = url + row[\"City\"] + \"&appid=\" + weather_api_key + \"&units=metric\"\n",
    "    city_data = requests.get(merge_url).json()\n",
    "    try:\n",
    "        print(f'Processing Record {count+1} of Set {Set} | {row[\"City\"]}')\n",
    "        # inserting data into corresponding columns\n",
    "        cities_df.loc[index,\"Lat\"]=city_data[\"coord\"][\"lat\"]\n",
    "        cities_df.loc[index,\"Lng\"]=city_data[\"coord\"][\"lon\"]\n",
    "        cities_df.loc[index,\"Max Temp\"]=city_data[\"main\"][\"temp\"]\n",
    "        cities_df.loc[index,\"Humidity\"]=city_data[\"main\"][\"humidity\"]\n",
    "        cities_df.loc[index,\"Cloudiness\"]=city_data[\"clouds\"][\"all\"]\n",
    "        cities_df.loc[index,\"Wind Speed\"]=city_data[\"wind\"][\"speed\"]\n",
    "        cities_df.loc[index,\"Country\"]=city_data[\"sys\"][\"country\"]\n",
    "        cities_df.loc[index,\"Date\"]=city_data[\"dt\"]\n",
    "        count += 1\n",
    "        if count % 50 == 0:\n",
    "            Set = Set + 1\n",
    "            count = 0\n",
    "    except:\n",
    "        print(f'City \"{row[\"City\"]}\" not found. Skipping...')\n",
    "        cities_df=cities_df.drop(index)\n",
    "\n",
    "# Print last ending message\n",
    "print(\"-----------------------------\\nData Retrieval Complete\\n-----------------------------\")\n"
   ]
  },
  {
   "cell_type": "markdown",
   "metadata": {},
   "source": [
    "### Convert Raw Data to DataFrame\n",
    "* Export the city data into a .csv.\n",
    "* Display the DataFrame"
   ]
  },
  {
   "cell_type": "code",
   "execution_count": 24,
   "metadata": {
    "ExecuteTime": {
     "end_time": "2020-10-15T16:08:15.631085Z",
     "start_time": "2020-10-15T16:08:15.614588Z"
    }
   },
   "outputs": [
    {
     "data": {
      "text/html": [
       "<div>\n",
       "<style scoped>\n",
       "    .dataframe tbody tr th:only-of-type {\n",
       "        vertical-align: middle;\n",
       "    }\n",
       "\n",
       "    .dataframe tbody tr th {\n",
       "        vertical-align: top;\n",
       "    }\n",
       "\n",
       "    .dataframe thead th {\n",
       "        text-align: right;\n",
       "    }\n",
       "</style>\n",
       "<table border=\"1\" class=\"dataframe\">\n",
       "  <thead>\n",
       "    <tr style=\"text-align: right;\">\n",
       "      <th></th>\n",
       "      <th>City</th>\n",
       "      <th>Lat</th>\n",
       "      <th>Lng</th>\n",
       "      <th>Max Temp</th>\n",
       "      <th>Humidity</th>\n",
       "      <th>Cloudiness</th>\n",
       "      <th>Wind Speed</th>\n",
       "      <th>Country</th>\n",
       "      <th>Date</th>\n",
       "    </tr>\n",
       "  </thead>\n",
       "  <tbody>\n",
       "    <tr>\n",
       "      <th>0</th>\n",
       "      <td>Qaanaaq</td>\n",
       "      <td>77.48</td>\n",
       "      <td>-69.36</td>\n",
       "      <td>-1.85</td>\n",
       "      <td>85</td>\n",
       "      <td>0</td>\n",
       "      <td>3.00</td>\n",
       "      <td>GL</td>\n",
       "      <td>1602773503</td>\n",
       "    </tr>\n",
       "    <tr>\n",
       "      <th>1</th>\n",
       "      <td>Dikson</td>\n",
       "      <td>73.51</td>\n",
       "      <td>80.55</td>\n",
       "      <td>-0.78</td>\n",
       "      <td>93</td>\n",
       "      <td>100</td>\n",
       "      <td>11.93</td>\n",
       "      <td>RU</td>\n",
       "      <td>1602773504</td>\n",
       "    </tr>\n",
       "    <tr>\n",
       "      <th>2</th>\n",
       "      <td>Tirat Karmel</td>\n",
       "      <td>32.76</td>\n",
       "      <td>34.97</td>\n",
       "      <td>26.60</td>\n",
       "      <td>65</td>\n",
       "      <td>40</td>\n",
       "      <td>5.10</td>\n",
       "      <td>IL</td>\n",
       "      <td>1602773504</td>\n",
       "    </tr>\n",
       "    <tr>\n",
       "      <th>3</th>\n",
       "      <td>Masindi</td>\n",
       "      <td>1.67</td>\n",
       "      <td>31.71</td>\n",
       "      <td>22.14</td>\n",
       "      <td>84</td>\n",
       "      <td>69</td>\n",
       "      <td>0.21</td>\n",
       "      <td>UG</td>\n",
       "      <td>1602773505</td>\n",
       "    </tr>\n",
       "    <tr>\n",
       "      <th>4</th>\n",
       "      <td>Itarema</td>\n",
       "      <td>-2.92</td>\n",
       "      <td>-39.92</td>\n",
       "      <td>31.55</td>\n",
       "      <td>53</td>\n",
       "      <td>3</td>\n",
       "      <td>8.68</td>\n",
       "      <td>BR</td>\n",
       "      <td>1602773505</td>\n",
       "    </tr>\n",
       "  </tbody>\n",
       "</table>\n",
       "</div>"
      ],
      "text/plain": [
       "           City    Lat    Lng  Max Temp  Humidity  Cloudiness  Wind Speed  \\\n",
       "0       Qaanaaq  77.48 -69.36     -1.85        85           0        3.00   \n",
       "1        Dikson  73.51  80.55     -0.78        93         100       11.93   \n",
       "2  Tirat Karmel  32.76  34.97     26.60        65          40        5.10   \n",
       "3       Masindi   1.67  31.71     22.14        84          69        0.21   \n",
       "4       Itarema  -2.92 -39.92     31.55        53           3        8.68   \n",
       "\n",
       "  Country        Date  \n",
       "0      GL  1602773503  \n",
       "1      RU  1602773504  \n",
       "2      IL  1602773504  \n",
       "3      UG  1602773505  \n",
       "4      BR  1602773505  "
      ]
     },
     "execution_count": 24,
     "metadata": {},
     "output_type": "execute_result"
    }
   ],
   "source": [
    "# Write dataframe to csv\n",
    "cities_df.to_csv(r'Cities_Data.csv',index=False)\n",
    "\n",
    "# Copy CSV to dataframe\n",
    "csv_df = pd.read_csv(\"Cities_Data.csv\")\n",
    "csv_df.head()"
   ]
  },
  {
   "cell_type": "code",
   "execution_count": 25,
   "metadata": {
    "ExecuteTime": {
     "end_time": "2020-10-15T16:08:16.659500Z",
     "start_time": "2020-10-15T16:08:16.636999Z"
    }
   },
   "outputs": [
    {
     "data": {
      "text/html": [
       "<div>\n",
       "<style scoped>\n",
       "    .dataframe tbody tr th:only-of-type {\n",
       "        vertical-align: middle;\n",
       "    }\n",
       "\n",
       "    .dataframe tbody tr th {\n",
       "        vertical-align: top;\n",
       "    }\n",
       "\n",
       "    .dataframe thead th {\n",
       "        text-align: right;\n",
       "    }\n",
       "</style>\n",
       "<table border=\"1\" class=\"dataframe\">\n",
       "  <thead>\n",
       "    <tr style=\"text-align: right;\">\n",
       "      <th></th>\n",
       "      <th>Lat</th>\n",
       "      <th>Lng</th>\n",
       "      <th>Max Temp</th>\n",
       "      <th>Humidity</th>\n",
       "      <th>Cloudiness</th>\n",
       "      <th>Wind Speed</th>\n",
       "      <th>Date</th>\n",
       "    </tr>\n",
       "  </thead>\n",
       "  <tbody>\n",
       "    <tr>\n",
       "      <th>count</th>\n",
       "      <td>545.000000</td>\n",
       "      <td>545.000000</td>\n",
       "      <td>545.000000</td>\n",
       "      <td>545.000000</td>\n",
       "      <td>545.000000</td>\n",
       "      <td>545.000000</td>\n",
       "      <td>5.450000e+02</td>\n",
       "    </tr>\n",
       "    <tr>\n",
       "      <th>mean</th>\n",
       "      <td>19.948330</td>\n",
       "      <td>1.933450</td>\n",
       "      <td>19.781468</td>\n",
       "      <td>62.427523</td>\n",
       "      <td>46.941284</td>\n",
       "      <td>3.953284</td>\n",
       "      <td>1.602774e+09</td>\n",
       "    </tr>\n",
       "    <tr>\n",
       "      <th>std</th>\n",
       "      <td>32.271229</td>\n",
       "      <td>56.233906</td>\n",
       "      <td>10.743318</td>\n",
       "      <td>23.053940</td>\n",
       "      <td>36.766656</td>\n",
       "      <td>2.407281</td>\n",
       "      <td>7.303779e+01</td>\n",
       "    </tr>\n",
       "    <tr>\n",
       "      <th>min</th>\n",
       "      <td>-54.800000</td>\n",
       "      <td>-122.830000</td>\n",
       "      <td>-4.000000</td>\n",
       "      <td>5.000000</td>\n",
       "      <td>0.000000</td>\n",
       "      <td>0.150000</td>\n",
       "      <td>1.602773e+09</td>\n",
       "    </tr>\n",
       "    <tr>\n",
       "      <th>25%</th>\n",
       "      <td>-7.260000</td>\n",
       "      <td>-52.950000</td>\n",
       "      <td>11.300000</td>\n",
       "      <td>46.000000</td>\n",
       "      <td>6.000000</td>\n",
       "      <td>2.130000</td>\n",
       "      <td>1.602774e+09</td>\n",
       "    </tr>\n",
       "    <tr>\n",
       "      <th>50%</th>\n",
       "      <td>20.200000</td>\n",
       "      <td>12.630000</td>\n",
       "      <td>20.740000</td>\n",
       "      <td>67.000000</td>\n",
       "      <td>42.000000</td>\n",
       "      <td>3.600000</td>\n",
       "      <td>1.602774e+09</td>\n",
       "    </tr>\n",
       "    <tr>\n",
       "      <th>75%</th>\n",
       "      <td>47.870000</td>\n",
       "      <td>45.040000</td>\n",
       "      <td>28.110000</td>\n",
       "      <td>79.000000</td>\n",
       "      <td>79.000000</td>\n",
       "      <td>5.350000</td>\n",
       "      <td>1.602774e+09</td>\n",
       "    </tr>\n",
       "    <tr>\n",
       "      <th>max</th>\n",
       "      <td>78.220000</td>\n",
       "      <td>141.970000</td>\n",
       "      <td>42.000000</td>\n",
       "      <td>100.000000</td>\n",
       "      <td>100.000000</td>\n",
       "      <td>16.500000</td>\n",
       "      <td>1.602774e+09</td>\n",
       "    </tr>\n",
       "  </tbody>\n",
       "</table>\n",
       "</div>"
      ],
      "text/plain": [
       "              Lat         Lng    Max Temp    Humidity  Cloudiness  Wind Speed  \\\n",
       "count  545.000000  545.000000  545.000000  545.000000  545.000000  545.000000   \n",
       "mean    19.948330    1.933450   19.781468   62.427523   46.941284    3.953284   \n",
       "std     32.271229   56.233906   10.743318   23.053940   36.766656    2.407281   \n",
       "min    -54.800000 -122.830000   -4.000000    5.000000    0.000000    0.150000   \n",
       "25%     -7.260000  -52.950000   11.300000   46.000000    6.000000    2.130000   \n",
       "50%     20.200000   12.630000   20.740000   67.000000   42.000000    3.600000   \n",
       "75%     47.870000   45.040000   28.110000   79.000000   79.000000    5.350000   \n",
       "max     78.220000  141.970000   42.000000  100.000000  100.000000   16.500000   \n",
       "\n",
       "               Date  \n",
       "count  5.450000e+02  \n",
       "mean   1.602774e+09  \n",
       "std    7.303779e+01  \n",
       "min    1.602773e+09  \n",
       "25%    1.602774e+09  \n",
       "50%    1.602774e+09  \n",
       "75%    1.602774e+09  \n",
       "max    1.602774e+09  "
      ]
     },
     "execution_count": 25,
     "metadata": {},
     "output_type": "execute_result"
    }
   ],
   "source": [
    "# display summary table\n",
    "csv_df.describe()"
   ]
  },
  {
   "cell_type": "markdown",
   "metadata": {},
   "source": [
    "## Inspect the data and remove the cities where the humidity > 100%.\n",
    "----\n",
    "Skip this step if there are no cities that have humidity > 100%. "
   ]
  },
  {
   "cell_type": "code",
   "execution_count": 26,
   "metadata": {
    "ExecuteTime": {
     "end_time": "2020-10-15T16:08:19.461976Z",
     "start_time": "2020-10-15T16:08:19.457329Z"
    }
   },
   "outputs": [
    {
     "data": {
      "text/plain": [
       "Int64Index([], dtype='int64')"
      ]
     },
     "execution_count": 26,
     "metadata": {},
     "output_type": "execute_result"
    }
   ],
   "source": [
    "#  Get the indices of cities that have humidity over 100%.\n",
    "humid100 = csv_df[csv_df.Humidity > 100].index\n",
    "humid100\n",
    "# no city with humidity > 100%"
   ]
  },
  {
   "cell_type": "code",
   "execution_count": 27,
   "metadata": {
    "ExecuteTime": {
     "end_time": "2020-10-15T16:08:20.679369Z",
     "start_time": "2020-10-15T16:08:20.663774Z"
    }
   },
   "outputs": [
    {
     "data": {
      "text/html": [
       "<div>\n",
       "<style scoped>\n",
       "    .dataframe tbody tr th:only-of-type {\n",
       "        vertical-align: middle;\n",
       "    }\n",
       "\n",
       "    .dataframe tbody tr th {\n",
       "        vertical-align: top;\n",
       "    }\n",
       "\n",
       "    .dataframe thead th {\n",
       "        text-align: right;\n",
       "    }\n",
       "</style>\n",
       "<table border=\"1\" class=\"dataframe\">\n",
       "  <thead>\n",
       "    <tr style=\"text-align: right;\">\n",
       "      <th></th>\n",
       "      <th>City</th>\n",
       "      <th>Lat</th>\n",
       "      <th>Lng</th>\n",
       "      <th>Max Temp</th>\n",
       "      <th>Humidity</th>\n",
       "      <th>Cloudiness</th>\n",
       "      <th>Wind Speed</th>\n",
       "      <th>Country</th>\n",
       "      <th>Date</th>\n",
       "    </tr>\n",
       "  </thead>\n",
       "  <tbody>\n",
       "    <tr>\n",
       "      <th>0</th>\n",
       "      <td>Qaanaaq</td>\n",
       "      <td>77.48</td>\n",
       "      <td>-69.36</td>\n",
       "      <td>-1.85</td>\n",
       "      <td>85</td>\n",
       "      <td>0</td>\n",
       "      <td>3.00</td>\n",
       "      <td>GL</td>\n",
       "      <td>1602773503</td>\n",
       "    </tr>\n",
       "    <tr>\n",
       "      <th>1</th>\n",
       "      <td>Dikson</td>\n",
       "      <td>73.51</td>\n",
       "      <td>80.55</td>\n",
       "      <td>-0.78</td>\n",
       "      <td>93</td>\n",
       "      <td>100</td>\n",
       "      <td>11.93</td>\n",
       "      <td>RU</td>\n",
       "      <td>1602773504</td>\n",
       "    </tr>\n",
       "    <tr>\n",
       "      <th>2</th>\n",
       "      <td>Tirat Karmel</td>\n",
       "      <td>32.76</td>\n",
       "      <td>34.97</td>\n",
       "      <td>26.60</td>\n",
       "      <td>65</td>\n",
       "      <td>40</td>\n",
       "      <td>5.10</td>\n",
       "      <td>IL</td>\n",
       "      <td>1602773504</td>\n",
       "    </tr>\n",
       "    <tr>\n",
       "      <th>3</th>\n",
       "      <td>Masindi</td>\n",
       "      <td>1.67</td>\n",
       "      <td>31.71</td>\n",
       "      <td>22.14</td>\n",
       "      <td>84</td>\n",
       "      <td>69</td>\n",
       "      <td>0.21</td>\n",
       "      <td>UG</td>\n",
       "      <td>1602773505</td>\n",
       "    </tr>\n",
       "    <tr>\n",
       "      <th>4</th>\n",
       "      <td>Itarema</td>\n",
       "      <td>-2.92</td>\n",
       "      <td>-39.92</td>\n",
       "      <td>31.55</td>\n",
       "      <td>53</td>\n",
       "      <td>3</td>\n",
       "      <td>8.68</td>\n",
       "      <td>BR</td>\n",
       "      <td>1602773505</td>\n",
       "    </tr>\n",
       "    <tr>\n",
       "      <th>...</th>\n",
       "      <td>...</td>\n",
       "      <td>...</td>\n",
       "      <td>...</td>\n",
       "      <td>...</td>\n",
       "      <td>...</td>\n",
       "      <td>...</td>\n",
       "      <td>...</td>\n",
       "      <td>...</td>\n",
       "      <td>...</td>\n",
       "    </tr>\n",
       "    <tr>\n",
       "      <th>540</th>\n",
       "      <td>Paez</td>\n",
       "      <td>5.10</td>\n",
       "      <td>-73.05</td>\n",
       "      <td>22.66</td>\n",
       "      <td>60</td>\n",
       "      <td>54</td>\n",
       "      <td>1.67</td>\n",
       "      <td>CO</td>\n",
       "      <td>1602773685</td>\n",
       "    </tr>\n",
       "    <tr>\n",
       "      <th>541</th>\n",
       "      <td>Sao Lourenco Do Sul</td>\n",
       "      <td>-31.37</td>\n",
       "      <td>-51.98</td>\n",
       "      <td>19.31</td>\n",
       "      <td>75</td>\n",
       "      <td>83</td>\n",
       "      <td>2.99</td>\n",
       "      <td>BR</td>\n",
       "      <td>1602773685</td>\n",
       "    </tr>\n",
       "    <tr>\n",
       "      <th>542</th>\n",
       "      <td>Dzilam Gonzalez</td>\n",
       "      <td>21.28</td>\n",
       "      <td>-88.93</td>\n",
       "      <td>27.86</td>\n",
       "      <td>65</td>\n",
       "      <td>0</td>\n",
       "      <td>0.98</td>\n",
       "      <td>MX</td>\n",
       "      <td>1602773686</td>\n",
       "    </tr>\n",
       "    <tr>\n",
       "      <th>543</th>\n",
       "      <td>Riberalta</td>\n",
       "      <td>-10.98</td>\n",
       "      <td>-66.10</td>\n",
       "      <td>28.00</td>\n",
       "      <td>74</td>\n",
       "      <td>75</td>\n",
       "      <td>1.74</td>\n",
       "      <td>BO</td>\n",
       "      <td>1602773672</td>\n",
       "    </tr>\n",
       "    <tr>\n",
       "      <th>544</th>\n",
       "      <td>Port-Gentil</td>\n",
       "      <td>-0.72</td>\n",
       "      <td>8.78</td>\n",
       "      <td>29.00</td>\n",
       "      <td>70</td>\n",
       "      <td>75</td>\n",
       "      <td>7.70</td>\n",
       "      <td>GA</td>\n",
       "      <td>1602773386</td>\n",
       "    </tr>\n",
       "  </tbody>\n",
       "</table>\n",
       "<p>545 rows × 9 columns</p>\n",
       "</div>"
      ],
      "text/plain": [
       "                    City    Lat    Lng  Max Temp  Humidity  Cloudiness  \\\n",
       "0                Qaanaaq  77.48 -69.36     -1.85        85           0   \n",
       "1                 Dikson  73.51  80.55     -0.78        93         100   \n",
       "2           Tirat Karmel  32.76  34.97     26.60        65          40   \n",
       "3                Masindi   1.67  31.71     22.14        84          69   \n",
       "4                Itarema  -2.92 -39.92     31.55        53           3   \n",
       "..                   ...    ...    ...       ...       ...         ...   \n",
       "540                 Paez   5.10 -73.05     22.66        60          54   \n",
       "541  Sao Lourenco Do Sul -31.37 -51.98     19.31        75          83   \n",
       "542      Dzilam Gonzalez  21.28 -88.93     27.86        65           0   \n",
       "543            Riberalta -10.98 -66.10     28.00        74          75   \n",
       "544          Port-Gentil  -0.72   8.78     29.00        70          75   \n",
       "\n",
       "     Wind Speed Country        Date  \n",
       "0          3.00      GL  1602773503  \n",
       "1         11.93      RU  1602773504  \n",
       "2          5.10      IL  1602773504  \n",
       "3          0.21      UG  1602773505  \n",
       "4          8.68      BR  1602773505  \n",
       "..          ...     ...         ...  \n",
       "540        1.67      CO  1602773685  \n",
       "541        2.99      BR  1602773685  \n",
       "542        0.98      MX  1602773686  \n",
       "543        1.74      BO  1602773672  \n",
       "544        7.70      GA  1602773386  \n",
       "\n",
       "[545 rows x 9 columns]"
      ]
     },
     "execution_count": 27,
     "metadata": {},
     "output_type": "execute_result"
    }
   ],
   "source": [
    "# Make a new DataFrame equal to the city data to drop all humidity outliers by index.\n",
    "# Passing \"inplace=False\" will make a copy of the city_data DataFrame, which we call \"clean_city_data\".\n",
    "clean_city_data = csv_df.drop(csv_df.index[humid100], inplace=False)\n",
    "clean_city_data"
   ]
  },
  {
   "cell_type": "code",
   "execution_count": 28,
   "metadata": {
    "ExecuteTime": {
     "end_time": "2020-10-15T16:08:22.038930Z",
     "start_time": "2020-10-15T16:08:22.016930Z"
    }
   },
   "outputs": [
    {
     "data": {
      "text/html": [
       "<div>\n",
       "<style scoped>\n",
       "    .dataframe tbody tr th:only-of-type {\n",
       "        vertical-align: middle;\n",
       "    }\n",
       "\n",
       "    .dataframe tbody tr th {\n",
       "        vertical-align: top;\n",
       "    }\n",
       "\n",
       "    .dataframe thead th {\n",
       "        text-align: right;\n",
       "    }\n",
       "</style>\n",
       "<table border=\"1\" class=\"dataframe\">\n",
       "  <thead>\n",
       "    <tr style=\"text-align: right;\">\n",
       "      <th></th>\n",
       "      <th>Lat</th>\n",
       "      <th>Lng</th>\n",
       "      <th>Max Temp</th>\n",
       "      <th>Humidity</th>\n",
       "      <th>Cloudiness</th>\n",
       "      <th>Wind Speed</th>\n",
       "      <th>Date</th>\n",
       "    </tr>\n",
       "  </thead>\n",
       "  <tbody>\n",
       "    <tr>\n",
       "      <th>count</th>\n",
       "      <td>545.000000</td>\n",
       "      <td>545.000000</td>\n",
       "      <td>545.000000</td>\n",
       "      <td>545.000000</td>\n",
       "      <td>545.000000</td>\n",
       "      <td>545.000000</td>\n",
       "      <td>5.450000e+02</td>\n",
       "    </tr>\n",
       "    <tr>\n",
       "      <th>mean</th>\n",
       "      <td>19.948330</td>\n",
       "      <td>1.933450</td>\n",
       "      <td>19.781468</td>\n",
       "      <td>62.427523</td>\n",
       "      <td>46.941284</td>\n",
       "      <td>3.953284</td>\n",
       "      <td>1.602774e+09</td>\n",
       "    </tr>\n",
       "    <tr>\n",
       "      <th>std</th>\n",
       "      <td>32.271229</td>\n",
       "      <td>56.233906</td>\n",
       "      <td>10.743318</td>\n",
       "      <td>23.053940</td>\n",
       "      <td>36.766656</td>\n",
       "      <td>2.407281</td>\n",
       "      <td>7.303779e+01</td>\n",
       "    </tr>\n",
       "    <tr>\n",
       "      <th>min</th>\n",
       "      <td>-54.800000</td>\n",
       "      <td>-122.830000</td>\n",
       "      <td>-4.000000</td>\n",
       "      <td>5.000000</td>\n",
       "      <td>0.000000</td>\n",
       "      <td>0.150000</td>\n",
       "      <td>1.602773e+09</td>\n",
       "    </tr>\n",
       "    <tr>\n",
       "      <th>25%</th>\n",
       "      <td>-7.260000</td>\n",
       "      <td>-52.950000</td>\n",
       "      <td>11.300000</td>\n",
       "      <td>46.000000</td>\n",
       "      <td>6.000000</td>\n",
       "      <td>2.130000</td>\n",
       "      <td>1.602774e+09</td>\n",
       "    </tr>\n",
       "    <tr>\n",
       "      <th>50%</th>\n",
       "      <td>20.200000</td>\n",
       "      <td>12.630000</td>\n",
       "      <td>20.740000</td>\n",
       "      <td>67.000000</td>\n",
       "      <td>42.000000</td>\n",
       "      <td>3.600000</td>\n",
       "      <td>1.602774e+09</td>\n",
       "    </tr>\n",
       "    <tr>\n",
       "      <th>75%</th>\n",
       "      <td>47.870000</td>\n",
       "      <td>45.040000</td>\n",
       "      <td>28.110000</td>\n",
       "      <td>79.000000</td>\n",
       "      <td>79.000000</td>\n",
       "      <td>5.350000</td>\n",
       "      <td>1.602774e+09</td>\n",
       "    </tr>\n",
       "    <tr>\n",
       "      <th>max</th>\n",
       "      <td>78.220000</td>\n",
       "      <td>141.970000</td>\n",
       "      <td>42.000000</td>\n",
       "      <td>100.000000</td>\n",
       "      <td>100.000000</td>\n",
       "      <td>16.500000</td>\n",
       "      <td>1.602774e+09</td>\n",
       "    </tr>\n",
       "  </tbody>\n",
       "</table>\n",
       "</div>"
      ],
      "text/plain": [
       "              Lat         Lng    Max Temp    Humidity  Cloudiness  Wind Speed  \\\n",
       "count  545.000000  545.000000  545.000000  545.000000  545.000000  545.000000   \n",
       "mean    19.948330    1.933450   19.781468   62.427523   46.941284    3.953284   \n",
       "std     32.271229   56.233906   10.743318   23.053940   36.766656    2.407281   \n",
       "min    -54.800000 -122.830000   -4.000000    5.000000    0.000000    0.150000   \n",
       "25%     -7.260000  -52.950000   11.300000   46.000000    6.000000    2.130000   \n",
       "50%     20.200000   12.630000   20.740000   67.000000   42.000000    3.600000   \n",
       "75%     47.870000   45.040000   28.110000   79.000000   79.000000    5.350000   \n",
       "max     78.220000  141.970000   42.000000  100.000000  100.000000   16.500000   \n",
       "\n",
       "               Date  \n",
       "count  5.450000e+02  \n",
       "mean   1.602774e+09  \n",
       "std    7.303779e+01  \n",
       "min    1.602773e+09  \n",
       "25%    1.602774e+09  \n",
       "50%    1.602774e+09  \n",
       "75%    1.602774e+09  \n",
       "max    1.602774e+09  "
      ]
     },
     "execution_count": 28,
     "metadata": {},
     "output_type": "execute_result"
    }
   ],
   "source": [
    "# confirm the maximum humidity in the clean_city_data\n",
    "clean_city_data.describe()"
   ]
  },
  {
   "cell_type": "markdown",
   "metadata": {},
   "source": [
    "## Plotting the Data\n",
    "* Use proper labeling of the plots using plot titles (including date of analysis) and axes labels.\n",
    "* Save the plotted figures as .pngs."
   ]
  },
  {
   "cell_type": "markdown",
   "metadata": {},
   "source": [
    "## Latitude vs. Temperature Plot"
   ]
  },
  {
   "cell_type": "code",
   "execution_count": 29,
   "metadata": {
    "ExecuteTime": {
     "end_time": "2020-10-15T16:08:24.676710Z",
     "start_time": "2020-10-15T16:08:24.499309Z"
    }
   },
   "outputs": [
    {
     "data": {
      "image/png": "[encoded data removed]",
      "text/plain": [
       "<Figure size 432x288 with 1 Axes>"
      ]
     },
     "metadata": {
      "needs_background": "light"
     },
     "output_type": "display_data"
    }
   ],
   "source": [
    "# capture the date that the script would run\n",
    "date=time.strftime('%m/%d/%y')\n",
    "\n",
    "plt.scatter(clean_city_data[\"Lat\"], clean_city_data[\"Max Temp\"], color = \"cornflowerblue\", marker = \"o\", alpha = \".8\")\n",
    "plt.grid(b=True, alpha = 0.5)\n",
    "plt.xlabel(\"Latitude\")\n",
    "plt.ylabel('Max Temperature (ºC)')\n",
    "plt.title(f\"City Latitude vs. Max. Temperature ({date})\")\n",
    "\n",
    "plt.savefig('output_data/Fig 1 - Lat_vs_Temp.png')\n",
    "plt.show()"
   ]
  },
  {
   "cell_type": "markdown",
   "metadata": {},
   "source": [
    "## Latitude vs. Humidity Plot"
   ]
  },
  {
   "cell_type": "code",
   "execution_count": 30,
   "metadata": {
    "ExecuteTime": {
     "end_time": "2020-10-15T16:08:26.486092Z",
     "start_time": "2020-10-15T16:08:26.321365Z"
    }
   },
   "outputs": [
    {
     "data": {
      "image/png": "[encoded data removed]",
      "text/plain": [
       "<Figure size 432x288 with 1 Axes>"
      ]
     },
     "metadata": {
      "needs_background": "light"
     },
     "output_type": "display_data"
    }
   ],
   "source": [
    "plt.scatter(clean_city_data['Lat'], clean_city_data['Humidity'], color = \"cornflowerblue\", marker = \"o\", alpha = \".8\")\n",
    "plt.grid(b=True, alpha = 0.5)\n",
    "plt.xlabel(\"Latitude\")\n",
    "plt.ylabel(\"Humidity (%)\")\n",
    "plt.title(f\"City Latitude vs. Humidity ({date})\")\n",
    "\n",
    "plt.savefig('output_data/Fig 2 - Lat_vs_Hum.png')\n",
    "plt.show()"
   ]
  },
  {
   "cell_type": "markdown",
   "metadata": {},
   "source": [
    "## Latitude vs. Cloudiness Plot"
   ]
  },
  {
   "cell_type": "code",
   "execution_count": 31,
   "metadata": {
    "ExecuteTime": {
     "end_time": "2020-10-15T16:08:27.751944Z",
     "start_time": "2020-10-15T16:08:27.403221Z"
    }
   },
   "outputs": [
    {
     "data": {
      "image/png": "[encoded data removed]",
      "text/plain": [
       "<Figure size 432x288 with 1 Axes>"
      ]
     },
     "metadata": {
      "needs_background": "light"
     },
     "output_type": "display_data"
    }
   ],
   "source": [
    "plt.scatter(clean_city_data['Lat'], clean_city_data['Cloudiness'], color = \"cornflowerblue\", marker = \"o\", alpha = \".8\")\n",
    "plt.grid(b=True, alpha = 0.5)\n",
    "plt.xlabel(\"Latitude\")\n",
    "plt.ylabel(\"Cloudiness (%)\")\n",
    "plt.title(f\"City Latitude vs. Cloudiness ({date})\")\n",
    "\n",
    "plt.savefig('output_data/Fig 3 - Lat_vs_Cld.png')\n",
    "plt.show()"
   ]
  },
  {
   "cell_type": "markdown",
   "metadata": {},
   "source": [
    "## Latitude vs. Wind Speed Plot"
   ]
  },
  {
   "cell_type": "code",
   "execution_count": 32,
   "metadata": {
    "ExecuteTime": {
     "end_time": "2020-10-15T16:08:28.609445Z",
     "start_time": "2020-10-15T16:08:28.440586Z"
    }
   },
   "outputs": [
    {
     "data": {
      "image/png": "[encoded data removed]",
      "text/plain": [
       "<Figure size 432x288 with 1 Axes>"
      ]
     },
     "metadata": {
      "needs_background": "light"
     },
     "output_type": "display_data"
    }
   ],
   "source": [
    "plt.scatter(clean_city_data['Lat'], clean_city_data['Wind Speed'], color = \"cornflowerblue\", marker = \"o\", alpha = \".8\")\n",
    "plt.grid(b=True, alpha = 0.5)\n",
    "plt.xlabel(\"Latitude\")\n",
    "plt.ylabel(\"Wind Speed (m/s)\")\n",
    "plt.title(f\"City Latitude vs. Wind Speed ({date})\")\n",
    "\n",
    "plt.savefig('output_data/Fig 4 - Lat_vs_Wnd.png')\n",
    "plt.show()"
   ]
  },
  {
   "cell_type": "markdown",
   "metadata": {},
   "source": [
    "## Linear Regression"
   ]
  },
  {
   "cell_type": "code",
   "execution_count": 33,
   "metadata": {
    "ExecuteTime": {
     "end_time": "2020-10-15T16:08:29.244765Z",
     "start_time": "2020-10-15T16:08:29.240987Z"
    }
   },
   "outputs": [],
   "source": [
    "# split dataframe into northern and southern hemisphere\n",
    "n_csv = clean_city_data[clean_city_data[\"Lat\"]>=0]\n",
    "s_csv = clean_city_data[clean_city_data[\"Lat\"]<0]"
   ]
  },
  {
   "cell_type": "markdown",
   "metadata": {},
   "source": [
    "####  Northern Hemisphere - Max Temp vs. Latitude Linear Regression"
   ]
  },
  {
   "cell_type": "code",
   "execution_count": 34,
   "metadata": {
    "ExecuteTime": {
     "end_time": "2020-10-15T16:08:31.393321Z",
     "start_time": "2020-10-15T16:08:31.278275Z"
    }
   },
   "outputs": [
    {
     "name": "stdout",
     "output_type": "stream",
     "text": [
      "The r-value is: 0.7673773704286194\n"
     ]
    },
    {
     "data": {
      "image/png": "[encoded data removed]",
      "text/plain": [
       "<Figure size 432x288 with 1 Axes>"
      ]
     },
     "metadata": {
      "needs_background": "light"
     },
     "output_type": "display_data"
    }
   ],
   "source": [
    "x_values = n_csv[\"Lat\"]\n",
    "y_values = n_csv[\"Max Temp\"]\n",
    "(slope, intercept, rvalue, pvalue, stderr) = linregress(x_values, y_values)\n",
    "regress_values = x_values * slope + intercept\n",
    "line_eq = \"y = \" + str(round(slope,2)) + \"x + \" + str(round(intercept,2))\n",
    "\n",
    "plt.scatter(x_values,y_values)\n",
    "plt.plot(x_values,regress_values,\"r-\")\n",
    "plt.annotate(line_eq,(2,-1),fontsize=15,color=\"red\")\n",
    "plt.xlabel(\"Latitude\")\n",
    "plt.ylabel(\"Max Temp\")\n",
    "\n",
    "print(f\"The r-value is: {rvalue**2}\")\n",
    "plt.show()"
   ]
  },
  {
   "cell_type": "markdown",
   "metadata": {},
   "source": [
    "####  Southern Hemisphere - Max Temp vs. Latitude Linear Regression"
   ]
  },
  {
   "cell_type": "code",
   "execution_count": 35,
   "metadata": {
    "ExecuteTime": {
     "end_time": "2020-10-15T16:08:32.691815Z",
     "start_time": "2020-10-15T16:08:32.579052Z"
    }
   },
   "outputs": [
    {
     "name": "stdout",
     "output_type": "stream",
     "text": [
      "The r-value is: 0.34345794836737353\n"
     ]
    },
    {
     "data": {
      "image/png": "[encoded data removed]",
      "text/plain": [
       "<Figure size 432x288 with 1 Axes>"
      ]
     },
     "metadata": {
      "needs_background": "light"
     },
     "output_type": "display_data"
    }
   ],
   "source": [
    "x_values = s_csv[\"Lat\"]\n",
    "y_values = s_csv[\"Max Temp\"]\n",
    "(slope, intercept, rvalue, pvalue, stderr) = linregress(x_values, y_values)\n",
    "regress_values = x_values * slope + intercept\n",
    "line_eq = \"y = \" + str(round(slope,2)) + \"x + \" + str(round(intercept,2))\n",
    "\n",
    "plt.scatter(x_values,y_values)\n",
    "plt.plot(x_values,regress_values,\"r-\")\n",
    "plt.annotate(line_eq,(-55,36),fontsize=15,color=\"red\")\n",
    "plt.xlabel(\"Latitude\")\n",
    "plt.ylabel(\"Max Temp\")\n",
    "\n",
    "print(f\"The r-value is: {rvalue**2}\")\n",
    "plt.show()"
   ]
  },
  {
   "cell_type": "markdown",
   "metadata": {},
   "source": [
    "####  Northern Hemisphere - Humidity (%) vs. Latitude Linear Regression"
   ]
  },
  {
   "cell_type": "code",
   "execution_count": 36,
   "metadata": {
    "ExecuteTime": {
     "end_time": "2020-10-15T16:08:34.251167Z",
     "start_time": "2020-10-15T16:08:34.136723Z"
    }
   },
   "outputs": [
    {
     "name": "stdout",
     "output_type": "stream",
     "text": [
      "The r-value is: 0.07249994867149522\n"
     ]
    },
    {
     "data": {
      "image/png": "[encoded data removed]",
      "text/plain": [
       "<Figure size 432x288 with 1 Axes>"
      ]
     },
     "metadata": {
      "needs_background": "light"
     },
     "output_type": "display_data"
    }
   ],
   "source": [
    "x_values = n_csv[\"Lat\"]\n",
    "y_values = n_csv[\"Humidity\"]\n",
    "(slope, intercept, rvalue, pvalue, stderr) = linregress(x_values, y_values)\n",
    "regress_values = x_values * slope + intercept\n",
    "line_eq = \"y = \" + str(round(slope,2)) + \"x + \" + str(round(intercept,2))\n",
    "\n",
    "plt.scatter(x_values,y_values)\n",
    "plt.plot(x_values,regress_values,\"r-\")\n",
    "plt.annotate(line_eq,(45,10),fontsize=15,color=\"red\")\n",
    "plt.xlabel(\"Latitude\")\n",
    "plt.ylabel(\"Humidity\")\n",
    "\n",
    "print(f\"The r-value is: {rvalue**2}\")\n",
    "plt.show()"
   ]
  },
  {
   "cell_type": "markdown",
   "metadata": {},
   "source": [
    "####  Southern Hemisphere - Humidity (%) vs. Latitude Linear Regression"
   ]
  },
  {
   "cell_type": "code",
   "execution_count": 37,
   "metadata": {
    "ExecuteTime": {
     "end_time": "2020-10-15T16:08:35.257059Z",
     "start_time": "2020-10-15T16:08:35.152269Z"
    }
   },
   "outputs": [
    {
     "name": "stdout",
     "output_type": "stream",
     "text": [
      "The r-value is: 0.002455732256053344\n"
     ]
    },
    {
     "data": {
      "image/png": "[encoded data removed]",
      "text/plain": [
       "<Figure size 432x288 with 1 Axes>"
      ]
     },
     "metadata": {
      "needs_background": "light"
     },
     "output_type": "display_data"
    }
   ],
   "source": [
    "x_values = s_csv[\"Lat\"]\n",
    "y_values = s_csv[\"Humidity\"]\n",
    "(slope, intercept, rvalue, pvalue, stderr) = linregress(x_values, y_values)\n",
    "regress_values = x_values * slope + intercept\n",
    "line_eq = \"y = \" + str(round(slope,2)) + \"x + \" + str(round(intercept,2))\n",
    "\n",
    "plt.scatter(x_values,y_values)\n",
    "plt.plot(x_values,regress_values,\"r-\")\n",
    "plt.annotate(line_eq,(-55,90),fontsize=15,color=\"red\")\n",
    "plt.xlabel(\"Latitude\")\n",
    "plt.ylabel(\"Humidity\")\n",
    "\n",
    "print(f\"The r-value is: {rvalue**2}\")\n",
    "plt.show()"
   ]
  },
  {
   "cell_type": "markdown",
   "metadata": {},
   "source": [
    "####  Northern Hemisphere - Cloudiness (%) vs. Latitude Linear Regression"
   ]
  },
  {
   "cell_type": "code",
   "execution_count": 38,
   "metadata": {
    "ExecuteTime": {
     "end_time": "2020-10-15T16:08:36.501806Z",
     "start_time": "2020-10-15T16:08:36.386471Z"
    }
   },
   "outputs": [
    {
     "name": "stdout",
     "output_type": "stream",
     "text": [
      "The r-value is: 0.07860153044342369\n"
     ]
    },
    {
     "data": {
      "image/png": "[encoded data removed]",
      "text/plain": [
       "<Figure size 432x288 with 1 Axes>"
      ]
     },
     "metadata": {
      "needs_background": "light"
     },
     "output_type": "display_data"
    }
   ],
   "source": [
    "x_values = n_csv[\"Lat\"]\n",
    "y_values = n_csv[\"Cloudiness\"]\n",
    "(slope, intercept, rvalue, pvalue, stderr) = linregress(x_values, y_values)\n",
    "regress_values = x_values * slope + intercept\n",
    "line_eq = \"y = \" + str(round(slope,2)) + \"x + \" + str(round(intercept,2))\n",
    "\n",
    "plt.scatter(x_values,y_values)\n",
    "plt.plot(x_values,regress_values,\"r-\")\n",
    "plt.annotate(line_eq,(45,10),fontsize=15,color=\"red\")\n",
    "plt.xlabel(\"Latitude\")\n",
    "plt.ylabel(\"Cloudiness\")\n",
    "\n",
    "print(f\"The r-value is: {rvalue**2}\")\n",
    "plt.show()"
   ]
  },
  {
   "cell_type": "markdown",
   "metadata": {},
   "source": [
    "####  Southern Hemisphere - Cloudiness (%) vs. Latitude Linear Regression"
   ]
  },
  {
   "cell_type": "code",
   "execution_count": 39,
   "metadata": {
    "ExecuteTime": {
     "end_time": "2020-10-15T16:08:37.471661Z",
     "start_time": "2020-10-15T16:08:37.360322Z"
    }
   },
   "outputs": [
    {
     "name": "stdout",
     "output_type": "stream",
     "text": [
      "The r-value is: 0.02740625073253445\n"
     ]
    },
    {
     "data": {
      "image/png": "[encoded data removed]",
      "text/plain": [
       "<Figure size 432x288 with 1 Axes>"
      ]
     },
     "metadata": {
      "needs_background": "light"
     },
     "output_type": "display_data"
    }
   ],
   "source": [
    "x_values = s_csv[\"Lat\"]\n",
    "y_values = s_csv[\"Cloudiness\"]\n",
    "(slope, intercept, rvalue, pvalue, stderr) = linregress(x_values, y_values)\n",
    "regress_values = x_values * slope + intercept\n",
    "line_eq = \"y = \" + str(round(slope,2)) + \"x + \" + str(round(intercept,2))\n",
    "\n",
    "plt.scatter(x_values,y_values)\n",
    "plt.plot(x_values,regress_values,\"r-\")\n",
    "plt.annotate(line_eq,(-55,7),fontsize=15,color=\"red\")\n",
    "plt.xlabel(\"Latitude\")\n",
    "plt.ylabel(\"Cloudiness\")\n",
    "\n",
    "print(f\"The r-value is: {rvalue**2}\")\n",
    "plt.show()"
   ]
  },
  {
   "cell_type": "markdown",
   "metadata": {},
   "source": [
    "####  Northern Hemisphere - Wind Speed (mph) vs. Latitude Linear Regression"
   ]
  },
  {
   "cell_type": "code",
   "execution_count": 40,
   "metadata": {
    "ExecuteTime": {
     "end_time": "2020-10-15T16:08:38.389007Z",
     "start_time": "2020-10-15T16:08:38.269898Z"
    }
   },
   "outputs": [
    {
     "name": "stdout",
     "output_type": "stream",
     "text": [
      "The r-value is: 0.028074576089932843\n"
     ]
    },
    {
     "data": {
      "image/png": "[encoded data removed]",
      "text/plain": [
       "<Figure size 432x288 with 1 Axes>"
      ]
     },
     "metadata": {
      "needs_background": "light"
     },
     "output_type": "display_data"
    }
   ],
   "source": [
    "x_values = n_csv[\"Lat\"]\n",
    "y_values = n_csv[\"Wind Speed\"]\n",
    "(slope, intercept, rvalue, pvalue, stderr) = linregress(x_values, y_values)\n",
    "regress_values = x_values * slope + intercept\n",
    "line_eq = \"y = \" + str(round(slope,2)) + \"x + \" + str(round(intercept,2))\n",
    "\n",
    "plt.scatter(x_values,y_values)\n",
    "plt.plot(x_values,regress_values,\"r-\")\n",
    "plt.annotate(line_eq,(0,11.5),fontsize=15,color=\"red\")\n",
    "plt.xlabel(\"Latitude\")\n",
    "plt.ylabel(\"Wind Speed (m/s)\")\n",
    "\n",
    "print(f\"The r-value is: {rvalue**2}\")\n",
    "plt.show()"
   ]
  },
  {
   "cell_type": "markdown",
   "metadata": {},
   "source": [
    "####  Southern Hemisphere - Wind Speed (mph) vs. Latitude Linear Regression"
   ]
  },
  {
   "cell_type": "code",
   "execution_count": 41,
   "metadata": {
    "ExecuteTime": {
     "end_time": "2020-10-15T16:08:39.236899Z",
     "start_time": "2020-10-15T16:08:39.112930Z"
    }
   },
   "outputs": [
    {
     "name": "stdout",
     "output_type": "stream",
     "text": [
      "The r-value is: 0.03275983429002408\n"
     ]
    },
    {
     "data": {
      "image/png": "[encoded data removed]",
      "text/plain": [
       "<Figure size 432x288 with 1 Axes>"
      ]
     },
     "metadata": {
      "needs_background": "light"
     },
     "output_type": "display_data"
    }
   ],
   "source": [
    "x_values = s_csv[\"Lat\"]\n",
    "y_values = s_csv[\"Wind Speed\"]\n",
    "(slope, intercept, rvalue, pvalue, stderr) = linregress(x_values, y_values)\n",
    "regress_values = x_values * slope + intercept\n",
    "line_eq = \"y = \" + str(round(slope,2)) + \"x + \" + str(round(intercept,2))\n",
    "\n",
    "plt.scatter(x_values,y_values)\n",
    "plt.plot(x_values,regress_values,\"r-\")\n",
    "plt.annotate(line_eq,(-24,14),fontsize=15,color=\"red\")\n",
    "plt.xlabel(\"Latitude\")\n",
    "plt.ylabel(\"Wind Speed (m/s)\")\n",
    "\n",
    "print(f\"The r-value is: {rvalue**2}\")\n",
    "plt.show()"
   ]
  }
 ],
 "metadata": {
  "anaconda-cloud": {},
  "kernel_info": {
   "name": "python3"
  },
  "kernelspec": {
   "display_name": "Python 3",
   "language": "python",
   "name": "python3"
  },
  "language_info": {
   "codemirror_mode": {
    "name": "ipython",
    "version": 3
   },
   "file_extension": ".py",
   "mimetype": "text/x-python",
   "name": "python",
   "nbconvert_exporter": "python",
   "pygments_lexer": "ipython3",
   "version": "3.7.9"
  },
  "latex_envs": {
   "LaTeX_envs_menu_present": true,
   "autoclose": false,
   "autocomplete": true,
   "bibliofile": "biblio.bib",
   "cite_by": "apalike",
   "current_citInitial": 1,
   "eqLabelWithNumbers": true,
   "eqNumInitial": 1,
   "hotkeys": {
    "equation": "Ctrl-E",
    "itemize": "Ctrl-I"
   },
   "labels_anchors": false,
   "latex_user_defs": false,
   "report_style_numbering": false,
   "user_envs_cfg": false
  },
  "nteract": {
   "version": "0.12.3"
  }
 },
 "nbformat": 4,
 "nbformat_minor": 2
}
