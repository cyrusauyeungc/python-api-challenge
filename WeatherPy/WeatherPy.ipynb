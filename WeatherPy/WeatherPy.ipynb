{
 "cells": [
  {
   "cell_type": "markdown",
   "metadata": {},
   "source": [
    "# WeatherPy\n",
    "----\n",
    "\n",
    "#### Note\n",
    "* Instructions have been included for each segment. You do not have to follow them exactly, but they are included to help you think through the steps."
   ]
  },
  {
   "cell_type": "code",
   "execution_count": 1,
   "metadata": {
    "ExecuteTime": {
     "end_time": "2020-10-15T17:11:56.413079Z",
     "start_time": "2020-10-15T17:11:54.396849Z"
    },
    "scrolled": true
   },
   "outputs": [],
   "source": [
    "import os\n",
    "import time\n",
    "from random import uniform\n",
    "import matplotlib.pyplot as plt\n",
    "import pandas as pd\n",
    "import numpy as np\n",
    "import requests\n",
    "import json\n",
    "\n",
    "from scipy.stats import linregress\n",
    "from citipy import citipy\n",
    "from pprint import pprint\n",
    "\n",
    "from api_keys import weather_api_key\n",
    "from api_keys import g_key"
   ]
  },
  {
   "cell_type": "markdown",
   "metadata": {},
   "source": [
    "## Generate Cities List"
   ]
  },
  {
   "cell_type": "code",
   "execution_count": 2,
   "metadata": {
    "ExecuteTime": {
     "end_time": "2020-10-15T17:11:58.394247Z",
     "start_time": "2020-10-15T17:11:56.414570Z"
    }
   },
   "outputs": [
    {
     "data": {
      "text/plain": [
       "600"
      ]
     },
     "execution_count": 2,
     "metadata": {},
     "output_type": "execute_result"
    }
   ],
   "source": [
    "lat_lngs = []\n",
    "cities = []\n",
    "\n",
    "# generate random coordinates\n",
    "while len(cities) < 600:\n",
    "    x, y = uniform(-180,180), uniform(-90, 90)\n",
    "    city = citipy.nearest_city(x, y).city_name\n",
    "    city = city.title()\n",
    "# If the city is unique, then add it to a our cities list\n",
    "    if city not in cities:\n",
    "        cities.append(city)\n",
    "\n",
    "# Print the city count to confirm sufficient count\n",
    "len(cities)"
   ]
  },
  {
   "cell_type": "markdown",
   "metadata": {},
   "source": [
    "### Perform API Calls\n",
    "* Perform a weather check on each city using a series of successive API calls.\n",
    "* Include a print log of each city as it'sbeing processed (with the city number and city name).\n"
   ]
  },
  {
   "cell_type": "code",
   "execution_count": null,
   "metadata": {
    "ExecuteTime": {
     "start_time": "2020-10-15T17:11:54.398Z"
    },
    "scrolled": false
   },
   "outputs": [
    {
     "name": "stdout",
     "output_type": "stream",
     "text": [
      "Beginning Data Retrieval\n",
      "------------------------------\n",
      "Processing Record 1 of Set 1 | Port Alfred\n",
      "Processing Record 2 of Set 1 | Port Elizabeth\n",
      "Processing Record 3 of Set 1 | Tasiilaq\n",
      "Processing Record 4 of Set 1 | Cockburn Town\n",
      "Processing Record 5 of Set 1 | Zemio\n",
      "Processing Record 6 of Set 1 | Longyearbyen\n",
      "Processing Record 7 of Set 1 | Ushuaia\n",
      "Processing Record 8 of Set 1 | Qaanaaq\n",
      "Processing Record 9 of Set 1 | Bredasdorp\n",
      "Processing Record 10 of Set 1 | Upernavik\n",
      "Processing Record 11 of Set 1 | Barentsburg\n",
      "City \"Barentsburg\" not found. Skipping...\n",
      "Processing Record 11 of Set 1 | Izmit\n",
      "Processing Record 12 of Set 1 | Ballina\n",
      "Processing Record 13 of Set 1 | Dikson\n",
      "Processing Record 14 of Set 1 | Kruisfontein\n",
      "Processing Record 15 of Set 1 | Kentau\n",
      "Processing Record 16 of Set 1 | Kolondieba\n",
      "Processing Record 17 of Set 1 | Jamestown\n",
      "Processing Record 18 of Set 1 | Necochea\n",
      "Processing Record 19 of Set 1 | Saint-Philippe\n",
      "Processing Record 20 of Set 1 | Hermanus\n",
      "Processing Record 21 of Set 1 | Sicuani\n",
      "Processing Record 22 of Set 1 | San Clemente\n",
      "Processing Record 23 of Set 1 | Hamilton\n",
      "Processing Record 24 of Set 1 | Georgetown\n",
      "Processing Record 25 of Set 1 | Arraial Do Cabo\n",
      "Processing Record 26 of Set 1 | Igarka\n",
      "Processing Record 27 of Set 1 | Amderma\n",
      "City \"Amderma\" not found. Skipping...\n",
      "Processing Record 27 of Set 1 | Busselton\n",
      "Processing Record 28 of Set 1 | Albany\n",
      "Processing Record 29 of Set 1 | Talcahuano\n",
      "Processing Record 30 of Set 1 | Belushya Guba\n",
      "City \"Belushya Guba\" not found. Skipping...\n",
      "Processing Record 30 of Set 1 | Umzimvubu\n",
      "City \"Umzimvubu\" not found. Skipping...\n",
      "Processing Record 30 of Set 1 | Kangaba\n",
      "Processing Record 31 of Set 1 | Cidreira\n",
      "Processing Record 32 of Set 1 | Novyy Starodub\n",
      "Processing Record 33 of Set 1 | Barranca\n",
      "Processing Record 34 of Set 1 | Elizabeth City\n",
      "Processing Record 35 of Set 1 | Illoqqortoormiut\n",
      "City \"Illoqqortoormiut\" not found. Skipping...\n",
      "Processing Record 35 of Set 1 | Luena\n",
      "Processing Record 36 of Set 1 | Taolanaro\n",
      "City \"Taolanaro\" not found. Skipping...\n",
      "Processing Record 36 of Set 1 | Sabi\n",
      "Processing Record 37 of Set 1 | Saint-Augustin\n",
      "Processing Record 38 of Set 1 | Bambous Virieux\n",
      "Processing Record 39 of Set 1 | Opuwo\n",
      "Processing Record 40 of Set 1 | Cape Town\n",
      "Processing Record 41 of Set 1 | Howard\n",
      "Processing Record 42 of Set 1 | Pangnirtung\n",
      "Processing Record 43 of Set 1 | Sinnamary\n",
      "Processing Record 44 of Set 1 | Carutapera\n",
      "Processing Record 45 of Set 1 | Detva\n",
      "Processing Record 46 of Set 1 | Souillac\n",
      "Processing Record 47 of Set 1 | Menongue\n",
      "Processing Record 48 of Set 1 | Adrar\n",
      "Processing Record 49 of Set 1 | Monrovia\n",
      "Processing Record 50 of Set 1 | Tshela\n",
      "Processing Record 1 of Set 2 | Chintamani\n",
      "Processing Record 2 of Set 2 | Havre-Saint-Pierre\n",
      "Processing Record 3 of Set 2 | Qaqortoq\n",
      "Processing Record 4 of Set 2 | Sao Jose Da Coroa Grande\n",
      "Processing Record 5 of Set 2 | Lebu\n",
      "Processing Record 6 of Set 2 | Salta\n",
      "Processing Record 7 of Set 2 | Puerto Rondon\n",
      "Processing Record 8 of Set 2 | Funadhoo\n",
      "Processing Record 9 of Set 2 | Korla\n",
      "Processing Record 10 of Set 2 | Deep River\n",
      "Processing Record 11 of Set 2 | Filadelfia\n",
      "Processing Record 12 of Set 2 | Meulaboh\n",
      "Processing Record 13 of Set 2 | Peniche\n",
      "Processing Record 14 of Set 2 | Minab\n",
      "Processing Record 15 of Set 2 | Santa Rosa\n",
      "Processing Record 16 of Set 2 | Bereda\n",
      "Processing Record 17 of Set 2 | Punta Arenas\n",
      "Processing Record 18 of Set 2 | Weiden\n",
      "Processing Record 19 of Set 2 | Iberia\n",
      "Processing Record 20 of Set 2 | Hithadhoo\n",
      "Processing Record 21 of Set 2 | Saint George\n",
      "Processing Record 22 of Set 2 | Ribeira Grande\n",
      "Processing Record 23 of Set 2 | Vestmanna\n",
      "Processing Record 24 of Set 2 | Carballo\n",
      "Processing Record 25 of Set 2 | Tessalit\n",
      "Processing Record 26 of Set 2 | Texistepeque\n",
      "Processing Record 27 of Set 2 | Clyde River\n",
      "Processing Record 28 of Set 2 | Nanortalik\n",
      "Processing Record 29 of Set 2 | Chuy\n",
      "Processing Record 30 of Set 2 | Yar-Sale\n",
      "Processing Record 31 of Set 2 | Talnakh\n",
      "Processing Record 32 of Set 2 | Patti\n",
      "Processing Record 33 of Set 2 | Toliary\n",
      "City \"Toliary\" not found. Skipping...\n",
      "Processing Record 33 of Set 2 | Salalah\n",
      "Processing Record 34 of Set 2 | Surt\n",
      "Processing Record 35 of Set 2 | Muhos\n",
      "Processing Record 36 of Set 2 | Bubaque\n",
      "Processing Record 37 of Set 2 | Maroantsetra\n",
      "Processing Record 38 of Set 2 | Mar Del Plata\n",
      "Processing Record 39 of Set 2 | Camacari\n",
      "Processing Record 40 of Set 2 | Burmakino\n",
      "Processing Record 41 of Set 2 | Skibbereen\n",
      "Processing Record 42 of Set 2 | Narsaq\n",
      "Processing Record 43 of Set 2 | Ponta Do Sol\n",
      "Processing Record 44 of Set 2 | Ilulissat\n",
      "Processing Record 45 of Set 2 | Aljezur\n",
      "Processing Record 46 of Set 2 | Duz\n",
      "City \"Duz\" not found. Skipping...\n",
      "Processing Record 46 of Set 2 | Lovozero\n",
      "Processing Record 47 of Set 2 | Codajas\n",
      "Processing Record 48 of Set 2 | Gwadar\n",
      "Processing Record 49 of Set 2 | Padang\n",
      "Processing Record 50 of Set 2 | Vyazma\n",
      "Processing Record 1 of Set 3 | San Rafael Del Sur\n",
      "Processing Record 2 of Set 3 | Grand River South East\n",
      "City \"Grand River South East\" not found. Skipping...\n",
      "Processing Record 2 of Set 3 | Karaul\n",
      "City \"Karaul\" not found. Skipping...\n",
      "Processing Record 2 of Set 3 | Mahebourg\n",
      "Processing Record 3 of Set 3 | Biltine\n",
      "Processing Record 4 of Set 3 | Bandarbeyla\n",
      "Processing Record 5 of Set 3 | Sao Joao Da Barra\n",
      "Processing Record 6 of Set 3 | Torbay\n",
      "Processing Record 7 of Set 3 | Tsihombe\n",
      "City \"Tsihombe\" not found. Skipping...\n",
      "Processing Record 7 of Set 3 | Codrington\n",
      "Processing Record 8 of Set 3 | Carnarvon\n",
      "Processing Record 9 of Set 3 | Tarko-Sale\n",
      "Processing Record 10 of Set 3 | Remanso\n",
      "Processing Record 11 of Set 3 | Saint-Pierre\n",
      "Processing Record 12 of Set 3 | Bindura\n",
      "Processing Record 13 of Set 3 | Damara\n",
      "Processing Record 14 of Set 3 | East London\n",
      "Processing Record 15 of Set 3 | Lagoa\n",
      "Processing Record 16 of Set 3 | Luderitz\n",
      "Processing Record 17 of Set 3 | Urumqi\n",
      "Processing Record 18 of Set 3 | Qrendi\n",
      "Processing Record 19 of Set 3 | Grindavik\n",
      "Processing Record 20 of Set 3 | Oak Ridge\n",
      "Processing Record 21 of Set 3 | Nalut\n",
      "Processing Record 22 of Set 3 | Sorvag\n",
      "City \"Sorvag\" not found. Skipping...\n",
      "Processing Record 22 of Set 3 | Taltal\n",
      "Processing Record 23 of Set 3 | Piacabucu\n",
      "Processing Record 24 of Set 3 | Rawson\n",
      "Processing Record 25 of Set 3 | Castro\n",
      "Processing Record 26 of Set 3 | Achisay\n",
      "City \"Achisay\" not found. Skipping...\n",
      "Processing Record 26 of Set 3 | San Andres\n",
      "Processing Record 27 of Set 3 | Varaklani\n",
      "City \"Varaklani\" not found. Skipping...\n",
      "Processing Record 27 of Set 3 | Uvira\n",
      "Processing Record 28 of Set 3 | Korce\n",
      "Processing Record 29 of Set 3 | Plouzane\n",
      "Processing Record 30 of Set 3 | Attawapiskat\n",
      "City \"Attawapiskat\" not found. Skipping...\n",
      "Processing Record 30 of Set 3 | Abha\n",
      "Processing Record 31 of Set 3 | Kologriv\n",
      "Processing Record 32 of Set 3 | Espanola\n",
      "Processing Record 33 of Set 3 | Arlit\n",
      "Processing Record 34 of Set 3 | Uwayl\n",
      "City \"Uwayl\" not found. Skipping...\n",
      "Processing Record 34 of Set 3 | Pedro Betancourt\n",
      "Processing Record 35 of Set 3 | Polunochnoye\n",
      "Processing Record 36 of Set 3 | Arroyo\n",
      "Processing Record 37 of Set 3 | Rio Grande\n",
      "Processing Record 38 of Set 3 | Nuuk\n",
      "Processing Record 39 of Set 3 | Porto Santo\n",
      "Processing Record 40 of Set 3 | Dwarka\n",
      "Processing Record 41 of Set 3 | Kholm-Zhirkovskiy\n",
      "Processing Record 42 of Set 3 | Safaga\n",
      "Processing Record 43 of Set 3 | Namibe\n",
      "Processing Record 44 of Set 3 | Kaduqli\n",
      "Processing Record 45 of Set 3 | Aleksandrov Gay\n",
      "Processing Record 46 of Set 3 | Zabol\n",
      "Processing Record 47 of Set 3 | Banikoara\n",
      "Processing Record 48 of Set 3 | Emba\n",
      "Processing Record 49 of Set 3 | Sechura\n",
      "Processing Record 50 of Set 3 | Vardo\n",
      "Processing Record 1 of Set 4 | Tortoli\n",
      "Processing Record 2 of Set 4 | Kovdor\n",
      "Processing Record 3 of Set 4 | Portsmouth\n",
      "Processing Record 4 of Set 4 | Luanda\n",
      "Processing Record 5 of Set 4 | Coihaique\n",
      "Processing Record 6 of Set 4 | Trincomalee\n",
      "Processing Record 7 of Set 4 | Villazon\n",
      "Processing Record 8 of Set 4 | Paysandu\n",
      "Processing Record 9 of Set 4 | Ikovka\n",
      "Processing Record 10 of Set 4 | Atraulia\n",
      "Processing Record 11 of Set 4 | Bouillante\n",
      "Processing Record 12 of Set 4 | Djibo\n",
      "Processing Record 13 of Set 4 | Puerto Del Rosario\n",
      "Processing Record 14 of Set 4 | Dudinka\n",
      "Processing Record 15 of Set 4 | Gobabis\n"
     ]
    },
    {
     "name": "stdout",
     "output_type": "stream",
     "text": [
      "Processing Record 16 of Set 4 | Armacao Dos Buzios\n",
      "City \"Armacao Dos Buzios\" not found. Skipping...\n",
      "Processing Record 16 of Set 4 | Umm Kaddadah\n",
      "Processing Record 17 of Set 4 | Chanasma\n",
      "Processing Record 18 of Set 4 | Vila Velha\n",
      "Processing Record 19 of Set 4 | Riyadh\n",
      "Processing Record 20 of Set 4 | Kletnya\n",
      "Processing Record 21 of Set 4 | Grand-Lahou\n",
      "Processing Record 22 of Set 4 | Baie-Comeau\n",
      "Processing Record 23 of Set 4 | Maceio\n",
      "Processing Record 24 of Set 4 | Hof\n",
      "Processing Record 25 of Set 4 | Mongu\n",
      "Processing Record 26 of Set 4 | Inta\n",
      "Processing Record 27 of Set 4 | Valdepenas\n",
      "Processing Record 28 of Set 4 | Apt\n",
      "Processing Record 29 of Set 4 | Pitimbu\n",
      "Processing Record 30 of Set 4 | Nioro\n",
      "Processing Record 31 of Set 4 | Sorland\n",
      "Processing Record 32 of Set 4 | Batavia\n",
      "Processing Record 33 of Set 4 | Sakakah\n",
      "Processing Record 34 of Set 4 | Ituni\n",
      "City \"Ituni\" not found. Skipping...\n",
      "Processing Record 34 of Set 4 | Gopalpur\n",
      "Processing Record 35 of Set 4 | Mahibadhoo\n",
      "Processing Record 36 of Set 4 | Oistins\n",
      "Processing Record 37 of Set 4 | Tucuman\n",
      "Processing Record 38 of Set 4 | Havelock\n",
      "Processing Record 39 of Set 4 | Neuquen\n",
      "Processing Record 40 of Set 4 | Chimbote\n",
      "Processing Record 41 of Set 4 | Sora\n",
      "Processing Record 42 of Set 4 | Rocha\n",
      "Processing Record 43 of Set 4 | Francisco Beltrao\n",
      "Processing Record 44 of Set 4 | Comodoro Rivadavia\n",
      "Processing Record 45 of Set 4 | Kuche\n",
      "City \"Kuche\" not found. Skipping...\n",
      "Processing Record 45 of Set 4 | Victoria\n",
      "Processing Record 46 of Set 4 | Lamu\n",
      "Processing Record 47 of Set 4 | Bolungarvik\n",
      "City \"Bolungarvik\" not found. Skipping...\n",
      "Processing Record 47 of Set 4 | Kalmunai\n",
      "Processing Record 48 of Set 4 | Marcona\n",
      "City \"Marcona\" not found. Skipping...\n",
      "Processing Record 48 of Set 4 | Kushmurun\n",
      "Processing Record 49 of Set 4 | Olafsvik\n",
      "Processing Record 50 of Set 4 | La Palma\n",
      "Processing Record 1 of Set 5 | Beloha\n",
      "Processing Record 2 of Set 5 | Gandhinagar\n",
      "Processing Record 3 of Set 5 | Aquiraz\n",
      "Processing Record 4 of Set 5 | Bolotnoye\n",
      "Processing Record 5 of Set 5 | Bonfim\n",
      "Processing Record 6 of Set 5 | Diapaga\n",
      "Processing Record 7 of Set 5 | Los Negros\n",
      "Processing Record 8 of Set 5 | Monte Patria\n",
      "Processing Record 9 of Set 5 | Senador Jose Porfirio\n",
      "Processing Record 10 of Set 5 | Bethanien\n",
      "Processing Record 11 of Set 5 | Kedrovyy\n",
      "Processing Record 12 of Set 5 | Morros\n",
      "Processing Record 13 of Set 5 | Bonavista\n",
      "Processing Record 14 of Set 5 | Tonantins\n",
      "Processing Record 15 of Set 5 | Touros\n",
      "Processing Record 16 of Set 5 | Sheopur\n",
      "Processing Record 17 of Set 5 | Macau\n",
      "Processing Record 18 of Set 5 | Olinda\n",
      "Processing Record 19 of Set 5 | Belyy Yar\n",
      "Processing Record 20 of Set 5 | Manaus\n",
      "Processing Record 21 of Set 5 | Longlac\n",
      "City \"Longlac\" not found. Skipping...\n",
      "Processing Record 21 of Set 5 | Nortelandia\n",
      "Processing Record 22 of Set 5 | Autazes\n",
      "Processing Record 23 of Set 5 | Macon\n",
      "Processing Record 24 of Set 5 | Caravelas\n",
      "Processing Record 25 of Set 5 | Saldanha\n",
      "Processing Record 26 of Set 5 | Ormara\n",
      "Processing Record 27 of Set 5 | Brazzaville\n",
      "Processing Record 28 of Set 5 | Urdzhar\n",
      "City \"Urdzhar\" not found. Skipping...\n",
      "Processing Record 28 of Set 5 | Klaksvik\n",
      "Processing Record 29 of Set 5 | Shahr-E Kord\n",
      "Processing Record 30 of Set 5 | Hambantota\n",
      "Processing Record 31 of Set 5 | Nouadhibou\n",
      "Processing Record 32 of Set 5 | Monteagudo\n",
      "Processing Record 33 of Set 5 | Arauca\n",
      "Processing Record 34 of Set 5 | Tutoia\n",
      "Processing Record 35 of Set 5 | Ambositra\n",
      "Processing Record 36 of Set 5 | Jalu\n",
      "Processing Record 37 of Set 5 | Srebrenica\n",
      "Processing Record 38 of Set 5 | Chapais\n",
      "Processing Record 39 of Set 5 | Rorvik\n",
      "Processing Record 40 of Set 5 | Mashhad\n",
      "Processing Record 41 of Set 5 | Thiers\n",
      "Processing Record 42 of Set 5 | Niteroi\n",
      "Processing Record 43 of Set 5 | Mitu\n",
      "Processing Record 44 of Set 5 | Maputo\n",
      "Processing Record 45 of Set 5 | Quelimane\n",
      "Processing Record 46 of Set 5 | Tiznit\n",
      "Processing Record 47 of Set 5 | Cayenne\n",
      "Processing Record 48 of Set 5 | Santa Cruz Del Sur\n",
      "Processing Record 49 of Set 5 | Menzelinsk\n",
      "Processing Record 50 of Set 5 | Ostrovnoy\n",
      "Processing Record 1 of Set 6 | Viytivka\n",
      "Processing Record 2 of Set 6 | Maragogi\n",
      "Processing Record 3 of Set 6 | Manadhoo\n",
      "Processing Record 4 of Set 6 | Iqaluit\n",
      "Processing Record 5 of Set 6 | Sistranda\n",
      "Processing Record 6 of Set 6 | Lipin Bor\n",
      "Processing Record 7 of Set 6 | Uravakonda\n",
      "Processing Record 8 of Set 6 | Sao Filipe\n",
      "Processing Record 9 of Set 6 | Mocuba\n",
      "Processing Record 10 of Set 6 | Severodvinsk\n",
      "Processing Record 11 of Set 6 | Sibanicu\n",
      "Processing Record 12 of Set 6 | Camana\n",
      "Processing Record 13 of Set 6 | Mitsamiouli\n",
      "Processing Record 14 of Set 6 | Shubarkuduk\n",
      "Processing Record 15 of Set 6 | Tsotilion\n",
      "Processing Record 16 of Set 6 | Techiman\n",
      "Processing Record 17 of Set 6 | Kavaratti\n",
      "Processing Record 18 of Set 6 | Angoche\n",
      "Processing Record 19 of Set 6 | Saint Anthony\n",
      "Processing Record 20 of Set 6 | Sao Raimundo Das Mangabeiras\n",
      "Processing Record 21 of Set 6 | Plettenberg Bay\n",
      "Processing Record 22 of Set 6 | Abu Samrah\n",
      "Processing Record 23 of Set 6 | Saveh\n",
      "Processing Record 24 of Set 6 | Praia Da Vitoria\n",
      "Processing Record 25 of Set 6 | Ziarat\n",
      "Processing Record 26 of Set 6 | Constitucion\n",
      "Processing Record 27 of Set 6 | Kyzyl-Suu\n",
      "Processing Record 28 of Set 6 | Kohat\n",
      "Processing Record 29 of Set 6 | Araouane\n",
      "Processing Record 30 of Set 6 | Hammerfest\n",
      "Processing Record 31 of Set 6 | Agapovka\n",
      "Processing Record 32 of Set 6 | San Carlos\n",
      "Processing Record 33 of Set 6 | Nsanje\n",
      "Processing Record 34 of Set 6 | Bull Savanna\n",
      "Processing Record 35 of Set 6 | Inhambane\n",
      "Processing Record 36 of Set 6 | Azanka\n",
      "Processing Record 37 of Set 6 | Abonnema\n",
      "Processing Record 38 of Set 6 | Malakal\n",
      "Processing Record 39 of Set 6 | Oppdal\n",
      "Processing Record 40 of Set 6 | Vygonichi\n",
      "Processing Record 41 of Set 6 | Henties Bay\n",
      "Processing Record 42 of Set 6 | Fiche\n",
      "Processing Record 43 of Set 6 | Krasnyy Luch\n",
      "Processing Record 44 of Set 6 | Golden Rock\n",
      "City \"Golden Rock\" not found. Skipping...\n",
      "Processing Record 44 of Set 6 | Carikar\n",
      "City \"Carikar\" not found. Skipping...\n",
      "Processing Record 44 of Set 6 | Nizwa\n",
      "Processing Record 45 of Set 6 | Gat\n",
      "Processing Record 46 of Set 6 | Bajil\n",
      "Processing Record 47 of Set 6 | Shelburne\n",
      "Processing Record 48 of Set 6 | Altagracia De Orituco\n",
      "Processing Record 49 of Set 6 | Gubbio\n",
      "Processing Record 50 of Set 6 | Sao Felix Do Xingu\n",
      "Processing Record 1 of Set 7 | Coari\n",
      "Processing Record 2 of Set 7 | Catamarca\n",
      "Processing Record 3 of Set 7 | Warqla\n",
      "City \"Warqla\" not found. Skipping...\n",
      "Processing Record 3 of Set 7 | Lithakia\n",
      "Processing Record 4 of Set 7 | Pandamatenga\n",
      "Processing Record 5 of Set 7 | Arona\n",
      "Processing Record 6 of Set 7 | Itacoatiara\n",
      "Processing Record 7 of Set 7 | Sergeyevka\n",
      "Processing Record 8 of Set 7 | Richards Bay\n",
      "Processing Record 9 of Set 7 | Santa Maria\n",
      "Processing Record 10 of Set 7 | Suna\n",
      "Processing Record 11 of Set 7 | Sheregesh\n",
      "Processing Record 12 of Set 7 | Svetlyy\n",
      "Processing Record 13 of Set 7 | Geraldton\n",
      "Processing Record 14 of Set 7 | Kattivakkam\n",
      "Processing Record 15 of Set 7 | Hofn\n",
      "Processing Record 16 of Set 7 | Pisco\n",
      "Processing Record 17 of Set 7 | Westport\n",
      "Processing Record 18 of Set 7 | Karaton\n",
      "Processing Record 19 of Set 7 | Balkanabat\n",
      "Processing Record 20 of Set 7 | Marsa Matruh\n",
      "Processing Record 21 of Set 7 | Jardim\n",
      "Processing Record 22 of Set 7 | Tazovskiy\n",
      "Processing Record 23 of Set 7 | Carnot\n",
      "Processing Record 24 of Set 7 | Kathmandu\n",
      "Processing Record 25 of Set 7 | Tonj\n",
      "Processing Record 26 of Set 7 | Mao\n",
      "Processing Record 27 of Set 7 | Harper\n",
      "Processing Record 28 of Set 7 | Chany\n",
      "Processing Record 29 of Set 7 | Roald\n",
      "Processing Record 30 of Set 7 | Shibarghan\n",
      "City \"Shibarghan\" not found. Skipping...\n",
      "Processing Record 30 of Set 7 | Kobojango\n",
      "City \"Kobojango\" not found. Skipping...\n",
      "Processing Record 30 of Set 7 | Pirgos\n",
      "Processing Record 31 of Set 7 | Visim\n",
      "Processing Record 32 of Set 7 | Copiapo\n",
      "Processing Record 33 of Set 7 | Mangai\n",
      "Processing Record 34 of Set 7 | Pauini\n",
      "Processing Record 35 of Set 7 | Rodrigues Alves\n",
      "Processing Record 36 of Set 7 | Channel-Port Aux Basques\n",
      "Processing Record 37 of Set 7 | Schio\n",
      "Processing Record 38 of Set 7 | Bud\n",
      "Processing Record 39 of Set 7 | Chipinge\n",
      "Processing Record 40 of Set 7 | Hobyo\n",
      "Processing Record 41 of Set 7 | Tierralta\n"
     ]
    },
    {
     "name": "stdout",
     "output_type": "stream",
     "text": [
      "Processing Record 42 of Set 7 | Florence\n",
      "Processing Record 43 of Set 7 | Awjilah\n",
      "Processing Record 44 of Set 7 | Wajir\n",
      "Processing Record 45 of Set 7 | Progreso\n",
      "Processing Record 46 of Set 7 | Abrau-Dyurso\n",
      "Processing Record 47 of Set 7 | Viedma\n",
      "Processing Record 48 of Set 7 | Kazalinsk\n",
      "City \"Kazalinsk\" not found. Skipping...\n",
      "Processing Record 48 of Set 7 | Ruangwa\n",
      "Processing Record 49 of Set 7 | Erdemli\n",
      "Processing Record 50 of Set 7 | Muborak\n",
      "Processing Record 1 of Set 8 | Grand Gaube\n",
      "Processing Record 2 of Set 8 | Den Helder\n",
      "Processing Record 3 of Set 8 | San Cristobal\n",
      "Processing Record 4 of Set 8 | Iquitos\n",
      "Processing Record 5 of Set 8 | Saint-Joseph\n",
      "Processing Record 6 of Set 8 | Soderhamn\n",
      "Processing Record 7 of Set 8 | Hemnesberget\n",
      "Processing Record 8 of Set 8 | Luau\n",
      "Processing Record 9 of Set 8 | Moose Factory\n",
      "Processing Record 10 of Set 8 | Malgrat De Mar\n",
      "Processing Record 11 of Set 8 | Havoysund\n",
      "Processing Record 12 of Set 8 | Gornoye Loo\n",
      "Processing Record 13 of Set 8 | Inirida\n",
      "Processing Record 14 of Set 8 | Umm Lajj\n",
      "Processing Record 15 of Set 8 | Kiruna\n",
      "Processing Record 16 of Set 8 | Tumannyy\n",
      "City \"Tumannyy\" not found. Skipping...\n",
      "Processing Record 16 of Set 8 | Gloversville\n",
      "Processing Record 17 of Set 8 | Takoradi\n",
      "Processing Record 18 of Set 8 | Sambava\n",
      "Processing Record 19 of Set 8 | Litoral Del San Juan\n",
      "City \"Litoral Del San Juan\" not found. Skipping...\n",
      "Processing Record 19 of Set 8 | Dire\n",
      "Processing Record 20 of Set 8 | Itarema\n",
      "Processing Record 21 of Set 8 | Axim\n",
      "Processing Record 22 of Set 8 | Cherdakly\n",
      "Processing Record 23 of Set 8 | San Ignacio\n",
      "Processing Record 24 of Set 8 | Saint-Francois\n",
      "Processing Record 25 of Set 8 | Dingle\n",
      "Processing Record 26 of Set 8 | Narasannapeta\n",
      "Processing Record 27 of Set 8 | Santa Isabel\n",
      "Processing Record 28 of Set 8 | Pavlohrad\n",
      "Processing Record 29 of Set 8 | Gunupur\n",
      "Processing Record 30 of Set 8 | Alekseyevka\n",
      "Processing Record 31 of Set 8 | Cozumel\n",
      "Processing Record 32 of Set 8 | Guayata\n",
      "Processing Record 33 of Set 8 | The Valley\n",
      "Processing Record 34 of Set 8 | Rudbar\n",
      "Processing Record 35 of Set 8 | Bahia Honda\n",
      "Processing Record 36 of Set 8 | Sembe\n",
      "Processing Record 37 of Set 8 | Utamysh\n",
      "Processing Record 38 of Set 8 | Darfo\n",
      "Processing Record 39 of Set 8 | Raudeberg\n",
      "Processing Record 40 of Set 8 | Atar\n",
      "Processing Record 41 of Set 8 | Gazli\n",
      "Processing Record 42 of Set 8 | Youghal\n",
      "Processing Record 43 of Set 8 | Altay\n",
      "Processing Record 44 of Set 8 | Aberlour\n",
      "City \"Aberlour\" not found. Skipping...\n",
      "Processing Record 44 of Set 8 | Dhidhdhoo\n",
      "Processing Record 45 of Set 8 | Jinka\n",
      "Processing Record 46 of Set 8 | Kapoeta\n",
      "Processing Record 47 of Set 8 | Berlevag\n",
      "Processing Record 48 of Set 8 | Porto Novo\n",
      "Processing Record 49 of Set 8 | Faya\n",
      "Processing Record 50 of Set 8 | Vengurla\n",
      "Processing Record 1 of Set 9 | Vilhena\n",
      "Processing Record 2 of Set 9 | Rock Sound\n",
      "Processing Record 3 of Set 9 | Goderich\n",
      "Processing Record 4 of Set 9 | Moyobamba\n",
      "Processing Record 5 of Set 9 | Carupano\n",
      "Processing Record 6 of Set 9 | Milanowek\n",
      "Processing Record 7 of Set 9 | Sturgeon Falls\n",
      "Processing Record 8 of Set 9 | Akureyri\n",
      "Processing Record 9 of Set 9 | Kulynychi\n",
      "Processing Record 10 of Set 9 | Langres\n",
      "Processing Record 11 of Set 9 | Aksu\n",
      "Processing Record 12 of Set 9 | Letnyaya Stavka\n",
      "Processing Record 13 of Set 9 | Zavetnoye\n",
      "Processing Record 14 of Set 9 | Hudiksvall\n",
      "Processing Record 15 of Set 9 | Marzuq\n",
      "Processing Record 16 of Set 9 | Mogadishu\n",
      "Processing Record 17 of Set 9 | Fioletovo\n",
      "Processing Record 18 of Set 9 | Kulhudhuffushi\n",
      "Processing Record 19 of Set 9 | Mahaicony\n",
      "City \"Mahaicony\" not found. Skipping...\n",
      "Processing Record 19 of Set 9 | Waw\n",
      "Processing Record 20 of Set 9 | Yefremov\n",
      "Processing Record 21 of Set 9 | Lyndon\n",
      "Processing Record 22 of Set 9 | Nyagan\n",
      "Processing Record 23 of Set 9 | Boa Vista\n",
      "Processing Record 24 of Set 9 | Mbaiki\n",
      "Processing Record 25 of Set 9 | Leh\n",
      "Processing Record 26 of Set 9 | Muravlenko\n",
      "Processing Record 27 of Set 9 | Santa Cruz De Tenerife\n",
      "Processing Record 28 of Set 9 | Wamba\n",
      "Processing Record 29 of Set 9 | Chelyabinsk-40\n",
      "City \"Chelyabinsk-40\" not found. Skipping...\n",
      "Processing Record 29 of Set 9 | Husavik\n",
      "Processing Record 30 of Set 9 | Capreol\n",
      "Processing Record 31 of Set 9 | Tsienyane\n",
      "City \"Tsienyane\" not found. Skipping...\n",
      "Processing Record 31 of Set 9 | Leua\n",
      "Processing Record 32 of Set 9 | Urdoma\n",
      "Processing Record 33 of Set 9 | Cap-Aux-Meules\n",
      "Processing Record 34 of Set 9 | General Roca\n",
      "Processing Record 35 of Set 9 | Barcelos\n",
      "Processing Record 36 of Set 9 | Waddan\n",
      "Processing Record 37 of Set 9 | Gilgit\n",
      "Processing Record 38 of Set 9 | Misratah\n",
      "Processing Record 39 of Set 9 | Lodja\n",
      "Processing Record 40 of Set 9 | Balykshi\n"
     ]
    }
   ],
   "source": [
    "# set starting count and set for display\n",
    "count = 0\n",
    "Set = 1\n",
    "\n",
    "# Create cities dataframe\n",
    "cities_df=pd.DataFrame(cities)\n",
    "cities_df=cities_df.rename(columns={0:\"City\"})\n",
    "cities_df[\"Lat\"]= np.nan\n",
    "cities_df[\"Lng\"]= np.nan\n",
    "cities_df[\"Max Temp\"]= np.nan\n",
    "cities_df[\"Humidity\"]= np.nan\n",
    "cities_df[\"Cloudiness\"]= np.nan\n",
    "cities_df[\"Wind Speed\"]= np.nan\n",
    "cities_df[\"Country\"]= np.nan\n",
    "cities_df[\"Date\"]= np.nan\n",
    "\n",
    "# Create URL and determine units\n",
    "url = 'http://api.openweathermap.org/data/2.5/weather?q='\n",
    "\n",
    "# print initial message\n",
    "print('Beginning Data Retrieval')\n",
    "print('------------------------------')\n",
    "\n",
    "\n",
    "# use iterrows to iterate through pandas dataframe\n",
    "for index, row in cities_df.iterrows():\n",
    "#     time.sleep(0.005)\n",
    "    merge_url = url + row[\"City\"] + \"&appid=\" + weather_api_key + \"&units=metric\"\n",
    "    city_data = requests.get(merge_url).json()\n",
    "    try:\n",
    "        print(f'Processing Record {count+1} of Set {Set} | {row[\"City\"]}')\n",
    "        # inserting data into corresponding columns\n",
    "        cities_df.loc[index,\"Lat\"]=city_data[\"coord\"][\"lat\"]\n",
    "        cities_df.loc[index,\"Lng\"]=city_data[\"coord\"][\"lon\"]\n",
    "        cities_df.loc[index,\"Max Temp\"]=city_data[\"main\"][\"temp\"]\n",
    "        cities_df.loc[index,\"Humidity\"]=city_data[\"main\"][\"humidity\"]\n",
    "        cities_df.loc[index,\"Cloudiness\"]=city_data[\"clouds\"][\"all\"]\n",
    "        cities_df.loc[index,\"Wind Speed\"]=city_data[\"wind\"][\"speed\"]\n",
    "        cities_df.loc[index,\"Country\"]=city_data[\"sys\"][\"country\"]\n",
    "        cities_df.loc[index,\"Date\"]=city_data[\"dt\"]\n",
    "        count += 1\n",
    "        if count % 50 == 0:\n",
    "            Set = Set + 1\n",
    "            count = 0\n",
    "    except:\n",
    "        print(f'City \"{row[\"City\"]}\" not found. Skipping...')\n",
    "        cities_df=cities_df.drop(index)\n",
    "\n",
    "# Print last ending message\n",
    "print(\"-----------------------------\\nData Retrieval Complete\\n-----------------------------\")\n"
   ]
  },
  {
   "cell_type": "markdown",
   "metadata": {},
   "source": [
    "### Convert Raw Data to DataFrame\n",
    "* Export the city data into a .csv.\n",
    "* Display the DataFrame"
   ]
  },
  {
   "cell_type": "code",
   "execution_count": null,
   "metadata": {
    "ExecuteTime": {
     "start_time": "2020-10-15T17:11:54.400Z"
    }
   },
   "outputs": [],
   "source": [
    "# Write dataframe to csv\n",
    "cities_df.to_csv(r'output_data/Cities_Data.csv',index=False)\n",
    "\n",
    "# Copy CSV to dataframe\n",
    "csv_df = pd.read_csv(\"output_data/Cities_Data.csv\")\n",
    "csv_df.head()"
   ]
  },
  {
   "cell_type": "code",
   "execution_count": null,
   "metadata": {
    "ExecuteTime": {
     "start_time": "2020-10-15T17:11:54.402Z"
    }
   },
   "outputs": [],
   "source": [
    "# display summary table\n",
    "csv_df.describe()"
   ]
  },
  {
   "cell_type": "markdown",
   "metadata": {},
   "source": [
    "## Inspect the data and remove the cities where the humidity > 100%.\n",
    "----\n",
    "Skip this step if there are no cities that have humidity > 100%. "
   ]
  },
  {
   "cell_type": "code",
   "execution_count": null,
   "metadata": {
    "ExecuteTime": {
     "start_time": "2020-10-15T17:11:54.403Z"
    }
   },
   "outputs": [],
   "source": [
    "#  Get the indices of cities that have humidity over 100%.\n",
    "humid100 = csv_df[csv_df.Humidity > 100].index\n",
    "humid100\n",
    "# no city with humidity > 100%"
   ]
  },
  {
   "cell_type": "code",
   "execution_count": null,
   "metadata": {
    "ExecuteTime": {
     "start_time": "2020-10-15T17:11:54.405Z"
    }
   },
   "outputs": [],
   "source": [
    "# Make a new DataFrame equal to the city data to drop all humidity outliers by index.\n",
    "# Passing \"inplace=False\" will make a copy of the city_data DataFrame, which we call \"clean_city_data\".\n",
    "clean_city_data = csv_df.drop(csv_df.index[humid100], inplace=False)\n",
    "clean_city_data"
   ]
  },
  {
   "cell_type": "code",
   "execution_count": null,
   "metadata": {
    "ExecuteTime": {
     "start_time": "2020-10-15T17:11:54.406Z"
    }
   },
   "outputs": [],
   "source": [
    "# confirm the maximum humidity in the clean_city_data\n",
    "clean_city_data.describe()"
   ]
  },
  {
   "cell_type": "markdown",
   "metadata": {},
   "source": [
    "## Plotting the Data\n",
    "* Use proper labeling of the plots using plot titles (including date of analysis) and axes labels.\n",
    "* Save the plotted figures as .pngs."
   ]
  },
  {
   "cell_type": "markdown",
   "metadata": {},
   "source": [
    "## Latitude vs. Temperature Plot"
   ]
  },
  {
   "cell_type": "code",
   "execution_count": null,
   "metadata": {
    "ExecuteTime": {
     "start_time": "2020-10-15T17:11:54.409Z"
    }
   },
   "outputs": [],
   "source": [
    "# capture the date that the script would run\n",
    "date=time.strftime('%m/%d/%y')\n",
    "\n",
    "plt.scatter(clean_city_data[\"Lat\"], clean_city_data[\"Max Temp\"], color = \"cornflowerblue\", marker = \"o\", alpha = \".8\")\n",
    "plt.grid(b=True, alpha = 0.5)\n",
    "plt.xlabel(\"Latitude\")\n",
    "plt.ylabel('Max Temperature (ºC)')\n",
    "plt.title(f\"City Latitude vs. Max. Temperature ({date})\")\n",
    "\n",
    "plt.savefig('output_data/Fig 1 - Lat_vs_Temp.png')\n",
    "plt.show()"
   ]
  },
  {
   "cell_type": "markdown",
   "metadata": {},
   "source": [
    "## Latitude vs. Humidity Plot"
   ]
  },
  {
   "cell_type": "code",
   "execution_count": null,
   "metadata": {
    "ExecuteTime": {
     "start_time": "2020-10-15T17:11:54.410Z"
    }
   },
   "outputs": [],
   "source": [
    "plt.scatter(clean_city_data['Lat'], clean_city_data['Humidity'], color = \"cornflowerblue\", marker = \"o\", alpha = \".8\")\n",
    "plt.grid(b=True, alpha = 0.5)\n",
    "plt.xlabel(\"Latitude\")\n",
    "plt.ylabel(\"Humidity (%)\")\n",
    "plt.title(f\"City Latitude vs. Humidity ({date})\")\n",
    "\n",
    "plt.savefig('output_data/Fig 2 - Lat_vs_Hum.png')\n",
    "plt.show()"
   ]
  },
  {
   "cell_type": "markdown",
   "metadata": {},
   "source": [
    "## Latitude vs. Cloudiness Plot"
   ]
  },
  {
   "cell_type": "code",
   "execution_count": null,
   "metadata": {
    "ExecuteTime": {
     "start_time": "2020-10-15T17:11:54.411Z"
    }
   },
   "outputs": [],
   "source": [
    "plt.scatter(clean_city_data['Lat'], clean_city_data['Cloudiness'], color = \"cornflowerblue\", marker = \"o\", alpha = \".8\")\n",
    "plt.grid(b=True, alpha = 0.5)\n",
    "plt.xlabel(\"Latitude\")\n",
    "plt.ylabel(\"Cloudiness (%)\")\n",
    "plt.title(f\"City Latitude vs. Cloudiness ({date})\")\n",
    "\n",
    "plt.savefig('output_data/Fig 3 - Lat_vs_Cld.png')\n",
    "plt.show()"
   ]
  },
  {
   "cell_type": "markdown",
   "metadata": {},
   "source": [
    "## Latitude vs. Wind Speed Plot"
   ]
  },
  {
   "cell_type": "code",
   "execution_count": null,
   "metadata": {
    "ExecuteTime": {
     "start_time": "2020-10-15T17:11:54.413Z"
    }
   },
   "outputs": [],
   "source": [
    "plt.scatter(clean_city_data['Lat'], clean_city_data['Wind Speed'], color = \"cornflowerblue\", marker = \"o\", alpha = \".8\")\n",
    "plt.grid(b=True, alpha = 0.5)\n",
    "plt.xlabel(\"Latitude\")\n",
    "plt.ylabel(\"Wind Speed (m/s)\")\n",
    "plt.title(f\"City Latitude vs. Wind Speed ({date})\")\n",
    "\n",
    "plt.savefig('output_data/Fig 4 - Lat_vs_Wnd.png')\n",
    "plt.show()"
   ]
  },
  {
   "cell_type": "markdown",
   "metadata": {},
   "source": [
    "## Linear Regression"
   ]
  },
  {
   "cell_type": "code",
   "execution_count": null,
   "metadata": {
    "ExecuteTime": {
     "start_time": "2020-10-15T17:11:54.414Z"
    }
   },
   "outputs": [],
   "source": [
    "# split dataframe into northern and southern hemisphere\n",
    "n_csv = clean_city_data[clean_city_data[\"Lat\"]>=0]\n",
    "s_csv = clean_city_data[clean_city_data[\"Lat\"]<0]"
   ]
  },
  {
   "cell_type": "markdown",
   "metadata": {},
   "source": [
    "####  Northern Hemisphere - Max Temp vs. Latitude Linear Regression"
   ]
  },
  {
   "cell_type": "code",
   "execution_count": null,
   "metadata": {
    "ExecuteTime": {
     "start_time": "2020-10-15T17:11:54.416Z"
    }
   },
   "outputs": [],
   "source": [
    "x_values = n_csv[\"Lat\"]\n",
    "y_values = n_csv[\"Max Temp\"]\n",
    "(slope, intercept, rvalue, pvalue, stderr) = linregress(x_values, y_values)\n",
    "regress_values = x_values * slope + intercept\n",
    "line_eq = \"y = \" + str(round(slope,2)) + \"x + \" + str(round(intercept,2))\n",
    "\n",
    "plt.scatter(x_values,y_values)\n",
    "plt.plot(x_values,regress_values,\"r-\")\n",
    "plt.annotate(line_eq,(2,-1),fontsize=15,color=\"red\")\n",
    "plt.xlabel(\"Latitude\")\n",
    "plt.ylabel(\"Max Temp\")\n",
    "\n",
    "print(f\"The r-value is: {rvalue**2}\")\n",
    "plt.show()"
   ]
  },
  {
   "cell_type": "markdown",
   "metadata": {},
   "source": [
    "####  Southern Hemisphere - Max Temp vs. Latitude Linear Regression"
   ]
  },
  {
   "cell_type": "code",
   "execution_count": null,
   "metadata": {
    "ExecuteTime": {
     "start_time": "2020-10-15T17:11:54.417Z"
    }
   },
   "outputs": [],
   "source": [
    "x_values = s_csv[\"Lat\"]\n",
    "y_values = s_csv[\"Max Temp\"]\n",
    "(slope, intercept, rvalue, pvalue, stderr) = linregress(x_values, y_values)\n",
    "regress_values = x_values * slope + intercept\n",
    "line_eq = \"y = \" + str(round(slope,2)) + \"x + \" + str(round(intercept,2))\n",
    "\n",
    "plt.scatter(x_values,y_values)\n",
    "plt.plot(x_values,regress_values,\"r-\")\n",
    "plt.annotate(line_eq,(-55,36),fontsize=15,color=\"red\")\n",
    "plt.xlabel(\"Latitude\")\n",
    "plt.ylabel(\"Max Temp\")\n",
    "\n",
    "print(f\"The r-value is: {rvalue**2}\")\n",
    "plt.show()"
   ]
  },
  {
   "cell_type": "markdown",
   "metadata": {},
   "source": [
    "####  Northern Hemisphere - Humidity (%) vs. Latitude Linear Regression"
   ]
  },
  {
   "cell_type": "code",
   "execution_count": null,
   "metadata": {
    "ExecuteTime": {
     "start_time": "2020-10-15T17:11:54.418Z"
    }
   },
   "outputs": [],
   "source": [
    "x_values = n_csv[\"Lat\"]\n",
    "y_values = n_csv[\"Humidity\"]\n",
    "(slope, intercept, rvalue, pvalue, stderr) = linregress(x_values, y_values)\n",
    "regress_values = x_values * slope + intercept\n",
    "line_eq = \"y = \" + str(round(slope,2)) + \"x + \" + str(round(intercept,2))\n",
    "\n",
    "plt.scatter(x_values,y_values)\n",
    "plt.plot(x_values,regress_values,\"r-\")\n",
    "plt.annotate(line_eq,(45,10),fontsize=15,color=\"red\")\n",
    "plt.xlabel(\"Latitude\")\n",
    "plt.ylabel(\"Humidity\")\n",
    "\n",
    "print(f\"The r-value is: {rvalue**2}\")\n",
    "plt.show()"
   ]
  },
  {
   "cell_type": "markdown",
   "metadata": {},
   "source": [
    "####  Southern Hemisphere - Humidity (%) vs. Latitude Linear Regression"
   ]
  },
  {
   "cell_type": "code",
   "execution_count": null,
   "metadata": {
    "ExecuteTime": {
     "start_time": "2020-10-15T17:11:54.419Z"
    }
   },
   "outputs": [],
   "source": [
    "x_values = s_csv[\"Lat\"]\n",
    "y_values = s_csv[\"Humidity\"]\n",
    "(slope, intercept, rvalue, pvalue, stderr) = linregress(x_values, y_values)\n",
    "regress_values = x_values * slope + intercept\n",
    "line_eq = \"y = \" + str(round(slope,2)) + \"x + \" + str(round(intercept,2))\n",
    "\n",
    "plt.scatter(x_values,y_values)\n",
    "plt.plot(x_values,regress_values,\"r-\")\n",
    "plt.annotate(line_eq,(-55,90),fontsize=15,color=\"red\")\n",
    "plt.xlabel(\"Latitude\")\n",
    "plt.ylabel(\"Humidity\")\n",
    "\n",
    "print(f\"The r-value is: {rvalue**2}\")\n",
    "plt.show()"
   ]
  },
  {
   "cell_type": "markdown",
   "metadata": {},
   "source": [
    "####  Northern Hemisphere - Cloudiness (%) vs. Latitude Linear Regression"
   ]
  },
  {
   "cell_type": "code",
   "execution_count": null,
   "metadata": {
    "ExecuteTime": {
     "start_time": "2020-10-15T17:11:54.421Z"
    }
   },
   "outputs": [],
   "source": [
    "x_values = n_csv[\"Lat\"]\n",
    "y_values = n_csv[\"Cloudiness\"]\n",
    "(slope, intercept, rvalue, pvalue, stderr) = linregress(x_values, y_values)\n",
    "regress_values = x_values * slope + intercept\n",
    "line_eq = \"y = \" + str(round(slope,2)) + \"x + \" + str(round(intercept,2))\n",
    "\n",
    "plt.scatter(x_values,y_values)\n",
    "plt.plot(x_values,regress_values,\"r-\")\n",
    "plt.annotate(line_eq,(45,10),fontsize=15,color=\"red\")\n",
    "plt.xlabel(\"Latitude\")\n",
    "plt.ylabel(\"Cloudiness\")\n",
    "\n",
    "print(f\"The r-value is: {rvalue**2}\")\n",
    "plt.show()"
   ]
  },
  {
   "cell_type": "markdown",
   "metadata": {},
   "source": [
    "####  Southern Hemisphere - Cloudiness (%) vs. Latitude Linear Regression"
   ]
  },
  {
   "cell_type": "code",
   "execution_count": null,
   "metadata": {
    "ExecuteTime": {
     "start_time": "2020-10-15T17:11:54.422Z"
    }
   },
   "outputs": [],
   "source": [
    "x_values = s_csv[\"Lat\"]\n",
    "y_values = s_csv[\"Cloudiness\"]\n",
    "(slope, intercept, rvalue, pvalue, stderr) = linregress(x_values, y_values)\n",
    "regress_values = x_values * slope + intercept\n",
    "line_eq = \"y = \" + str(round(slope,2)) + \"x + \" + str(round(intercept,2))\n",
    "\n",
    "plt.scatter(x_values,y_values)\n",
    "plt.plot(x_values,regress_values,\"r-\")\n",
    "plt.annotate(line_eq,(-55,7),fontsize=15,color=\"red\")\n",
    "plt.xlabel(\"Latitude\")\n",
    "plt.ylabel(\"Cloudiness\")\n",
    "\n",
    "print(f\"The r-value is: {rvalue**2}\")\n",
    "plt.show()"
   ]
  },
  {
   "cell_type": "markdown",
   "metadata": {},
   "source": [
    "####  Northern Hemisphere - Wind Speed (mph) vs. Latitude Linear Regression"
   ]
  },
  {
   "cell_type": "code",
   "execution_count": null,
   "metadata": {
    "ExecuteTime": {
     "start_time": "2020-10-15T17:11:54.423Z"
    }
   },
   "outputs": [],
   "source": [
    "x_values = n_csv[\"Lat\"]\n",
    "y_values = n_csv[\"Wind Speed\"]\n",
    "(slope, intercept, rvalue, pvalue, stderr) = linregress(x_values, y_values)\n",
    "regress_values = x_values * slope + intercept\n",
    "line_eq = \"y = \" + str(round(slope,2)) + \"x + \" + str(round(intercept,2))\n",
    "\n",
    "plt.scatter(x_values,y_values)\n",
    "plt.plot(x_values,regress_values,\"r-\")\n",
    "plt.annotate(line_eq,(0,11.5),fontsize=15,color=\"red\")\n",
    "plt.xlabel(\"Latitude\")\n",
    "plt.ylabel(\"Wind Speed (m/s)\")\n",
    "\n",
    "print(f\"The r-value is: {rvalue**2}\")\n",
    "plt.show()"
   ]
  },
  {
   "cell_type": "markdown",
   "metadata": {},
   "source": [
    "####  Southern Hemisphere - Wind Speed (mph) vs. Latitude Linear Regression"
   ]
  },
  {
   "cell_type": "code",
   "execution_count": null,
   "metadata": {
    "ExecuteTime": {
     "start_time": "2020-10-15T17:11:54.424Z"
    }
   },
   "outputs": [],
   "source": [
    "x_values = s_csv[\"Lat\"]\n",
    "y_values = s_csv[\"Wind Speed\"]\n",
    "(slope, intercept, rvalue, pvalue, stderr) = linregress(x_values, y_values)\n",
    "regress_values = x_values * slope + intercept\n",
    "line_eq = \"y = \" + str(round(slope,2)) + \"x + \" + str(round(intercept,2))\n",
    "\n",
    "plt.scatter(x_values,y_values)\n",
    "plt.plot(x_values,regress_values,\"r-\")\n",
    "plt.annotate(line_eq,(-24,14),fontsize=15,color=\"red\")\n",
    "plt.xlabel(\"Latitude\")\n",
    "plt.ylabel(\"Wind Speed (m/s)\")\n",
    "\n",
    "print(f\"The r-value is: {rvalue**2}\")\n",
    "plt.show()"
   ]
  }
 ],
 "metadata": {
  "anaconda-cloud": {},
  "kernel_info": {
   "name": "python3"
  },
  "kernelspec": {
   "display_name": "Python 3",
   "language": "python",
   "name": "python3"
  },
  "language_info": {
   "codemirror_mode": {
    "name": "ipython",
    "version": 3
   },
   "file_extension": ".py",
   "mimetype": "text/x-python",
   "name": "python",
   "nbconvert_exporter": "python",
   "pygments_lexer": "ipython3",
   "version": "3.7.9"
  },
  "latex_envs": {
   "LaTeX_envs_menu_present": true,
   "autoclose": false,
   "autocomplete": true,
   "bibliofile": "biblio.bib",
   "cite_by": "apalike",
   "current_citInitial": 1,
   "eqLabelWithNumbers": true,
   "eqNumInitial": 1,
   "hotkeys": {
    "equation": "Ctrl-E",
    "itemize": "Ctrl-I"
   },
   "labels_anchors": false,
   "latex_user_defs": false,
   "report_style_numbering": false,
   "user_envs_cfg": false
  },
  "nteract": {
   "version": "0.12.3"
  }
 },
 "nbformat": 4,
 "nbformat_minor": 2
}
