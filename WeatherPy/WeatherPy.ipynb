{
 "cells": [
  {
   "cell_type": "markdown",
   "metadata": {},
   "source": [
    "# WeatherPy\n",
    "----\n",
    "\n",
    "#### Note\n",
    "* Instructions have been included for each segment. You do not have to follow them exactly, but they are included to help you think through the steps."
   ]
  },
  {
   "cell_type": "code",
   "execution_count": 1,
   "metadata": {
    "ExecuteTime": {
     "end_time": "2020-10-15T16:15:54.805476Z",
     "start_time": "2020-10-15T16:15:52.774551Z"
    },
    "scrolled": true
   },
   "outputs": [],
   "source": [
    "import os\n",
    "import time\n",
    "from random import uniform\n",
    "import matplotlib.pyplot as plt\n",
    "import pandas as pd\n",
    "import numpy as np\n",
    "import requests\n",
    "import json\n",
    "\n",
    "from scipy.stats import linregress\n",
    "from citipy import citipy\n",
    "from pprint import pprint\n",
    "\n",
    "from api_keys import weather_api_key\n",
    "from api_keys import g_key"
   ]
  },
  {
   "cell_type": "markdown",
   "metadata": {},
   "source": [
    "## Generate Cities List"
   ]
  },
  {
   "cell_type": "code",
   "execution_count": 2,
   "metadata": {
    "ExecuteTime": {
     "end_time": "2020-10-15T16:15:56.569770Z",
     "start_time": "2020-10-15T16:15:54.807052Z"
    }
   },
   "outputs": [
    {
     "data": {
      "text/plain": [
       "600"
      ]
     },
     "execution_count": 2,
     "metadata": {},
     "output_type": "execute_result"
    }
   ],
   "source": [
    "lat_lngs = []\n",
    "cities = []\n",
    "\n",
    "# generate random coordinates\n",
    "while len(cities) < 600:\n",
    "    x, y = uniform(-180,180), uniform(-90, 90)\n",
    "    city = citipy.nearest_city(x, y).city_name\n",
    "    city = city.title()\n",
    "# If the city is unique, then add it to a our cities list\n",
    "    if city not in cities:\n",
    "        cities.append(city)\n",
    "\n",
    "# Print the city count to confirm sufficient count\n",
    "len(cities)"
   ]
  },
  {
   "cell_type": "markdown",
   "metadata": {},
   "source": [
    "### Perform API Calls\n",
    "* Perform a weather check on each city using a series of successive API calls.\n",
    "* Include a print log of each city as it'sbeing processed (with the city number and city name).\n"
   ]
  },
  {
   "cell_type": "code",
   "execution_count": 22,
   "metadata": {
    "ExecuteTime": {
     "end_time": "2020-10-15T16:22:53.043326Z",
     "start_time": "2020-10-15T16:20:03.034422Z"
    },
    "scrolled": false
   },
   "outputs": [
    {
     "name": "stdout",
     "output_type": "stream",
     "text": [
      "Beginning Data Retrieval\n",
      "------------------------------\n",
      "Processing Record 1 of Set 1 | Port Alfred\n",
      "Processing Record 2 of Set 1 | Georgetown\n",
      "Processing Record 3 of Set 1 | Cape Town\n",
      "Processing Record 4 of Set 1 | Bredasdorp\n",
      "Processing Record 5 of Set 1 | Sao Filipe\n",
      "Processing Record 6 of Set 1 | Busselton\n",
      "Processing Record 7 of Set 1 | Ushuaia\n",
      "Processing Record 8 of Set 1 | Saint George\n",
      "Processing Record 9 of Set 1 | Qaanaaq\n",
      "Processing Record 10 of Set 1 | Mahebourg\n",
      "Processing Record 11 of Set 1 | Chapais\n",
      "Processing Record 12 of Set 1 | Hermanus\n",
      "Processing Record 13 of Set 1 | Upernavik\n",
      "Processing Record 14 of Set 1 | Narsaq\n",
      "Processing Record 15 of Set 1 | Belushya Guba\n",
      "City \"Belushya Guba\" not found. Skipping...\n",
      "Processing Record 15 of Set 1 | Saryshagan\n",
      "City \"Saryshagan\" not found. Skipping...\n",
      "Processing Record 15 of Set 1 | East London\n",
      "Processing Record 16 of Set 1 | Banda Aceh\n",
      "Processing Record 17 of Set 1 | Barentsburg\n",
      "City \"Barentsburg\" not found. Skipping...\n",
      "Processing Record 17 of Set 1 | Longyearbyen\n",
      "Processing Record 18 of Set 1 | Dikson\n",
      "Processing Record 19 of Set 1 | Hithadhoo\n",
      "Processing Record 20 of Set 1 | Taolanaro\n",
      "City \"Taolanaro\" not found. Skipping...\n",
      "Processing Record 20 of Set 1 | Port Elizabeth\n",
      "Processing Record 21 of Set 1 | Arraial Do Cabo\n",
      "Processing Record 22 of Set 1 | Skjervoy\n",
      "Processing Record 23 of Set 1 | Boddam\n",
      "Processing Record 24 of Set 1 | Adrar\n",
      "Processing Record 25 of Set 1 | Padang\n",
      "Processing Record 26 of Set 1 | Aleppo\n",
      "Processing Record 27 of Set 1 | Kutum\n",
      "Processing Record 28 of Set 1 | Albany\n",
      "Processing Record 29 of Set 1 | Mar Del Plata\n",
      "Processing Record 30 of Set 1 | Kishi\n",
      "Processing Record 31 of Set 1 | Berlevag\n",
      "Processing Record 32 of Set 1 | Teya\n",
      "Processing Record 33 of Set 1 | Los Llanos De Aridane\n",
      "Processing Record 34 of Set 1 | Ribeira Grande\n",
      "Processing Record 35 of Set 1 | Bengkulu\n",
      "Processing Record 36 of Set 1 | Illoqqortoormiut\n",
      "City \"Illoqqortoormiut\" not found. Skipping...\n",
      "Processing Record 36 of Set 1 | Mecca\n",
      "Processing Record 37 of Set 1 | Bambous Virieux\n",
      "Processing Record 38 of Set 1 | Jamestown\n",
      "Processing Record 39 of Set 1 | Asfi\n",
      "Processing Record 40 of Set 1 | Keetmanshoop\n",
      "Processing Record 41 of Set 1 | Sao Jose Da Coroa Grande\n",
      "Processing Record 42 of Set 1 | Rocha\n",
      "Processing Record 43 of Set 1 | Castro\n",
      "Processing Record 44 of Set 1 | Ostrovnoy\n",
      "Processing Record 45 of Set 1 | Tazmalt\n",
      "Processing Record 46 of Set 1 | Tsihombe\n",
      "City \"Tsihombe\" not found. Skipping...\n",
      "Processing Record 46 of Set 1 | Taltal\n",
      "Processing Record 47 of Set 1 | Pascagoula\n",
      "Processing Record 48 of Set 1 | Koulikoro\n",
      "Processing Record 49 of Set 1 | Havoysund\n",
      "Processing Record 50 of Set 1 | Severnoye\n",
      "Processing Record 1 of Set 2 | Nantucket\n",
      "Processing Record 2 of Set 2 | Andenes\n",
      "Processing Record 3 of Set 2 | Namibe\n",
      "Processing Record 4 of Set 2 | Oyon\n",
      "Processing Record 5 of Set 2 | Vila Franca Do Campo\n",
      "Processing Record 6 of Set 2 | Yabrud\n",
      "Processing Record 7 of Set 2 | Ponta Delgada\n",
      "Processing Record 8 of Set 2 | Marcona\n",
      "City \"Marcona\" not found. Skipping...\n",
      "Processing Record 8 of Set 2 | Molepolole\n",
      "Processing Record 9 of Set 2 | Alvorada\n",
      "Processing Record 10 of Set 2 | Inhambane\n",
      "Processing Record 11 of Set 2 | Orgun\n",
      "City \"Orgun\" not found. Skipping...\n",
      "Processing Record 11 of Set 2 | Charleston\n",
      "Processing Record 12 of Set 2 | Teguise\n",
      "Processing Record 13 of Set 2 | Abnub\n",
      "Processing Record 14 of Set 2 | Ponta Do Sol\n",
      "Processing Record 15 of Set 2 | Portree\n",
      "Processing Record 16 of Set 2 | Vardo\n",
      "Processing Record 17 of Set 2 | Iqaluit\n",
      "Processing Record 18 of Set 2 | Nchelenge\n",
      "Processing Record 19 of Set 2 | Tuggurt\n",
      "City \"Tuggurt\" not found. Skipping...\n",
      "Processing Record 19 of Set 2 | Urumqi\n",
      "Processing Record 20 of Set 2 | Riyadh\n",
      "Processing Record 21 of Set 2 | Severnyy\n",
      "Processing Record 22 of Set 2 | Hellvik\n",
      "Processing Record 23 of Set 2 | Tasiilaq\n",
      "Processing Record 24 of Set 2 | Karauzyak\n",
      "City \"Karauzyak\" not found. Skipping...\n",
      "Processing Record 24 of Set 2 | Barbar\n",
      "City \"Barbar\" not found. Skipping...\n",
      "Processing Record 24 of Set 2 | Kidal\n",
      "Processing Record 25 of Set 2 | Albion\n",
      "Processing Record 26 of Set 2 | Siwani\n",
      "City \"Siwani\" not found. Skipping...\n",
      "Processing Record 26 of Set 2 | Trikerion\n",
      "City \"Trikerion\" not found. Skipping...\n",
      "Processing Record 26 of Set 2 | Amderma\n",
      "City \"Amderma\" not found. Skipping...\n",
      "Processing Record 26 of Set 2 | Mamallapuram\n",
      "Processing Record 27 of Set 2 | Bari\n",
      "Processing Record 28 of Set 2 | Paso De Los Toros\n",
      "Processing Record 29 of Set 2 | Sept-Iles\n",
      "Processing Record 30 of Set 2 | Kisanga\n",
      "Processing Record 31 of Set 2 | Campo Grande\n",
      "Processing Record 32 of Set 2 | Talalayivka\n",
      "Processing Record 33 of Set 2 | Bur Gabo\n",
      "City \"Bur Gabo\" not found. Skipping...\n",
      "Processing Record 33 of Set 2 | Nizwa\n",
      "Processing Record 34 of Set 2 | Codrington\n",
      "Processing Record 35 of Set 2 | Mporokoso\n",
      "Processing Record 36 of Set 2 | Ovalle\n",
      "Processing Record 37 of Set 2 | Klaksvik\n",
      "Processing Record 38 of Set 2 | Nyandoma\n",
      "Processing Record 39 of Set 2 | Saint-Philippe\n",
      "Processing Record 40 of Set 2 | Jiddah\n",
      "City \"Jiddah\" not found. Skipping...\n",
      "Processing Record 40 of Set 2 | Ugoofaaru\n",
      "Processing Record 41 of Set 2 | Lunenburg\n",
      "Processing Record 42 of Set 2 | Umzimvubu\n",
      "City \"Umzimvubu\" not found. Skipping...\n",
      "Processing Record 42 of Set 2 | Mahajanga\n",
      "Processing Record 43 of Set 2 | Chicama\n",
      "Processing Record 44 of Set 2 | Lambare\n",
      "Processing Record 45 of Set 2 | Najran\n",
      "Processing Record 46 of Set 2 | Malakal\n",
      "Processing Record 47 of Set 2 | Punta Arenas\n",
      "Processing Record 48 of Set 2 | Lamu\n",
      "Processing Record 49 of Set 2 | Lagoa\n",
      "Processing Record 50 of Set 2 | Aranos\n",
      "Processing Record 1 of Set 3 | Tumannyy\n",
      "City \"Tumannyy\" not found. Skipping...\n",
      "Processing Record 1 of Set 3 | Aksu\n",
      "Processing Record 2 of Set 3 | Axim\n",
      "Processing Record 3 of Set 3 | Hambantota\n",
      "Processing Record 4 of Set 3 | Pangnirtung\n",
      "Processing Record 5 of Set 3 | Cumpana\n",
      "Processing Record 6 of Set 3 | Bonavista\n",
      "Processing Record 7 of Set 3 | Fereydun Kenar\n",
      "Processing Record 8 of Set 3 | Chuy\n",
      "Processing Record 9 of Set 3 | Maputo\n",
      "Processing Record 10 of Set 3 | Gat\n",
      "Processing Record 11 of Set 3 | Ambovombe\n",
      "Processing Record 12 of Set 3 | Ouesso\n",
      "Processing Record 13 of Set 3 | Maniitsoq\n",
      "Processing Record 14 of Set 3 | Kleck\n",
      "City \"Kleck\" not found. Skipping...\n",
      "Processing Record 14 of Set 3 | Bilma\n",
      "Processing Record 15 of Set 3 | Tshane\n",
      "Processing Record 16 of Set 3 | Jaru\n",
      "Processing Record 17 of Set 3 | Carnarvon\n",
      "Processing Record 18 of Set 3 | Sohag\n",
      "Processing Record 19 of Set 3 | Zaragoza\n",
      "Processing Record 20 of Set 3 | Barawe\n",
      "City \"Barawe\" not found. Skipping...\n",
      "Processing Record 20 of Set 3 | Kadhan\n",
      "Processing Record 21 of Set 3 | Manaus\n",
      "Processing Record 22 of Set 3 | Kapuskasing\n",
      "Processing Record 23 of Set 3 | Iquitos\n",
      "Processing Record 24 of Set 3 | Richards Bay\n",
      "Processing Record 25 of Set 3 | Mazamari\n",
      "Processing Record 26 of Set 3 | Sumter\n",
      "Processing Record 27 of Set 3 | Sorland\n",
      "Processing Record 28 of Set 3 | Goure\n",
      "Processing Record 29 of Set 3 | Seminole\n",
      "Processing Record 30 of Set 3 | Sakakah\n",
      "Processing Record 31 of Set 3 | Clyde River\n",
      "Processing Record 32 of Set 3 | San Luis\n",
      "Processing Record 33 of Set 3 | Solovetskiy\n",
      "City \"Solovetskiy\" not found. Skipping...\n",
      "Processing Record 33 of Set 3 | Koungheul\n",
      "Processing Record 34 of Set 3 | Walvis Bay\n",
      "Processing Record 35 of Set 3 | Bafoulabe\n",
      "Processing Record 36 of Set 3 | Balkanabat\n",
      "Processing Record 37 of Set 3 | Praia Da Vitoria\n",
      "Processing Record 38 of Set 3 | Laguna\n",
      "Processing Record 39 of Set 3 | Yar-Sale\n",
      "Processing Record 40 of Set 3 | Cockburn Town\n",
      "Processing Record 41 of Set 3 | Freetown\n",
      "Processing Record 42 of Set 3 | Dudinka\n",
      "Processing Record 43 of Set 3 | Coquimbo\n",
      "Processing Record 44 of Set 3 | Oistins\n",
      "Processing Record 45 of Set 3 | Conde\n",
      "Processing Record 46 of Set 3 | Gayeri\n",
      "Processing Record 47 of Set 3 | Muros\n",
      "Processing Record 48 of Set 3 | Bentiu\n",
      "Processing Record 49 of Set 3 | Alausi\n",
      "Processing Record 50 of Set 3 | Abu Samrah\n",
      "Processing Record 1 of Set 4 | Margate\n",
      "Processing Record 2 of Set 4 | Snasa\n",
      "Processing Record 3 of Set 4 | Neuquen\n",
      "Processing Record 4 of Set 4 | Bajo Baudo\n",
      "City \"Bajo Baudo\" not found. Skipping...\n",
      "Processing Record 4 of Set 4 | Turayf\n",
      "Processing Record 5 of Set 4 | Bud\n"
     ]
    },
    {
     "name": "stdout",
     "output_type": "stream",
     "text": [
      "Processing Record 6 of Set 4 | Hualmay\n",
      "Processing Record 7 of Set 4 | Chincha Alta\n",
      "Processing Record 8 of Set 4 | Domazlice\n",
      "Processing Record 9 of Set 4 | Bhadrachalam\n",
      "Processing Record 10 of Set 4 | Ozgon\n",
      "City \"Ozgon\" not found. Skipping...\n",
      "Processing Record 10 of Set 4 | Kindu\n",
      "Processing Record 11 of Set 4 | Victoria\n",
      "Processing Record 12 of Set 4 | Pisco\n",
      "Processing Record 13 of Set 4 | Lidkoping\n",
      "Processing Record 14 of Set 4 | Cidreira\n",
      "Processing Record 15 of Set 4 | Karpenision\n",
      "City \"Karpenision\" not found. Skipping...\n",
      "Processing Record 15 of Set 4 | Torbay\n",
      "Processing Record 16 of Set 4 | Salalah\n",
      "Processing Record 17 of Set 4 | Tambacounda\n",
      "Processing Record 18 of Set 4 | Mizdah\n",
      "Processing Record 19 of Set 4 | Torres\n",
      "Processing Record 20 of Set 4 | Marsh Harbour\n",
      "Processing Record 21 of Set 4 | Arona\n",
      "Processing Record 22 of Set 4 | Ermelo\n",
      "Processing Record 23 of Set 4 | Muskegon\n",
      "Processing Record 24 of Set 4 | Puerto Narino\n",
      "Processing Record 25 of Set 4 | Stokmarknes\n",
      "Processing Record 26 of Set 4 | Port Blair\n",
      "Processing Record 27 of Set 4 | Saldanha\n",
      "Processing Record 28 of Set 4 | Tyup\n",
      "Processing Record 29 of Set 4 | Yenagoa\n",
      "Processing Record 30 of Set 4 | Kinsale\n",
      "Processing Record 31 of Set 4 | Senador Guiomard\n",
      "Processing Record 32 of Set 4 | Santiago Del Estero\n",
      "Processing Record 33 of Set 4 | Setermoen\n",
      "Processing Record 34 of Set 4 | Karlshamn\n",
      "Processing Record 35 of Set 4 | Belyy Yar\n",
      "Processing Record 36 of Set 4 | Formosa\n",
      "Processing Record 37 of Set 4 | Calvinia\n",
      "Processing Record 38 of Set 4 | Mende\n",
      "Processing Record 39 of Set 4 | Port-Gentil\n",
      "Processing Record 40 of Set 4 | Aflu\n",
      "City \"Aflu\" not found. Skipping...\n",
      "Processing Record 40 of Set 4 | Maldonado\n",
      "Processing Record 41 of Set 4 | Luderitz\n",
      "Processing Record 42 of Set 4 | Natal\n",
      "Processing Record 43 of Set 4 | Santa Quiteria\n",
      "Processing Record 44 of Set 4 | Agirish\n",
      "Processing Record 45 of Set 4 | Mokhotlong\n",
      "Processing Record 46 of Set 4 | Puerto Parra\n",
      "Processing Record 47 of Set 4 | Oksfjord\n",
      "Processing Record 48 of Set 4 | Constantine\n",
      "Processing Record 49 of Set 4 | Finnsnes\n",
      "Processing Record 50 of Set 4 | Kazalinsk\n",
      "City \"Kazalinsk\" not found. Skipping...\n",
      "Processing Record 50 of Set 4 | Aksaray\n",
      "Processing Record 1 of Set 5 | Vila Velha\n",
      "Processing Record 2 of Set 5 | Ituni\n",
      "City \"Ituni\" not found. Skipping...\n",
      "Processing Record 2 of Set 5 | Itarema\n",
      "Processing Record 3 of Set 5 | Tarko-Sale\n",
      "Processing Record 4 of Set 5 | Cuenca\n",
      "Processing Record 5 of Set 5 | Camacari\n",
      "Processing Record 6 of Set 5 | Isla Mujeres\n",
      "Processing Record 7 of Set 5 | Eirunepe\n",
      "Processing Record 8 of Set 5 | Grand-Santi\n",
      "Processing Record 9 of Set 5 | Tiznit\n",
      "Processing Record 10 of Set 5 | Nueva Gerona\n",
      "Processing Record 11 of Set 5 | Mandla\n",
      "Processing Record 12 of Set 5 | Shahr-E Kord\n",
      "Processing Record 13 of Set 5 | Nouakchott\n",
      "Processing Record 14 of Set 5 | Ust-Kulom\n",
      "Processing Record 15 of Set 5 | Koroni\n",
      "Processing Record 16 of Set 5 | Kruisfontein\n",
      "Processing Record 17 of Set 5 | Toliary\n",
      "City \"Toliary\" not found. Skipping...\n",
      "Processing Record 17 of Set 5 | Apac\n",
      "Processing Record 18 of Set 5 | Tucuman\n",
      "Processing Record 19 of Set 5 | Faranah\n",
      "Processing Record 20 of Set 5 | Menongue\n",
      "Processing Record 21 of Set 5 | Cayenne\n",
      "Processing Record 22 of Set 5 | Grand River South East\n",
      "City \"Grand River South East\" not found. Skipping...\n",
      "Processing Record 22 of Set 5 | Nagua\n",
      "Processing Record 23 of Set 5 | Trairi\n",
      "Processing Record 24 of Set 5 | Mezen\n",
      "Processing Record 25 of Set 5 | Kjollefjord\n",
      "Processing Record 26 of Set 5 | Ormara\n",
      "Processing Record 27 of Set 5 | Chernyakhiv\n",
      "Processing Record 28 of Set 5 | Rumuruti\n",
      "Processing Record 29 of Set 5 | Caravelas\n",
      "Processing Record 30 of Set 5 | Nanortalik\n",
      "Processing Record 31 of Set 5 | Zarand\n",
      "Processing Record 32 of Set 5 | Elizabeth City\n",
      "Processing Record 33 of Set 5 | Am Timan\n",
      "Processing Record 34 of Set 5 | Barbalha\n",
      "Processing Record 35 of Set 5 | Sabha\n",
      "Processing Record 36 of Set 5 | Bandarbeyla\n",
      "Processing Record 37 of Set 5 | Cruz Alta\n",
      "Processing Record 38 of Set 5 | Mocuba\n",
      "Processing Record 39 of Set 5 | Podor\n",
      "Processing Record 40 of Set 5 | Lebu\n",
      "Processing Record 41 of Set 5 | Obo\n",
      "Processing Record 42 of Set 5 | Caluquembe\n",
      "Processing Record 43 of Set 5 | Yarada\n",
      "Processing Record 44 of Set 5 | Guekedou\n",
      "City \"Guekedou\" not found. Skipping...\n",
      "Processing Record 44 of Set 5 | Tucuma\n",
      "Processing Record 45 of Set 5 | Korla\n",
      "Processing Record 46 of Set 5 | Chepen\n",
      "Processing Record 47 of Set 5 | Ierapetra\n",
      "Processing Record 48 of Set 5 | Rio Grande\n",
      "Processing Record 49 of Set 5 | Ariogala\n",
      "Processing Record 50 of Set 5 | Saint-Augustin\n",
      "Processing Record 1 of Set 6 | Sagana\n",
      "Processing Record 2 of Set 6 | Camapua\n",
      "Processing Record 3 of Set 6 | Marzuq\n",
      "Processing Record 4 of Set 6 | Galle\n",
      "Processing Record 5 of Set 6 | Gambo\n",
      "Processing Record 6 of Set 6 | Gardan Diwal\n",
      "City \"Gardan Diwal\" not found. Skipping...\n",
      "Processing Record 6 of Set 6 | Birao\n",
      "Processing Record 7 of Set 6 | Konya\n",
      "Processing Record 8 of Set 6 | Pictou\n",
      "Processing Record 9 of Set 6 | Agadir\n",
      "Processing Record 10 of Set 6 | Salinas\n",
      "Processing Record 11 of Set 6 | Hobyo\n",
      "Processing Record 12 of Set 6 | The Hammocks\n",
      "Processing Record 13 of Set 6 | Sladkovo\n",
      "Processing Record 14 of Set 6 | Plettenberg Bay\n",
      "Processing Record 15 of Set 6 | Hebertville\n",
      "City \"Hebertville\" not found. Skipping...\n",
      "Processing Record 15 of Set 6 | Jaisalmer\n",
      "Processing Record 16 of Set 6 | Saint Anthony\n",
      "Processing Record 17 of Set 6 | Havre-Saint-Pierre\n",
      "Processing Record 18 of Set 6 | Bergen\n",
      "Processing Record 19 of Set 6 | Grindavik\n",
      "Processing Record 20 of Set 6 | Naftah\n",
      "City \"Naftah\" not found. Skipping...\n",
      "Processing Record 20 of Set 6 | Koutsouras\n",
      "Processing Record 21 of Set 6 | Leshukonskoye\n",
      "Processing Record 22 of Set 6 | Clemson\n",
      "Processing Record 23 of Set 6 | Caapucu\n",
      "Processing Record 24 of Set 6 | Wattegama\n",
      "Processing Record 25 of Set 6 | Inongo\n",
      "Processing Record 26 of Set 6 | Henties Bay\n",
      "Processing Record 27 of Set 6 | San Cristobal\n",
      "Processing Record 28 of Set 6 | Daura\n",
      "Processing Record 29 of Set 6 | Mehamn\n",
      "Processing Record 30 of Set 6 | Dhidhdhoo\n",
      "Processing Record 31 of Set 6 | Adeje\n",
      "Processing Record 32 of Set 6 | San Carlos De Bariloche\n",
      "Processing Record 33 of Set 6 | Armacao Dos Buzios\n",
      "City \"Armacao Dos Buzios\" not found. Skipping...\n",
      "Processing Record 33 of Set 6 | Blacksburg\n",
      "Processing Record 34 of Set 6 | Tornio\n",
      "Processing Record 35 of Set 6 | West Bay\n",
      "Processing Record 36 of Set 6 | Coihaique\n",
      "Processing Record 37 of Set 6 | Mitu\n",
      "Processing Record 38 of Set 6 | Mitsamiouli\n",
      "Processing Record 39 of Set 6 | Cheuskiny\n",
      "City \"Cheuskiny\" not found. Skipping...\n",
      "Processing Record 39 of Set 6 | Rolim De Moura\n",
      "City \"Rolim De Moura\" not found. Skipping...\n",
      "Processing Record 39 of Set 6 | Ancud\n",
      "Processing Record 40 of Set 6 | Preili\n",
      "Processing Record 41 of Set 6 | El Mahalla El Kubra\n",
      "City \"El Mahalla El Kubra\" not found. Skipping...\n",
      "Processing Record 41 of Set 6 | Ndioum\n",
      "Processing Record 42 of Set 6 | Nouadhibou\n",
      "Processing Record 43 of Set 6 | Attawapiskat\n",
      "City \"Attawapiskat\" not found. Skipping...\n",
      "Processing Record 43 of Set 6 | Goderich\n",
      "Processing Record 44 of Set 6 | Emba\n",
      "Processing Record 45 of Set 6 | Grand Gaube\n",
      "Processing Record 46 of Set 6 | Taoudenni\n",
      "Processing Record 47 of Set 6 | Chiknayakanhalli\n",
      "Processing Record 48 of Set 6 | Lodeynoye Pole\n",
      "Processing Record 49 of Set 6 | Chernyy Yar\n",
      "Processing Record 50 of Set 6 | Aleksandrov Gay\n",
      "Processing Record 1 of Set 7 | Opuwo\n",
      "Processing Record 2 of Set 7 | Monte Santo De Minas\n",
      "Processing Record 3 of Set 7 | Jalu\n",
      "Processing Record 4 of Set 7 | Ekibastuz\n",
      "Processing Record 5 of Set 7 | Aliwal North\n",
      "Processing Record 6 of Set 7 | Sistranda\n",
      "Processing Record 7 of Set 7 | Dingle\n",
      "Processing Record 8 of Set 7 | Moose Factory\n",
      "Processing Record 9 of Set 7 | Vestmannaeyjar\n",
      "Processing Record 10 of Set 7 | Alexandria\n",
      "Processing Record 11 of Set 7 | Chivay\n",
      "Processing Record 12 of Set 7 | Arkhangelsk\n",
      "Processing Record 13 of Set 7 | Ilulissat\n",
      "Processing Record 14 of Set 7 | Dubenskiy\n",
      "City \"Dubenskiy\" not found. Skipping...\n",
      "Processing Record 14 of Set 7 | Kjopsvik\n",
      "Processing Record 15 of Set 7 | Muravlenko\n",
      "Processing Record 16 of Set 7 | Touros\n",
      "Processing Record 17 of Set 7 | Mattawa\n",
      "Processing Record 18 of Set 7 | Catacaos\n"
     ]
    },
    {
     "name": "stdout",
     "output_type": "stream",
     "text": [
      "Processing Record 19 of Set 7 | Lagos\n",
      "Processing Record 20 of Set 7 | Doha\n",
      "Processing Record 21 of Set 7 | Cobija\n",
      "Processing Record 22 of Set 7 | Salinopolis\n",
      "Processing Record 23 of Set 7 | Kamenka\n",
      "Processing Record 24 of Set 7 | Iberia\n",
      "Processing Record 25 of Set 7 | Bathsheba\n",
      "Processing Record 26 of Set 7 | Sorvag\n",
      "City \"Sorvag\" not found. Skipping...\n",
      "Processing Record 26 of Set 7 | Sambava\n",
      "Processing Record 27 of Set 7 | Songea\n",
      "Processing Record 28 of Set 7 | Souillac\n",
      "Processing Record 29 of Set 7 | Bulawayo\n",
      "Processing Record 30 of Set 7 | Calama\n",
      "Processing Record 31 of Set 7 | San Bartolome De Tirajana\n",
      "Processing Record 32 of Set 7 | Araouane\n",
      "Processing Record 33 of Set 7 | Sinkat\n",
      "City \"Sinkat\" not found. Skipping...\n",
      "Processing Record 33 of Set 7 | San Rafael\n",
      "Processing Record 34 of Set 7 | Camacha\n",
      "Processing Record 35 of Set 7 | Valparaiso\n",
      "Processing Record 36 of Set 7 | Abengourou\n",
      "Processing Record 37 of Set 7 | Saint-Pierre\n",
      "Processing Record 38 of Set 7 | Westpunt\n",
      "City \"Westpunt\" not found. Skipping...\n",
      "Processing Record 38 of Set 7 | Mpika\n",
      "Processing Record 39 of Set 7 | Jumla\n",
      "Processing Record 40 of Set 7 | Tenenkou\n",
      "Processing Record 41 of Set 7 | La Macarena\n",
      "Processing Record 42 of Set 7 | Raga\n",
      "Processing Record 43 of Set 7 | Gravenhurst\n",
      "Processing Record 44 of Set 7 | Trunovskoye\n",
      "Processing Record 45 of Set 7 | Olafsvik\n",
      "Processing Record 46 of Set 7 | Altay\n",
      "Processing Record 47 of Set 7 | Witu\n",
      "Processing Record 48 of Set 7 | Barceloneta\n",
      "Processing Record 49 of Set 7 | Kattivakkam\n",
      "Processing Record 50 of Set 7 | Mo I Rana\n",
      "Processing Record 1 of Set 8 | Mollendo\n",
      "Processing Record 2 of Set 8 | Marion\n",
      "Processing Record 3 of Set 8 | Harper\n",
      "Processing Record 4 of Set 8 | Gore\n",
      "Processing Record 5 of Set 8 | Ilam\n",
      "Processing Record 6 of Set 8 | North Bay\n",
      "Processing Record 7 of Set 8 | Safaqis\n",
      "City \"Safaqis\" not found. Skipping...\n",
      "Processing Record 7 of Set 8 | Tabuk\n",
      "Processing Record 8 of Set 8 | Paoua\n",
      "Processing Record 9 of Set 8 | Bubaque\n",
      "Processing Record 10 of Set 8 | Beitbridge\n",
      "Processing Record 11 of Set 8 | Karlskoga\n",
      "Processing Record 12 of Set 8 | Iquique\n",
      "Processing Record 13 of Set 8 | Coro\n",
      "Processing Record 14 of Set 8 | Hamilton\n",
      "Processing Record 15 of Set 8 | Shache\n",
      "Processing Record 16 of Set 8 | Piripiri\n",
      "Processing Record 17 of Set 8 | Roald\n",
      "Processing Record 18 of Set 8 | Sao Domingos\n",
      "Processing Record 19 of Set 8 | Tabou\n",
      "Processing Record 20 of Set 8 | Cuamba\n",
      "Processing Record 21 of Set 8 | Liverpool\n",
      "Processing Record 22 of Set 8 | Divo\n",
      "Processing Record 23 of Set 8 | Zheleznodorozhnyy\n",
      "Processing Record 24 of Set 8 | Yirol\n",
      "City \"Yirol\" not found. Skipping...\n",
      "Processing Record 24 of Set 8 | Big Rapids\n",
      "Processing Record 25 of Set 8 | Aswan\n",
      "Processing Record 26 of Set 8 | Chulym\n",
      "Processing Record 27 of Set 8 | Santa Maria\n",
      "Processing Record 28 of Set 8 | Upington\n",
      "Processing Record 29 of Set 8 | Maku\n",
      "Processing Record 30 of Set 8 | Chebarkul\n",
      "Processing Record 31 of Set 8 | Sembe\n",
      "Processing Record 32 of Set 8 | Matagami\n",
      "Processing Record 33 of Set 8 | Stephenville\n",
      "Processing Record 34 of Set 8 | Hare Bay\n",
      "Processing Record 35 of Set 8 | Bousso\n",
      "Processing Record 36 of Set 8 | Caceres\n",
      "Processing Record 37 of Set 8 | Camara De Lobos\n",
      "Processing Record 38 of Set 8 | Semnan\n",
      "Processing Record 39 of Set 8 | Ordzhonikidze\n",
      "Processing Record 40 of Set 8 | Uaua\n",
      "Processing Record 41 of Set 8 | Cap Malheureux\n",
      "Processing Record 42 of Set 8 | Zhezkazgan\n",
      "Processing Record 43 of Set 8 | Arlit\n",
      "Processing Record 44 of Set 8 | Krasnogorodsk\n",
      "Processing Record 45 of Set 8 | Casablanca\n",
      "Processing Record 46 of Set 8 | Bandraboua\n",
      "Processing Record 47 of Set 8 | Sao Gabriel Da Cachoeira\n",
      "Processing Record 48 of Set 8 | Busayra\n",
      "Processing Record 49 of Set 8 | Pozzallo\n",
      "Processing Record 50 of Set 8 | Wolow\n",
      "Processing Record 1 of Set 9 | San Andres\n",
      "Processing Record 2 of Set 9 | Quatre Cocos\n",
      "Processing Record 3 of Set 9 | Jacareacanga\n",
      "Processing Record 4 of Set 9 | Isetskoye\n",
      "Processing Record 5 of Set 9 | Honningsvag\n",
      "Processing Record 6 of Set 9 | Bundi\n",
      "Processing Record 7 of Set 9 | Marystown\n",
      "Processing Record 8 of Set 9 | Japura\n",
      "Processing Record 9 of Set 9 | San Ramon\n",
      "Processing Record 10 of Set 9 | Qaqortoq\n",
      "Processing Record 11 of Set 9 | Thompson\n",
      "Processing Record 12 of Set 9 | Huarmey\n",
      "Processing Record 13 of Set 9 | Isabela\n",
      "Processing Record 14 of Set 9 | Waddan\n",
      "Processing Record 15 of Set 9 | Geraldton\n",
      "Processing Record 16 of Set 9 | Goma\n",
      "Processing Record 17 of Set 9 | Columbus\n",
      "Processing Record 18 of Set 9 | Kosh-Agach\n",
      "Processing Record 19 of Set 9 | Sciacca\n",
      "Processing Record 20 of Set 9 | Santa Marinella\n",
      "Processing Record 21 of Set 9 | Villa Carlos Paz\n",
      "Processing Record 22 of Set 9 | Porto Novo\n",
      "Processing Record 23 of Set 9 | Jawhar\n",
      "Processing Record 24 of Set 9 | Kuytun\n",
      "Processing Record 25 of Set 9 | Liberia\n",
      "Processing Record 26 of Set 9 | Karaul\n",
      "City \"Karaul\" not found. Skipping...\n",
      "Processing Record 26 of Set 9 | Shelburne\n",
      "Processing Record 27 of Set 9 | Picota\n",
      "Processing Record 28 of Set 9 | Kismayo\n",
      "Processing Record 29 of Set 9 | Sosenskiy\n",
      "Processing Record 30 of Set 9 | San Julian\n",
      "Processing Record 31 of Set 9 | Sisimiut\n",
      "Processing Record 32 of Set 9 | Salym\n",
      "Processing Record 33 of Set 9 | Copiapo\n",
      "Processing Record 34 of Set 9 | Suraabad\n",
      "Processing Record 35 of Set 9 | Mariental\n",
      "Processing Record 36 of Set 9 | San Joaquin\n",
      "Processing Record 37 of Set 9 | Eenhana\n",
      "Processing Record 38 of Set 9 | Virbalis\n",
      "Processing Record 39 of Set 9 | Yomou\n",
      "Processing Record 40 of Set 9 | El Faiyum\n",
      "City \"El Faiyum\" not found. Skipping...\n",
      "Processing Record 40 of Set 9 | Marquette\n",
      "Processing Record 41 of Set 9 | Charagua\n",
      "Processing Record 42 of Set 9 | Agadez\n",
      "Processing Record 43 of Set 9 | Requena\n",
      "Processing Record 44 of Set 9 | Manono\n",
      "Processing Record 45 of Set 9 | Santo Antonio Do Ica\n",
      "Processing Record 46 of Set 9 | Brezovo\n",
      "Processing Record 47 of Set 9 | Marfino\n",
      "Processing Record 48 of Set 9 | Tigzirt\n",
      "Processing Record 49 of Set 9 | Svetlyy\n",
      "Processing Record 50 of Set 9 | Turzovka\n",
      "Processing Record 1 of Set 10 | Prainha\n",
      "Processing Record 2 of Set 10 | Naivasha\n",
      "Processing Record 3 of Set 10 | Larnaca\n",
      "Processing Record 4 of Set 10 | Petukhovo\n",
      "Processing Record 5 of Set 10 | Tessalit\n",
      "Processing Record 6 of Set 10 | Uetze\n",
      "Processing Record 7 of Set 10 | A\n",
      "City \"A\" not found. Skipping...\n",
      "Processing Record 7 of Set 10 | Hofn\n",
      "Processing Record 8 of Set 10 | Urubicha\n",
      "Processing Record 9 of Set 10 | Idukki\n",
      "Processing Record 10 of Set 10 | Morlaix\n",
      "Processing Record 11 of Set 10 | Bayburt\n",
      "Processing Record 12 of Set 10 | Gravdal\n",
      "Processing Record 13 of Set 10 | Cherepovets\n",
      "Processing Record 14 of Set 10 | Nicoya\n",
      "Processing Record 15 of Set 10 | Masvingo\n",
      "Processing Record 16 of Set 10 | Kargasok\n",
      "Processing Record 17 of Set 10 | Bolungarvik\n",
      "City \"Bolungarvik\" not found. Skipping...\n",
      "Processing Record 17 of Set 10 | Troyes\n",
      "Processing Record 18 of Set 10 | Santa Cruz\n",
      "Processing Record 19 of Set 10 | Jashpurnagar\n",
      "Processing Record 20 of Set 10 | Umm Lajj\n",
      "Processing Record 21 of Set 10 | Jimani\n",
      "Processing Record 22 of Set 10 | Qorveh\n",
      "Processing Record 23 of Set 10 | Udomlya\n",
      "Processing Record 24 of Set 10 | Soyo\n",
      "Processing Record 25 of Set 10 | Baghdad\n",
      "Processing Record 26 of Set 10 | Dwarka\n",
      "Processing Record 27 of Set 10 | Sawakin\n",
      "Processing Record 28 of Set 10 | Puerto Guzman\n",
      "Processing Record 29 of Set 10 | Tshikapa\n",
      "Processing Record 30 of Set 10 | Huari\n",
      "Processing Record 31 of Set 10 | Dehloran\n",
      "Processing Record 32 of Set 10 | Saint-Joseph\n",
      "Processing Record 33 of Set 10 | Xuddur\n",
      "Processing Record 34 of Set 10 | Bagotville\n",
      "Processing Record 35 of Set 10 | Eyrarbakki\n",
      "Processing Record 36 of Set 10 | Vihti\n",
      "Processing Record 37 of Set 10 | Saint-Pacome\n",
      "City \"Saint-Pacome\" not found. Skipping...\n",
      "Processing Record 37 of Set 10 | Julio De Castilhos\n",
      "Processing Record 38 of Set 10 | Port-De-Paix\n",
      "City \"Port-De-Paix\" not found. Skipping...\n",
      "Processing Record 38 of Set 10 | Mandera\n",
      "Processing Record 39 of Set 10 | Puerto Del Rosario\n",
      "Processing Record 40 of Set 10 | La Primavera\n",
      "Processing Record 41 of Set 10 | Trincomalee\n",
      "Processing Record 42 of Set 10 | Arcachon\n",
      "Processing Record 43 of Set 10 | Cabedelo\n",
      "Processing Record 44 of Set 10 | Urdzhar\n",
      "City \"Urdzhar\" not found. Skipping...\n",
      "Processing Record 44 of Set 10 | Tete\n"
     ]
    },
    {
     "name": "stdout",
     "output_type": "stream",
     "text": [
      "Processing Record 45 of Set 10 | Cerro Cama\n",
      "Processing Record 46 of Set 10 | Piacabucu\n",
      "Processing Record 47 of Set 10 | Nokaneng\n",
      "Processing Record 48 of Set 10 | Dewas\n",
      "Processing Record 49 of Set 10 | Puri\n",
      "Processing Record 50 of Set 10 | Thinadhoo\n",
      "Processing Record 1 of Set 11 | Abu Dhabi\n",
      "Processing Record 2 of Set 11 | Erzincan\n",
      "Processing Record 3 of Set 11 | Bahia Blanca\n",
      "Processing Record 4 of Set 11 | Camopi\n",
      "Processing Record 5 of Set 11 | Buxton\n",
      "Processing Record 6 of Set 11 | Plouzane\n",
      "Processing Record 7 of Set 11 | Gazanjyk\n",
      "Processing Record 8 of Set 11 | Khanewal\n",
      "Processing Record 9 of Set 11 | Shadegan\n",
      "Processing Record 10 of Set 11 | Louisbourg\n",
      "City \"Louisbourg\" not found. Skipping...\n",
      "Processing Record 10 of Set 11 | Mount Vernon\n",
      "Processing Record 11 of Set 11 | Beira\n",
      "Processing Record 12 of Set 11 | Matay\n",
      "Processing Record 13 of Set 11 | Saquarema\n",
      "Processing Record 14 of Set 11 | Codajas\n",
      "Processing Record 15 of Set 11 | Bargal\n",
      "City \"Bargal\" not found. Skipping...\n",
      "Processing Record 15 of Set 11 | Siderno\n",
      "Processing Record 16 of Set 11 | Gobabis\n",
      "Processing Record 17 of Set 11 | Sopotu Nou\n",
      "Processing Record 18 of Set 11 | Malinyi\n",
      "Processing Record 19 of Set 11 | Siniscola\n",
      "Processing Record 20 of Set 11 | Batsfjord\n",
      "Processing Record 21 of Set 11 | Ajdabiya\n",
      "Processing Record 22 of Set 11 | Saint-Louis\n",
      "Processing Record 23 of Set 11 | Pimentel\n",
      "Processing Record 24 of Set 11 | Stornoway\n",
      "Processing Record 25 of Set 11 | Husavik\n",
      "Processing Record 26 of Set 11 | Lityn\n",
      "Processing Record 27 of Set 11 | Kalmunai\n",
      "Processing Record 28 of Set 11 | Zavetnoye\n",
      "Processing Record 29 of Set 11 | Bocana De Paiwas\n",
      "Processing Record 30 of Set 11 | Pandamatenga\n",
      "Processing Record 31 of Set 11 | Kiruna\n",
      "Processing Record 32 of Set 11 | Yelovo\n",
      "Processing Record 33 of Set 11 | Kongolo\n",
      "Processing Record 34 of Set 11 | Ilhabela\n",
      "Processing Record 35 of Set 11 | Bayir\n",
      "Processing Record 36 of Set 11 | Maceio\n",
      "Processing Record 37 of Set 11 | Reichenau\n",
      "Processing Record 38 of Set 11 | Rawah\n",
      "Processing Record 39 of Set 11 | Muromtsevo\n",
      "Processing Record 40 of Set 11 | Mombris\n",
      "Processing Record 41 of Set 11 | Great Yarmouth\n",
      "Processing Record 42 of Set 11 | Galdar\n",
      "Processing Record 43 of Set 11 | Krasnoselkup\n",
      "Processing Record 44 of Set 11 | Oktyabrskoye\n",
      "Processing Record 45 of Set 11 | Aksarka\n",
      "Processing Record 46 of Set 11 | Buraydah\n",
      "Processing Record 47 of Set 11 | Ferme-Neuve\n",
      "-----------------------------\n",
      "Data Retrieval Complete\n",
      "-----------------------------\n"
     ]
    }
   ],
   "source": [
    "# set starting count and set for display\n",
    "count = 0\n",
    "Set = 1\n",
    "\n",
    "# Create cities dataframe\n",
    "cities_df=pd.DataFrame(cities)\n",
    "cities_df=cities_df.rename(columns={0:\"City\"})\n",
    "cities_df[\"Lat\"]=\"\"\n",
    "cities_df[\"Lng\"]=\"\"\n",
    "cities_df[\"Max Temp\"]=\"\"\n",
    "cities_df[\"Humidity\"]=\"\"\n",
    "cities_df[\"Cloudiness\"]=\"\"\n",
    "cities_df[\"Wind Speed\"]=\"\"\n",
    "cities_df[\"Country\"]=\"\"\n",
    "cities_df[\"Date\"]=\"\"\n",
    "\n",
    "# Create URL and determine units\n",
    "url = 'http://api.openweathermap.org/data/2.5/weather?q='\n",
    "\n",
    "# print initial message\n",
    "print('Beginning Data Retrieval')\n",
    "print('------------------------------')\n",
    "\n",
    "\n",
    "# use iterrows to iterate through pandas dataframe\n",
    "for index, row in cities_df.iterrows():\n",
    "#     time.sleep(0.005)\n",
    "    merge_url = url + row[\"City\"] + \"&appid=\" + weather_api_key + \"&units=metric\"\n",
    "    city_data = requests.get(merge_url).json()\n",
    "    try:\n",
    "        print(f'Processing Record {count+1} of Set {Set} | {row[\"City\"]}')\n",
    "        # inserting data into corresponding columns\n",
    "        cities_df.loc[index,\"Lat\"]=city_data[\"coord\"][\"lat\"]\n",
    "        cities_df.loc[index,\"Lng\"]=city_data[\"coord\"][\"lon\"]\n",
    "        cities_df.loc[index,\"Max Temp\"]=city_data[\"main\"][\"temp\"]\n",
    "        cities_df.loc[index,\"Humidity\"]=city_data[\"main\"][\"humidity\"]\n",
    "        cities_df.loc[index,\"Cloudiness\"]=city_data[\"clouds\"][\"all\"]\n",
    "        cities_df.loc[index,\"Wind Speed\"]=city_data[\"wind\"][\"speed\"]\n",
    "        cities_df.loc[index,\"Country\"]=city_data[\"sys\"][\"country\"]\n",
    "        cities_df.loc[index,\"Date\"]=city_data[\"dt\"]\n",
    "        count += 1\n",
    "        if count % 50 == 0:\n",
    "            Set = Set + 1\n",
    "            count = 0\n",
    "    except:\n",
    "        print(f'City \"{row[\"City\"]}\" not found. Skipping...')\n",
    "        cities_df=cities_df.drop(index)\n",
    "\n",
    "# Print last ending message\n",
    "print(\"-----------------------------\\nData Retrieval Complete\\n-----------------------------\")\n"
   ]
  },
  {
   "cell_type": "markdown",
   "metadata": {},
   "source": [
    "### Convert Raw Data to DataFrame\n",
    "* Export the city data into a .csv.\n",
    "* Display the DataFrame"
   ]
  },
  {
   "cell_type": "code",
   "execution_count": 4,
   "metadata": {
    "ExecuteTime": {
     "end_time": "2020-10-15T16:19:00.777011Z",
     "start_time": "2020-10-15T16:19:00.750163Z"
    }
   },
   "outputs": [
    {
     "data": {
      "text/html": [
       "<div>\n",
       "<style scoped>\n",
       "    .dataframe tbody tr th:only-of-type {\n",
       "        vertical-align: middle;\n",
       "    }\n",
       "\n",
       "    .dataframe tbody tr th {\n",
       "        vertical-align: top;\n",
       "    }\n",
       "\n",
       "    .dataframe thead th {\n",
       "        text-align: right;\n",
       "    }\n",
       "</style>\n",
       "<table border=\"1\" class=\"dataframe\">\n",
       "  <thead>\n",
       "    <tr style=\"text-align: right;\">\n",
       "      <th></th>\n",
       "      <th>City</th>\n",
       "      <th>Lat</th>\n",
       "      <th>Lng</th>\n",
       "      <th>Max Temp</th>\n",
       "      <th>Humidity</th>\n",
       "      <th>Cloudiness</th>\n",
       "      <th>Wind Speed</th>\n",
       "      <th>Country</th>\n",
       "      <th>Date</th>\n",
       "    </tr>\n",
       "  </thead>\n",
       "  <tbody>\n",
       "    <tr>\n",
       "      <th>0</th>\n",
       "      <td>Port Alfred</td>\n",
       "      <td>-33.59</td>\n",
       "      <td>26.89</td>\n",
       "      <td>19.72</td>\n",
       "      <td>79</td>\n",
       "      <td>0</td>\n",
       "      <td>8.55</td>\n",
       "      <td>ZA</td>\n",
       "      <td>1602778556</td>\n",
       "    </tr>\n",
       "    <tr>\n",
       "      <th>1</th>\n",
       "      <td>Georgetown</td>\n",
       "      <td>5.41</td>\n",
       "      <td>100.34</td>\n",
       "      <td>27.89</td>\n",
       "      <td>83</td>\n",
       "      <td>20</td>\n",
       "      <td>2.60</td>\n",
       "      <td>MY</td>\n",
       "      <td>1602778259</td>\n",
       "    </tr>\n",
       "    <tr>\n",
       "      <th>2</th>\n",
       "      <td>Cape Town</td>\n",
       "      <td>-33.93</td>\n",
       "      <td>18.42</td>\n",
       "      <td>17.19</td>\n",
       "      <td>72</td>\n",
       "      <td>25</td>\n",
       "      <td>10.30</td>\n",
       "      <td>ZA</td>\n",
       "      <td>1602778557</td>\n",
       "    </tr>\n",
       "    <tr>\n",
       "      <th>3</th>\n",
       "      <td>Bredasdorp</td>\n",
       "      <td>-34.53</td>\n",
       "      <td>20.04</td>\n",
       "      <td>17.00</td>\n",
       "      <td>72</td>\n",
       "      <td>23</td>\n",
       "      <td>4.10</td>\n",
       "      <td>ZA</td>\n",
       "      <td>1602778557</td>\n",
       "    </tr>\n",
       "    <tr>\n",
       "      <th>4</th>\n",
       "      <td>Sao Filipe</td>\n",
       "      <td>14.90</td>\n",
       "      <td>-24.50</td>\n",
       "      <td>28.71</td>\n",
       "      <td>70</td>\n",
       "      <td>100</td>\n",
       "      <td>3.95</td>\n",
       "      <td>CV</td>\n",
       "      <td>1602778557</td>\n",
       "    </tr>\n",
       "  </tbody>\n",
       "</table>\n",
       "</div>"
      ],
      "text/plain": [
       "          City    Lat     Lng  Max Temp  Humidity  Cloudiness  Wind Speed  \\\n",
       "0  Port Alfred -33.59   26.89     19.72        79           0        8.55   \n",
       "1   Georgetown   5.41  100.34     27.89        83          20        2.60   \n",
       "2    Cape Town -33.93   18.42     17.19        72          25       10.30   \n",
       "3   Bredasdorp -34.53   20.04     17.00        72          23        4.10   \n",
       "4   Sao Filipe  14.90  -24.50     28.71        70         100        3.95   \n",
       "\n",
       "  Country        Date  \n",
       "0      ZA  1602778556  \n",
       "1      MY  1602778259  \n",
       "2      ZA  1602778557  \n",
       "3      ZA  1602778557  \n",
       "4      CV  1602778557  "
      ]
     },
     "execution_count": 4,
     "metadata": {},
     "output_type": "execute_result"
    }
   ],
   "source": [
    "# Write dataframe to csv\n",
    "cities_df.to_csv(r'output_data/Cities_Data.csv',index=False)\n",
    "\n",
    "# Copy CSV to dataframe\n",
    "csv_df = pd.read_csv(\"output_data/Cities_Data.csv\")\n",
    "csv_df.head()"
   ]
  },
  {
   "cell_type": "code",
   "execution_count": 5,
   "metadata": {
    "ExecuteTime": {
     "end_time": "2020-10-15T16:19:00.803250Z",
     "start_time": "2020-10-15T16:19:00.778568Z"
    }
   },
   "outputs": [
    {
     "data": {
      "text/html": [
       "<div>\n",
       "<style scoped>\n",
       "    .dataframe tbody tr th:only-of-type {\n",
       "        vertical-align: middle;\n",
       "    }\n",
       "\n",
       "    .dataframe tbody tr th {\n",
       "        vertical-align: top;\n",
       "    }\n",
       "\n",
       "    .dataframe thead th {\n",
       "        text-align: right;\n",
       "    }\n",
       "</style>\n",
       "<table border=\"1\" class=\"dataframe\">\n",
       "  <thead>\n",
       "    <tr style=\"text-align: right;\">\n",
       "      <th></th>\n",
       "      <th>Lat</th>\n",
       "      <th>Lng</th>\n",
       "      <th>Max Temp</th>\n",
       "      <th>Humidity</th>\n",
       "      <th>Cloudiness</th>\n",
       "      <th>Wind Speed</th>\n",
       "      <th>Date</th>\n",
       "    </tr>\n",
       "  </thead>\n",
       "  <tbody>\n",
       "    <tr>\n",
       "      <th>count</th>\n",
       "      <td>547.000000</td>\n",
       "      <td>547.000000</td>\n",
       "      <td>547.000000</td>\n",
       "      <td>547.000000</td>\n",
       "      <td>547.000000</td>\n",
       "      <td>547.000000</td>\n",
       "      <td>5.470000e+02</td>\n",
       "    </tr>\n",
       "    <tr>\n",
       "      <th>mean</th>\n",
       "      <td>18.971188</td>\n",
       "      <td>0.619214</td>\n",
       "      <td>20.414497</td>\n",
       "      <td>62.385740</td>\n",
       "      <td>44.934186</td>\n",
       "      <td>3.762011</td>\n",
       "      <td>1.602779e+09</td>\n",
       "    </tr>\n",
       "    <tr>\n",
       "      <th>std</th>\n",
       "      <td>31.561602</td>\n",
       "      <td>55.748990</td>\n",
       "      <td>10.274533</td>\n",
       "      <td>23.990444</td>\n",
       "      <td>37.083650</td>\n",
       "      <td>2.331840</td>\n",
       "      <td>6.740616e+01</td>\n",
       "    </tr>\n",
       "    <tr>\n",
       "      <th>min</th>\n",
       "      <td>-54.800000</td>\n",
       "      <td>-121.980000</td>\n",
       "      <td>-4.000000</td>\n",
       "      <td>6.000000</td>\n",
       "      <td>0.000000</td>\n",
       "      <td>0.280000</td>\n",
       "      <td>1.602778e+09</td>\n",
       "    </tr>\n",
       "    <tr>\n",
       "      <th>25%</th>\n",
       "      <td>-6.950000</td>\n",
       "      <td>-53.545000</td>\n",
       "      <td>12.195000</td>\n",
       "      <td>47.000000</td>\n",
       "      <td>4.000000</td>\n",
       "      <td>2.100000</td>\n",
       "      <td>1.602779e+09</td>\n",
       "    </tr>\n",
       "    <tr>\n",
       "      <th>50%</th>\n",
       "      <td>20.930000</td>\n",
       "      <td>12.980000</td>\n",
       "      <td>22.000000</td>\n",
       "      <td>67.000000</td>\n",
       "      <td>40.000000</td>\n",
       "      <td>3.400000</td>\n",
       "      <td>1.602779e+09</td>\n",
       "    </tr>\n",
       "    <tr>\n",
       "      <th>75%</th>\n",
       "      <td>44.880000</td>\n",
       "      <td>37.800000</td>\n",
       "      <td>28.000000</td>\n",
       "      <td>80.000000</td>\n",
       "      <td>77.000000</td>\n",
       "      <td>4.865000</td>\n",
       "      <td>1.602779e+09</td>\n",
       "    </tr>\n",
       "    <tr>\n",
       "      <th>max</th>\n",
       "      <td>78.220000</td>\n",
       "      <td>168.940000</td>\n",
       "      <td>42.000000</td>\n",
       "      <td>100.000000</td>\n",
       "      <td>100.000000</td>\n",
       "      <td>16.500000</td>\n",
       "      <td>1.602779e+09</td>\n",
       "    </tr>\n",
       "  </tbody>\n",
       "</table>\n",
       "</div>"
      ],
      "text/plain": [
       "              Lat         Lng    Max Temp    Humidity  Cloudiness  Wind Speed  \\\n",
       "count  547.000000  547.000000  547.000000  547.000000  547.000000  547.000000   \n",
       "mean    18.971188    0.619214   20.414497   62.385740   44.934186    3.762011   \n",
       "std     31.561602   55.748990   10.274533   23.990444   37.083650    2.331840   \n",
       "min    -54.800000 -121.980000   -4.000000    6.000000    0.000000    0.280000   \n",
       "25%     -6.950000  -53.545000   12.195000   47.000000    4.000000    2.100000   \n",
       "50%     20.930000   12.980000   22.000000   67.000000   40.000000    3.400000   \n",
       "75%     44.880000   37.800000   28.000000   80.000000   77.000000    4.865000   \n",
       "max     78.220000  168.940000   42.000000  100.000000  100.000000   16.500000   \n",
       "\n",
       "               Date  \n",
       "count  5.470000e+02  \n",
       "mean   1.602779e+09  \n",
       "std    6.740616e+01  \n",
       "min    1.602778e+09  \n",
       "25%    1.602779e+09  \n",
       "50%    1.602779e+09  \n",
       "75%    1.602779e+09  \n",
       "max    1.602779e+09  "
      ]
     },
     "execution_count": 5,
     "metadata": {},
     "output_type": "execute_result"
    }
   ],
   "source": [
    "# display summary table\n",
    "csv_df.describe()"
   ]
  },
  {
   "cell_type": "markdown",
   "metadata": {},
   "source": [
    "## Inspect the data and remove the cities where the humidity > 100%.\n",
    "----\n",
    "Skip this step if there are no cities that have humidity > 100%. "
   ]
  },
  {
   "cell_type": "code",
   "execution_count": 6,
   "metadata": {
    "ExecuteTime": {
     "end_time": "2020-10-15T16:19:00.811807Z",
     "start_time": "2020-10-15T16:19:00.804970Z"
    }
   },
   "outputs": [
    {
     "data": {
      "text/plain": [
       "Int64Index([], dtype='int64')"
      ]
     },
     "execution_count": 6,
     "metadata": {},
     "output_type": "execute_result"
    }
   ],
   "source": [
    "#  Get the indices of cities that have humidity over 100%.\n",
    "humid100 = csv_df[csv_df.Humidity > 100].index\n",
    "humid100\n",
    "# no city with humidity > 100%"
   ]
  },
  {
   "cell_type": "code",
   "execution_count": 24,
   "metadata": {
    "ExecuteTime": {
     "end_time": "2020-10-15T16:24:08.727933Z",
     "start_time": "2020-10-15T16:24:08.711874Z"
    }
   },
   "outputs": [
    {
     "data": {
      "text/html": [
       "<div>\n",
       "<style scoped>\n",
       "    .dataframe tbody tr th:only-of-type {\n",
       "        vertical-align: middle;\n",
       "    }\n",
       "\n",
       "    .dataframe tbody tr th {\n",
       "        vertical-align: top;\n",
       "    }\n",
       "\n",
       "    .dataframe thead th {\n",
       "        text-align: right;\n",
       "    }\n",
       "</style>\n",
       "<table border=\"1\" class=\"dataframe\">\n",
       "  <thead>\n",
       "    <tr style=\"text-align: right;\">\n",
       "      <th></th>\n",
       "      <th>City</th>\n",
       "      <th>Lat</th>\n",
       "      <th>Lng</th>\n",
       "      <th>Max Temp</th>\n",
       "      <th>Humidity</th>\n",
       "      <th>Cloudiness</th>\n",
       "      <th>Wind Speed</th>\n",
       "      <th>Country</th>\n",
       "      <th>Date</th>\n",
       "    </tr>\n",
       "  </thead>\n",
       "  <tbody>\n",
       "    <tr>\n",
       "      <th>0</th>\n",
       "      <td>Port Alfred</td>\n",
       "      <td>-33.59</td>\n",
       "      <td>26.89</td>\n",
       "      <td>19.72</td>\n",
       "      <td>79</td>\n",
       "      <td>0</td>\n",
       "      <td>8.55</td>\n",
       "      <td>ZA</td>\n",
       "      <td>1602778556</td>\n",
       "    </tr>\n",
       "    <tr>\n",
       "      <th>1</th>\n",
       "      <td>Georgetown</td>\n",
       "      <td>5.41</td>\n",
       "      <td>100.34</td>\n",
       "      <td>27.89</td>\n",
       "      <td>83</td>\n",
       "      <td>20</td>\n",
       "      <td>2.60</td>\n",
       "      <td>MY</td>\n",
       "      <td>1602778259</td>\n",
       "    </tr>\n",
       "    <tr>\n",
       "      <th>2</th>\n",
       "      <td>Cape Town</td>\n",
       "      <td>-33.93</td>\n",
       "      <td>18.42</td>\n",
       "      <td>17.19</td>\n",
       "      <td>72</td>\n",
       "      <td>25</td>\n",
       "      <td>10.30</td>\n",
       "      <td>ZA</td>\n",
       "      <td>1602778557</td>\n",
       "    </tr>\n",
       "    <tr>\n",
       "      <th>3</th>\n",
       "      <td>Bredasdorp</td>\n",
       "      <td>-34.53</td>\n",
       "      <td>20.04</td>\n",
       "      <td>17.00</td>\n",
       "      <td>72</td>\n",
       "      <td>23</td>\n",
       "      <td>4.10</td>\n",
       "      <td>ZA</td>\n",
       "      <td>1602778557</td>\n",
       "    </tr>\n",
       "    <tr>\n",
       "      <th>4</th>\n",
       "      <td>Sao Filipe</td>\n",
       "      <td>14.90</td>\n",
       "      <td>-24.50</td>\n",
       "      <td>28.71</td>\n",
       "      <td>70</td>\n",
       "      <td>100</td>\n",
       "      <td>3.95</td>\n",
       "      <td>CV</td>\n",
       "      <td>1602778557</td>\n",
       "    </tr>\n",
       "    <tr>\n",
       "      <th>...</th>\n",
       "      <td>...</td>\n",
       "      <td>...</td>\n",
       "      <td>...</td>\n",
       "      <td>...</td>\n",
       "      <td>...</td>\n",
       "      <td>...</td>\n",
       "      <td>...</td>\n",
       "      <td>...</td>\n",
       "      <td>...</td>\n",
       "    </tr>\n",
       "    <tr>\n",
       "      <th>542</th>\n",
       "      <td>Krasnoselkup</td>\n",
       "      <td>65.70</td>\n",
       "      <td>82.47</td>\n",
       "      <td>-1.42</td>\n",
       "      <td>95</td>\n",
       "      <td>99</td>\n",
       "      <td>6.32</td>\n",
       "      <td>RU</td>\n",
       "      <td>1602778739</td>\n",
       "    </tr>\n",
       "    <tr>\n",
       "      <th>543</th>\n",
       "      <td>Oktyabrskoye</td>\n",
       "      <td>43.06</td>\n",
       "      <td>44.74</td>\n",
       "      <td>15.78</td>\n",
       "      <td>59</td>\n",
       "      <td>98</td>\n",
       "      <td>2.00</td>\n",
       "      <td>RU</td>\n",
       "      <td>1602778739</td>\n",
       "    </tr>\n",
       "    <tr>\n",
       "      <th>544</th>\n",
       "      <td>Aksarka</td>\n",
       "      <td>66.56</td>\n",
       "      <td>67.80</td>\n",
       "      <td>-0.66</td>\n",
       "      <td>93</td>\n",
       "      <td>28</td>\n",
       "      <td>6.13</td>\n",
       "      <td>RU</td>\n",
       "      <td>1602778740</td>\n",
       "    </tr>\n",
       "    <tr>\n",
       "      <th>545</th>\n",
       "      <td>Buraydah</td>\n",
       "      <td>26.33</td>\n",
       "      <td>43.98</td>\n",
       "      <td>32.00</td>\n",
       "      <td>19</td>\n",
       "      <td>0</td>\n",
       "      <td>4.10</td>\n",
       "      <td>SA</td>\n",
       "      <td>1602778740</td>\n",
       "    </tr>\n",
       "    <tr>\n",
       "      <th>546</th>\n",
       "      <td>Ferme-Neuve</td>\n",
       "      <td>46.70</td>\n",
       "      <td>-75.45</td>\n",
       "      <td>11.28</td>\n",
       "      <td>91</td>\n",
       "      <td>100</td>\n",
       "      <td>4.75</td>\n",
       "      <td>CA</td>\n",
       "      <td>1602778740</td>\n",
       "    </tr>\n",
       "  </tbody>\n",
       "</table>\n",
       "<p>547 rows × 9 columns</p>\n",
       "</div>"
      ],
      "text/plain": [
       "             City    Lat     Lng  Max Temp  Humidity  Cloudiness  Wind Speed  \\\n",
       "0     Port Alfred -33.59   26.89     19.72        79           0        8.55   \n",
       "1      Georgetown   5.41  100.34     27.89        83          20        2.60   \n",
       "2       Cape Town -33.93   18.42     17.19        72          25       10.30   \n",
       "3      Bredasdorp -34.53   20.04     17.00        72          23        4.10   \n",
       "4      Sao Filipe  14.90  -24.50     28.71        70         100        3.95   \n",
       "..            ...    ...     ...       ...       ...         ...         ...   \n",
       "542  Krasnoselkup  65.70   82.47     -1.42        95          99        6.32   \n",
       "543  Oktyabrskoye  43.06   44.74     15.78        59          98        2.00   \n",
       "544       Aksarka  66.56   67.80     -0.66        93          28        6.13   \n",
       "545      Buraydah  26.33   43.98     32.00        19           0        4.10   \n",
       "546   Ferme-Neuve  46.70  -75.45     11.28        91         100        4.75   \n",
       "\n",
       "    Country        Date  \n",
       "0        ZA  1602778556  \n",
       "1        MY  1602778259  \n",
       "2        ZA  1602778557  \n",
       "3        ZA  1602778557  \n",
       "4        CV  1602778557  \n",
       "..      ...         ...  \n",
       "542      RU  1602778739  \n",
       "543      RU  1602778739  \n",
       "544      RU  1602778740  \n",
       "545      SA  1602778740  \n",
       "546      CA  1602778740  \n",
       "\n",
       "[547 rows x 9 columns]"
      ]
     },
     "execution_count": 24,
     "metadata": {},
     "output_type": "execute_result"
    }
   ],
   "source": [
    "# Make a new DataFrame equal to the city data to drop all humidity outliers by index.\n",
    "# Passing \"inplace=False\" will make a copy of the city_data DataFrame, which we call \"clean_city_data\".\n",
    "clean_city_data = csv_df.drop(csv_df.index[humid100], inplace=False)\n",
    "clean_city_data"
   ]
  },
  {
   "cell_type": "code",
   "execution_count": 25,
   "metadata": {
    "ExecuteTime": {
     "end_time": "2020-10-15T16:24:09.765336Z",
     "start_time": "2020-10-15T16:24:09.742416Z"
    }
   },
   "outputs": [
    {
     "data": {
      "text/html": [
       "<div>\n",
       "<style scoped>\n",
       "    .dataframe tbody tr th:only-of-type {\n",
       "        vertical-align: middle;\n",
       "    }\n",
       "\n",
       "    .dataframe tbody tr th {\n",
       "        vertical-align: top;\n",
       "    }\n",
       "\n",
       "    .dataframe thead th {\n",
       "        text-align: right;\n",
       "    }\n",
       "</style>\n",
       "<table border=\"1\" class=\"dataframe\">\n",
       "  <thead>\n",
       "    <tr style=\"text-align: right;\">\n",
       "      <th></th>\n",
       "      <th>Lat</th>\n",
       "      <th>Lng</th>\n",
       "      <th>Max Temp</th>\n",
       "      <th>Humidity</th>\n",
       "      <th>Cloudiness</th>\n",
       "      <th>Wind Speed</th>\n",
       "      <th>Date</th>\n",
       "    </tr>\n",
       "  </thead>\n",
       "  <tbody>\n",
       "    <tr>\n",
       "      <th>count</th>\n",
       "      <td>547.000000</td>\n",
       "      <td>547.000000</td>\n",
       "      <td>547.000000</td>\n",
       "      <td>547.000000</td>\n",
       "      <td>547.000000</td>\n",
       "      <td>547.000000</td>\n",
       "      <td>5.470000e+02</td>\n",
       "    </tr>\n",
       "    <tr>\n",
       "      <th>mean</th>\n",
       "      <td>18.971188</td>\n",
       "      <td>0.619214</td>\n",
       "      <td>20.414497</td>\n",
       "      <td>62.385740</td>\n",
       "      <td>44.934186</td>\n",
       "      <td>3.762011</td>\n",
       "      <td>1.602779e+09</td>\n",
       "    </tr>\n",
       "    <tr>\n",
       "      <th>std</th>\n",
       "      <td>31.561602</td>\n",
       "      <td>55.748990</td>\n",
       "      <td>10.274533</td>\n",
       "      <td>23.990444</td>\n",
       "      <td>37.083650</td>\n",
       "      <td>2.331840</td>\n",
       "      <td>6.740616e+01</td>\n",
       "    </tr>\n",
       "    <tr>\n",
       "      <th>min</th>\n",
       "      <td>-54.800000</td>\n",
       "      <td>-121.980000</td>\n",
       "      <td>-4.000000</td>\n",
       "      <td>6.000000</td>\n",
       "      <td>0.000000</td>\n",
       "      <td>0.280000</td>\n",
       "      <td>1.602778e+09</td>\n",
       "    </tr>\n",
       "    <tr>\n",
       "      <th>25%</th>\n",
       "      <td>-6.950000</td>\n",
       "      <td>-53.545000</td>\n",
       "      <td>12.195000</td>\n",
       "      <td>47.000000</td>\n",
       "      <td>4.000000</td>\n",
       "      <td>2.100000</td>\n",
       "      <td>1.602779e+09</td>\n",
       "    </tr>\n",
       "    <tr>\n",
       "      <th>50%</th>\n",
       "      <td>20.930000</td>\n",
       "      <td>12.980000</td>\n",
       "      <td>22.000000</td>\n",
       "      <td>67.000000</td>\n",
       "      <td>40.000000</td>\n",
       "      <td>3.400000</td>\n",
       "      <td>1.602779e+09</td>\n",
       "    </tr>\n",
       "    <tr>\n",
       "      <th>75%</th>\n",
       "      <td>44.880000</td>\n",
       "      <td>37.800000</td>\n",
       "      <td>28.000000</td>\n",
       "      <td>80.000000</td>\n",
       "      <td>77.000000</td>\n",
       "      <td>4.865000</td>\n",
       "      <td>1.602779e+09</td>\n",
       "    </tr>\n",
       "    <tr>\n",
       "      <th>max</th>\n",
       "      <td>78.220000</td>\n",
       "      <td>168.940000</td>\n",
       "      <td>42.000000</td>\n",
       "      <td>100.000000</td>\n",
       "      <td>100.000000</td>\n",
       "      <td>16.500000</td>\n",
       "      <td>1.602779e+09</td>\n",
       "    </tr>\n",
       "  </tbody>\n",
       "</table>\n",
       "</div>"
      ],
      "text/plain": [
       "              Lat         Lng    Max Temp    Humidity  Cloudiness  Wind Speed  \\\n",
       "count  547.000000  547.000000  547.000000  547.000000  547.000000  547.000000   \n",
       "mean    18.971188    0.619214   20.414497   62.385740   44.934186    3.762011   \n",
       "std     31.561602   55.748990   10.274533   23.990444   37.083650    2.331840   \n",
       "min    -54.800000 -121.980000   -4.000000    6.000000    0.000000    0.280000   \n",
       "25%     -6.950000  -53.545000   12.195000   47.000000    4.000000    2.100000   \n",
       "50%     20.930000   12.980000   22.000000   67.000000   40.000000    3.400000   \n",
       "75%     44.880000   37.800000   28.000000   80.000000   77.000000    4.865000   \n",
       "max     78.220000  168.940000   42.000000  100.000000  100.000000   16.500000   \n",
       "\n",
       "               Date  \n",
       "count  5.470000e+02  \n",
       "mean   1.602779e+09  \n",
       "std    6.740616e+01  \n",
       "min    1.602778e+09  \n",
       "25%    1.602779e+09  \n",
       "50%    1.602779e+09  \n",
       "75%    1.602779e+09  \n",
       "max    1.602779e+09  "
      ]
     },
     "execution_count": 25,
     "metadata": {},
     "output_type": "execute_result"
    }
   ],
   "source": [
    "# confirm the maximum humidity in the clean_city_data\n",
    "clean_city_data.describe()"
   ]
  },
  {
   "cell_type": "markdown",
   "metadata": {},
   "source": [
    "## Plotting the Data\n",
    "* Use proper labeling of the plots using plot titles (including date of analysis) and axes labels.\n",
    "* Save the plotted figures as .pngs."
   ]
  },
  {
   "cell_type": "markdown",
   "metadata": {},
   "source": [
    "## Latitude vs. Temperature Plot"
   ]
  },
  {
   "cell_type": "code",
   "execution_count": 26,
   "metadata": {
    "ExecuteTime": {
     "end_time": "2020-10-15T16:24:11.865766Z",
     "start_time": "2020-10-15T16:24:11.682270Z"
    }
   },
   "outputs": [
    {
     "data": {
      "image/png": "[encoded data removed]",
      "text/plain": [
       "<Figure size 432x288 with 1 Axes>"
      ]
     },
     "metadata": {
      "needs_background": "light"
     },
     "output_type": "display_data"
    }
   ],
   "source": [
    "# capture the date that the script would run\n",
    "date=time.strftime('%m/%d/%y')\n",
    "\n",
    "plt.scatter(clean_city_data[\"Lat\"], clean_city_data[\"Max Temp\"], color = \"cornflowerblue\", marker = \"o\", alpha = \".8\")\n",
    "plt.grid(b=True, alpha = 0.5)\n",
    "plt.xlabel(\"Latitude\")\n",
    "plt.ylabel('Max Temperature (ºC)')\n",
    "plt.title(f\"City Latitude vs. Max. Temperature ({date})\")\n",
    "\n",
    "plt.savefig('output_data/Fig 1 - Lat_vs_Temp.png')\n",
    "plt.show()"
   ]
  },
  {
   "cell_type": "markdown",
   "metadata": {},
   "source": [
    "## Latitude vs. Humidity Plot"
   ]
  },
  {
   "cell_type": "code",
   "execution_count": 27,
   "metadata": {
    "ExecuteTime": {
     "end_time": "2020-10-15T16:24:12.669611Z",
     "start_time": "2020-10-15T16:24:12.505235Z"
    }
   },
   "outputs": [
    {
     "data": {
      "image/png": "[encoded data removed]",
      "text/plain": [
       "<Figure size 432x288 with 1 Axes>"
      ]
     },
     "metadata": {
      "needs_background": "light"
     },
     "output_type": "display_data"
    }
   ],
   "source": [
    "plt.scatter(clean_city_data['Lat'], clean_city_data['Humidity'], color = \"cornflowerblue\", marker = \"o\", alpha = \".8\")\n",
    "plt.grid(b=True, alpha = 0.5)\n",
    "plt.xlabel(\"Latitude\")\n",
    "plt.ylabel(\"Humidity (%)\")\n",
    "plt.title(f\"City Latitude vs. Humidity ({date})\")\n",
    "\n",
    "plt.savefig('output_data/Fig 2 - Lat_vs_Hum.png')\n",
    "plt.show()"
   ]
  },
  {
   "cell_type": "markdown",
   "metadata": {},
   "source": [
    "## Latitude vs. Cloudiness Plot"
   ]
  },
  {
   "cell_type": "code",
   "execution_count": 28,
   "metadata": {
    "ExecuteTime": {
     "end_time": "2020-10-15T16:24:13.104025Z",
     "start_time": "2020-10-15T16:24:12.826171Z"
    }
   },
   "outputs": [
    {
     "data": {
      "image/png": "[encoded data removed]",
      "text/plain": [
       "<Figure size 432x288 with 1 Axes>"
      ]
     },
     "metadata": {
      "needs_background": "light"
     },
     "output_type": "display_data"
    }
   ],
   "source": [
    "plt.scatter(clean_city_data['Lat'], clean_city_data['Cloudiness'], color = \"cornflowerblue\", marker = \"o\", alpha = \".8\")\n",
    "plt.grid(b=True, alpha = 0.5)\n",
    "plt.xlabel(\"Latitude\")\n",
    "plt.ylabel(\"Cloudiness (%)\")\n",
    "plt.title(f\"City Latitude vs. Cloudiness ({date})\")\n",
    "\n",
    "plt.savefig('output_data/Fig 3 - Lat_vs_Cld.png')\n",
    "plt.show()"
   ]
  },
  {
   "cell_type": "markdown",
   "metadata": {},
   "source": [
    "## Latitude vs. Wind Speed Plot"
   ]
  },
  {
   "cell_type": "code",
   "execution_count": 29,
   "metadata": {
    "ExecuteTime": {
     "end_time": "2020-10-15T16:24:13.334895Z",
     "start_time": "2020-10-15T16:24:13.137314Z"
    }
   },
   "outputs": [
    {
     "data": {
      "image/png": "[encoded data removed]",
      "text/plain": [
       "<Figure size 432x288 with 1 Axes>"
      ]
     },
     "metadata": {
      "needs_background": "light"
     },
     "output_type": "display_data"
    }
   ],
   "source": [
    "plt.scatter(clean_city_data['Lat'], clean_city_data['Wind Speed'], color = \"cornflowerblue\", marker = \"o\", alpha = \".8\")\n",
    "plt.grid(b=True, alpha = 0.5)\n",
    "plt.xlabel(\"Latitude\")\n",
    "plt.ylabel(\"Wind Speed (m/s)\")\n",
    "plt.title(f\"City Latitude vs. Wind Speed ({date})\")\n",
    "\n",
    "plt.savefig('output_data/Fig 4 - Lat_vs_Wnd.png')\n",
    "plt.show()"
   ]
  },
  {
   "cell_type": "markdown",
   "metadata": {},
   "source": [
    "## Linear Regression"
   ]
  },
  {
   "cell_type": "code",
   "execution_count": 30,
   "metadata": {
    "ExecuteTime": {
     "end_time": "2020-10-15T16:24:13.403662Z",
     "start_time": "2020-10-15T16:24:13.400092Z"
    }
   },
   "outputs": [],
   "source": [
    "# split dataframe into northern and southern hemisphere\n",
    "n_csv = clean_city_data[clean_city_data[\"Lat\"]>=0]\n",
    "s_csv = clean_city_data[clean_city_data[\"Lat\"]<0]"
   ]
  },
  {
   "cell_type": "markdown",
   "metadata": {},
   "source": [
    "####  Northern Hemisphere - Max Temp vs. Latitude Linear Regression"
   ]
  },
  {
   "cell_type": "code",
   "execution_count": 31,
   "metadata": {
    "ExecuteTime": {
     "end_time": "2020-10-15T16:24:14.255562Z",
     "start_time": "2020-10-15T16:24:14.138326Z"
    }
   },
   "outputs": [
    {
     "name": "stdout",
     "output_type": "stream",
     "text": [
      "The r-value is: 0.7624128100938902\n"
     ]
    },
    {
     "data": {
      "image/png": "[encoded data removed]",
      "text/plain": [
       "<Figure size 432x288 with 1 Axes>"
      ]
     },
     "metadata": {
      "needs_background": "light"
     },
     "output_type": "display_data"
    }
   ],
   "source": [
    "x_values = n_csv[\"Lat\"]\n",
    "y_values = n_csv[\"Max Temp\"]\n",
    "(slope, intercept, rvalue, pvalue, stderr) = linregress(x_values, y_values)\n",
    "regress_values = x_values * slope + intercept\n",
    "line_eq = \"y = \" + str(round(slope,2)) + \"x + \" + str(round(intercept,2))\n",
    "\n",
    "plt.scatter(x_values,y_values)\n",
    "plt.plot(x_values,regress_values,\"r-\")\n",
    "plt.annotate(line_eq,(2,-1),fontsize=15,color=\"red\")\n",
    "plt.xlabel(\"Latitude\")\n",
    "plt.ylabel(\"Max Temp\")\n",
    "\n",
    "print(f\"The r-value is: {rvalue**2}\")\n",
    "plt.show()"
   ]
  },
  {
   "cell_type": "markdown",
   "metadata": {},
   "source": [
    "####  Southern Hemisphere - Max Temp vs. Latitude Linear Regression"
   ]
  },
  {
   "cell_type": "code",
   "execution_count": 32,
   "metadata": {
    "ExecuteTime": {
     "end_time": "2020-10-15T16:24:15.009741Z",
     "start_time": "2020-10-15T16:24:14.891289Z"
    }
   },
   "outputs": [
    {
     "name": "stdout",
     "output_type": "stream",
     "text": [
      "The r-value is: 0.23686561380270338\n"
     ]
    },
    {
     "data": {
      "image/png": "[encoded data removed]",
      "text/plain": [
       "<Figure size 432x288 with 1 Axes>"
      ]
     },
     "metadata": {
      "needs_background": "light"
     },
     "output_type": "display_data"
    }
   ],
   "source": [
    "x_values = s_csv[\"Lat\"]\n",
    "y_values = s_csv[\"Max Temp\"]\n",
    "(slope, intercept, rvalue, pvalue, stderr) = linregress(x_values, y_values)\n",
    "regress_values = x_values * slope + intercept\n",
    "line_eq = \"y = \" + str(round(slope,2)) + \"x + \" + str(round(intercept,2))\n",
    "\n",
    "plt.scatter(x_values,y_values)\n",
    "plt.plot(x_values,regress_values,\"r-\")\n",
    "plt.annotate(line_eq,(-55,36),fontsize=15,color=\"red\")\n",
    "plt.xlabel(\"Latitude\")\n",
    "plt.ylabel(\"Max Temp\")\n",
    "\n",
    "print(f\"The r-value is: {rvalue**2}\")\n",
    "plt.show()"
   ]
  },
  {
   "cell_type": "markdown",
   "metadata": {},
   "source": [
    "####  Northern Hemisphere - Humidity (%) vs. Latitude Linear Regression"
   ]
  },
  {
   "cell_type": "code",
   "execution_count": 33,
   "metadata": {
    "ExecuteTime": {
     "end_time": "2020-10-15T16:24:15.638134Z",
     "start_time": "2020-10-15T16:24:15.521754Z"
    }
   },
   "outputs": [
    {
     "name": "stdout",
     "output_type": "stream",
     "text": [
      "The r-value is: 0.10488449517783112\n"
     ]
    },
    {
     "data": {
      "image/png": "[encoded data removed]",
      "text/plain": [
       "<Figure size 432x288 with 1 Axes>"
      ]
     },
     "metadata": {
      "needs_background": "light"
     },
     "output_type": "display_data"
    }
   ],
   "source": [
    "x_values = n_csv[\"Lat\"]\n",
    "y_values = n_csv[\"Humidity\"]\n",
    "(slope, intercept, rvalue, pvalue, stderr) = linregress(x_values, y_values)\n",
    "regress_values = x_values * slope + intercept\n",
    "line_eq = \"y = \" + str(round(slope,2)) + \"x + \" + str(round(intercept,2))\n",
    "\n",
    "plt.scatter(x_values,y_values)\n",
    "plt.plot(x_values,regress_values,\"r-\")\n",
    "plt.annotate(line_eq,(45,10),fontsize=15,color=\"red\")\n",
    "plt.xlabel(\"Latitude\")\n",
    "plt.ylabel(\"Humidity\")\n",
    "\n",
    "print(f\"The r-value is: {rvalue**2}\")\n",
    "plt.show()"
   ]
  },
  {
   "cell_type": "markdown",
   "metadata": {},
   "source": [
    "####  Southern Hemisphere - Humidity (%) vs. Latitude Linear Regression"
   ]
  },
  {
   "cell_type": "code",
   "execution_count": 34,
   "metadata": {
    "ExecuteTime": {
     "end_time": "2020-10-15T16:24:16.364337Z",
     "start_time": "2020-10-15T16:24:16.253410Z"
    }
   },
   "outputs": [
    {
     "name": "stdout",
     "output_type": "stream",
     "text": [
      "The r-value is: 0.011921943951405901\n"
     ]
    },
    {
     "data": {
      "image/png": "[encoded data removed]",
      "text/plain": [
       "<Figure size 432x288 with 1 Axes>"
      ]
     },
     "metadata": {
      "needs_background": "light"
     },
     "output_type": "display_data"
    }
   ],
   "source": [
    "x_values = s_csv[\"Lat\"]\n",
    "y_values = s_csv[\"Humidity\"]\n",
    "(slope, intercept, rvalue, pvalue, stderr) = linregress(x_values, y_values)\n",
    "regress_values = x_values * slope + intercept\n",
    "line_eq = \"y = \" + str(round(slope,2)) + \"x + \" + str(round(intercept,2))\n",
    "\n",
    "plt.scatter(x_values,y_values)\n",
    "plt.plot(x_values,regress_values,\"r-\")\n",
    "plt.annotate(line_eq,(-55,90),fontsize=15,color=\"red\")\n",
    "plt.xlabel(\"Latitude\")\n",
    "plt.ylabel(\"Humidity\")\n",
    "\n",
    "print(f\"The r-value is: {rvalue**2}\")\n",
    "plt.show()"
   ]
  },
  {
   "cell_type": "markdown",
   "metadata": {},
   "source": [
    "####  Northern Hemisphere - Cloudiness (%) vs. Latitude Linear Regression"
   ]
  },
  {
   "cell_type": "code",
   "execution_count": 35,
   "metadata": {
    "ExecuteTime": {
     "end_time": "2020-10-15T16:24:17.048896Z",
     "start_time": "2020-10-15T16:24:16.924625Z"
    }
   },
   "outputs": [
    {
     "name": "stdout",
     "output_type": "stream",
     "text": [
      "The r-value is: 0.044622457684556825\n"
     ]
    },
    {
     "data": {
      "image/png": "[encoded data removed]",
      "text/plain": [
       "<Figure size 432x288 with 1 Axes>"
      ]
     },
     "metadata": {
      "needs_background": "light"
     },
     "output_type": "display_data"
    }
   ],
   "source": [
    "x_values = n_csv[\"Lat\"]\n",
    "y_values = n_csv[\"Cloudiness\"]\n",
    "(slope, intercept, rvalue, pvalue, stderr) = linregress(x_values, y_values)\n",
    "regress_values = x_values * slope + intercept\n",
    "line_eq = \"y = \" + str(round(slope,2)) + \"x + \" + str(round(intercept,2))\n",
    "\n",
    "plt.scatter(x_values,y_values)\n",
    "plt.plot(x_values,regress_values,\"r-\")\n",
    "plt.annotate(line_eq,(45,10),fontsize=15,color=\"red\")\n",
    "plt.xlabel(\"Latitude\")\n",
    "plt.ylabel(\"Cloudiness\")\n",
    "\n",
    "print(f\"The r-value is: {rvalue**2}\")\n",
    "plt.show()"
   ]
  },
  {
   "cell_type": "markdown",
   "metadata": {},
   "source": [
    "####  Southern Hemisphere - Cloudiness (%) vs. Latitude Linear Regression"
   ]
  },
  {
   "cell_type": "code",
   "execution_count": 36,
   "metadata": {
    "ExecuteTime": {
     "end_time": "2020-10-15T16:24:17.724308Z",
     "start_time": "2020-10-15T16:24:17.613501Z"
    }
   },
   "outputs": [
    {
     "name": "stdout",
     "output_type": "stream",
     "text": [
      "The r-value is: 0.09026545898874289\n"
     ]
    },
    {
     "data": {
      "image/png": "[encoded data removed]",
      "text/plain": [
       "<Figure size 432x288 with 1 Axes>"
      ]
     },
     "metadata": {
      "needs_background": "light"
     },
     "output_type": "display_data"
    }
   ],
   "source": [
    "x_values = s_csv[\"Lat\"]\n",
    "y_values = s_csv[\"Cloudiness\"]\n",
    "(slope, intercept, rvalue, pvalue, stderr) = linregress(x_values, y_values)\n",
    "regress_values = x_values * slope + intercept\n",
    "line_eq = \"y = \" + str(round(slope,2)) + \"x + \" + str(round(intercept,2))\n",
    "\n",
    "plt.scatter(x_values,y_values)\n",
    "plt.plot(x_values,regress_values,\"r-\")\n",
    "plt.annotate(line_eq,(-55,7),fontsize=15,color=\"red\")\n",
    "plt.xlabel(\"Latitude\")\n",
    "plt.ylabel(\"Cloudiness\")\n",
    "\n",
    "print(f\"The r-value is: {rvalue**2}\")\n",
    "plt.show()"
   ]
  },
  {
   "cell_type": "markdown",
   "metadata": {},
   "source": [
    "####  Northern Hemisphere - Wind Speed (mph) vs. Latitude Linear Regression"
   ]
  },
  {
   "cell_type": "code",
   "execution_count": 37,
   "metadata": {
    "ExecuteTime": {
     "end_time": "2020-10-15T16:24:18.476828Z",
     "start_time": "2020-10-15T16:24:18.348769Z"
    }
   },
   "outputs": [
    {
     "name": "stdout",
     "output_type": "stream",
     "text": [
      "The r-value is: 0.031429938222720936\n"
     ]
    },
    {
     "data": {
      "image/png": "[encoded data removed]",
      "text/plain": [
       "<Figure size 432x288 with 1 Axes>"
      ]
     },
     "metadata": {
      "needs_background": "light"
     },
     "output_type": "display_data"
    }
   ],
   "source": [
    "x_values = n_csv[\"Lat\"]\n",
    "y_values = n_csv[\"Wind Speed\"]\n",
    "(slope, intercept, rvalue, pvalue, stderr) = linregress(x_values, y_values)\n",
    "regress_values = x_values * slope + intercept\n",
    "line_eq = \"y = \" + str(round(slope,2)) + \"x + \" + str(round(intercept,2))\n",
    "\n",
    "plt.scatter(x_values,y_values)\n",
    "plt.plot(x_values,regress_values,\"r-\")\n",
    "plt.annotate(line_eq,(0,11.5),fontsize=15,color=\"red\")\n",
    "plt.xlabel(\"Latitude\")\n",
    "plt.ylabel(\"Wind Speed (m/s)\")\n",
    "\n",
    "print(f\"The r-value is: {rvalue**2}\")\n",
    "plt.show()"
   ]
  },
  {
   "cell_type": "markdown",
   "metadata": {},
   "source": [
    "####  Southern Hemisphere - Wind Speed (mph) vs. Latitude Linear Regression"
   ]
  },
  {
   "cell_type": "code",
   "execution_count": 38,
   "metadata": {
    "ExecuteTime": {
     "end_time": "2020-10-15T16:24:19.186834Z",
     "start_time": "2020-10-15T16:24:19.059467Z"
    }
   },
   "outputs": [
    {
     "name": "stdout",
     "output_type": "stream",
     "text": [
      "The r-value is: 0.050341188753084055\n"
     ]
    },
    {
     "data": {
      "image/png": "[encoded data removed]",
      "text/plain": [
       "<Figure size 432x288 with 1 Axes>"
      ]
     },
     "metadata": {
      "needs_background": "light"
     },
     "output_type": "display_data"
    }
   ],
   "source": [
    "x_values = s_csv[\"Lat\"]\n",
    "y_values = s_csv[\"Wind Speed\"]\n",
    "(slope, intercept, rvalue, pvalue, stderr) = linregress(x_values, y_values)\n",
    "regress_values = x_values * slope + intercept\n",
    "line_eq = \"y = \" + str(round(slope,2)) + \"x + \" + str(round(intercept,2))\n",
    "\n",
    "plt.scatter(x_values,y_values)\n",
    "plt.plot(x_values,regress_values,\"r-\")\n",
    "plt.annotate(line_eq,(-24,14),fontsize=15,color=\"red\")\n",
    "plt.xlabel(\"Latitude\")\n",
    "plt.ylabel(\"Wind Speed (m/s)\")\n",
    "\n",
    "print(f\"The r-value is: {rvalue**2}\")\n",
    "plt.show()"
   ]
  }
 ],
 "metadata": {
  "anaconda-cloud": {},
  "kernel_info": {
   "name": "python3"
  },
  "kernelspec": {
   "display_name": "Python 3",
   "language": "python",
   "name": "python3"
  },
  "language_info": {
   "codemirror_mode": {
    "name": "ipython",
    "version": 3
   },
   "file_extension": ".py",
   "mimetype": "text/x-python",
   "name": "python",
   "nbconvert_exporter": "python",
   "pygments_lexer": "ipython3",
   "version": "3.7.9"
  },
  "latex_envs": {
   "LaTeX_envs_menu_present": true,
   "autoclose": false,
   "autocomplete": true,
   "bibliofile": "biblio.bib",
   "cite_by": "apalike",
   "current_citInitial": 1,
   "eqLabelWithNumbers": true,
   "eqNumInitial": 1,
   "hotkeys": {
    "equation": "Ctrl-E",
    "itemize": "Ctrl-I"
   },
   "labels_anchors": false,
   "latex_user_defs": false,
   "report_style_numbering": false,
   "user_envs_cfg": false
  },
  "nteract": {
   "version": "0.12.3"
  }
 },
 "nbformat": 4,
 "nbformat_minor": 2
}
